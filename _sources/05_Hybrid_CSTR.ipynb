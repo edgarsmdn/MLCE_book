{
 "cells": [
  {
   "cell_type": "markdown",
   "metadata": {},
   "source": [
    "# 5. Hybrid model for CSTR 🔆\n",
    "\n",
    "<a href=\"https://githubtocolab.com/edgarsmdn/MLCE_book/blob/main/05_Hybrid_CSTR.ipynb\" target=\"_parent\"><img src=\"https://colab.research.google.com/assets/colab-badge.svg\" alt=\"Open in Colab\"/></a>\n",
    "\n",
    "This Notebook was initially prepared by [Marcus Wenzel](https://www.linkedin.com/in/marcus-wenzel-356a34184/?originalSubdomain=de) and few modifications have been made by us. "
   ]
  },
  {
   "cell_type": "markdown",
   "metadata": {},
   "source": [
    "## Goals of this exercise 🌟\n",
    "- We will build a hybrid model for a reactor \n",
    "- We will train the model using sensitivity equations and autodiff"
   ]
  },
  {
   "cell_type": "markdown",
   "metadata": {},
   "source": [
    "## A quick reminder ✅\n",
    "**Data-driven models** are also known as black-box models, or machine learning-based, empirical models. **Mechanistic models** are also called white-box models, or knowledge-based, first-principles, or phenomenological models. **Hybrid**, or grey-box models models combine understanding of physical/chemical/biological processes in mechanistic models with modelling unknown phenomena via data-driven approaches [{cite}`glassey2018hybrid, von2014hybrid, mcbride2020hybrid`]. \n",
    "\n",
    "Hybrid models aim to balance the advantages and disadvantages of mechanistic and data-driven models. Fundamental knowledge introduces structure to data-driven models, so not all interactions have to be learned by the model. ML-based models introduce a statistical element to knowledge-based models, so not all interactions have to be explained by first-principles.\n",
    "\n",
    "Advantages of hybrid models include: Lower data requirements, improved understanding of the system, and better extrapolation compared to purely data-driven models; higher estimation/prediction accuracy, more efficient model development compared to purely mechanistic models."
   ]
  },
  {
   "cell_type": "markdown",
   "metadata": {
    "id": "JSMsxFeTYxmh"
   },
   "source": [
    "## First-principles model part for CSTR\n",
    "\n",
    "We model a continuous stirred tank reactor (CSTR) with the following liquid-phase reaction:\n",
    "$$\n",
    "A + B \\rightleftarrows X\n",
    "$$\n",
    "\n",
    "The reactor is fed by a feed of flowrate $F_{in}$ and concentrations $C_{i, in}$ with $i$ denoting species $A$, $B$, and $X$. The reactor has constant volume $V$ and is assumed to be perfectly mixed, with an average residence time $\\tau$. The concentrations in the reactor are denoted by $C_{i}$. A stream with constant flowrate $F=F_{in}$ exits the reactor: \n",
    "\n",
    "```{figure} media/05_hybrid/CSTR_vars_2.png\n",
    ":alt: cstr\n",
    ":width: 40%\n",
    ":align: center\n",
    "\n",
    "Schematic representation of the CSTR considered here\n",
    "```\n",
    "\n",
    "Let's say we use the following reactor model:\n",
    "\n",
    "$$\n",
    "\\frac{\\mathrm{d}N_A}{\\mathrm{d}t} = C_{i,in}F_{in} - C_{i}F - \\nu_i rV\n",
    "$$\n",
    "\n",
    "$$\n",
    "\\Leftrightarrow \\frac{\\mathrm{d}C_A}{\\mathrm{d}t} = \\frac{C_{A,in} - C_A}{\\tau} - r\n",
    "$$\n",
    "\n",
    "$$\n",
    "\\frac{\\mathrm{d}C_B}{\\mathrm{d}t} = \\frac{C_{B,in} - C_B}{\\tau} - r\n",
    "$$\n",
    "\n",
    "$$\n",
    "\\frac{\\mathrm{d}C_X}{\\mathrm{d}t} = \\frac{C_{X,in} - C_X}{\\tau} + r\n",
    "$$\n",
    "\n",
    "\n",
    "The changes in concentration are a result of material added and withdrawn from the reactor as well as created or consumed by the reaction with stochiometric coefficients $\\nu_i$ and reaction rate $r$. We assume an average residence time of $\\tau= \\frac{V}{F} = 100s$. The inlet concentrations of substance $i$ into the reactor are given by\n",
    "\n",
    "\n",
    "$$\n",
    "C_{A,in} = 0.7\\,\\mathrm{kmol/m^3}\n",
    "$$\n",
    "\n",
    "$$\n",
    "C_{B,in} = 0.3\\,\\mathrm{kmol/m^3}\n",
    "$$\n",
    "\n",
    "$$\n",
    "C_{X,in} = 0\\,\\mathrm{kmol/m^3}\n",
    "$$\n",
    "\n",
    "\n",
    "For solving the differential equation system, we also need to know the initial concentration of each substance inside the reactor, denoted as $C_{i,0}$. From the data it is known that the experiment was started with the following initial concentrations:\n",
    "\n",
    "$$\n",
    "C_{A,0} = 0.5\\,\\mathrm{kmol/m^3}\n",
    "$$\n",
    "\n",
    "$$\n",
    "C_{B,0} = 0.5\\,\\mathrm{kmol/m^3}\n",
    "$$\n",
    "\n",
    "$$\n",
    "C_{X,0} = 0\\,\\mathrm{kmol/m^3}\n",
    "$$\n",
    "\n",
    "\n",
    "Time-dependent experimental measurements for all concentrations are available:\n",
    "\n",
    "\n",
    "```{figure} media/05_hybrid/CSTR_experimental.png\n",
    ":alt: cstr_measurements\n",
    ":width: 60%\n",
    ":align: center\n",
    "\n",
    "CSTR measurements of the concentrations.\n",
    "```\n",
    "\n",
    "\n",
    "The task is to construct a **serial hybrid model**, in which the reaction rate $r$ is described by a data-driven model. In this particular example, a **neural network** will be used."
   ]
  },
  {
   "cell_type": "markdown",
   "metadata": {
    "id": "fB3Ws3TGYxmp"
   },
   "source": [
    "## Serial model construction\n",
    "### Problem description\n",
    "\n",
    "The problem with constructing a serial hybrid model, as exemplified above, is that _the data-driven model cannot be trained independently of the differential equation system_ that describes the system (mechanistic part of the hybrid model). The neural network has to learn the function $r=f(C)$ but, of course, we do not have values for $r$ which we could use to train the model. One way to solve this problem is by using **sensitivity equations**. This approach will be discussed in the following."
   ]
  },
  {
   "cell_type": "markdown",
   "metadata": {
    "id": "wwkyCdLAYxmq"
   },
   "source": [
    "### Sensitivity equations and solution procedure\n",
    "\n",
    "We can describe the differential equation system as follows:\n",
    "\n",
    "$$\n",
    "\\frac{\\mathrm{d}y}{\\mathrm{d}t} = f(y, u,\\phi(y,w))\n",
    "$$\n",
    "\n",
    "where $y$ are states of the system, $u$ are system inputs and $\\phi(y,w)$ denotes a data-driven model that describes a part of the mechanistic model with the use of the states $y$ and a set of parameter values $w$. In the case of a neural network, the parameter vector $w$ includes all the weights and biases.\n",
    "\n",
    "In order to train any kind of model, we need a **loss or cost function** (denoted here by $J$) to estimate the quality of our model predictions. Often times, the sum of squares of the deviations between the model predictions and the data is used as an objective for parameter estimation:\n",
    "\n",
    "$$\n",
    "J = 0.5 \\sum_{i=1}^N\\left(y_i - y_{i, \\text{exp}}\\right)^2,\n",
    "$$\n",
    "\n",
    "where $y$ are the set of model predictions corresponding to the $N$ measurement points $y_\\text{i,exp}$. The model predictions depend on $u$ and $w$, i.e. $y=f(u,w)$.\n",
    "\n",
    "Usually, when training a neural network, the gradient of the loss function with respect to the network parameters is used for optimization. The gradient of the loss function with respect to a single parameter $w_j$ is given by\n",
    "\n",
    "$$\n",
    "\\frac{\\partial J}{\\partial w_j} = \\sum_{i=1}^N\\left(y_i - y_{i, \\text{exp}}\\right)\\frac{\\partial y}{\\partial w_j}.\n",
    "$$\n",
    "\n",
    "As can be seen, the gradient depends on $\\frac{\\partial y}{\\partial w_j}$, i.e. the sensitivities of the system states with respect to the parameters (the weights and biases characterizing the neural network). Training of the neural network is then achieved by iteratively updating the parameters according to\n",
    "\n",
    "$$\n",
    "w_j^{n+1} = w_j^{n} - g \\frac{\\partial J}{\\partial w_j^{n}},\n",
    "$$\n",
    "\n",
    "where $w_j^{n+1}$ is the updated parameter that is calculated from the current parameter $w_j^{n}$ using the gradient $\\frac{\\partial J}{\\partial w_j^{n}}$ and a learning rate (step size) $g$.\n",
    "\n",
    "The problem could be solved once we have the sensitivities $\\frac{\\partial y}{\\partial w_j}$. Since the mechanistic part of the model is given by a differential equation system, calculating these sensitivities is a bit more complicated than for an algebraic model. Using local sensitivity analysis of the ODE system and denoting the sensitivities $\\frac{\\partial y}{\\partial w_j}$ as $s_j$, the sensitivities can be described by\n",
    "\n",
    "$$\n",
    "\\frac{\\mathrm{d}s_j}{\\mathrm{d}t} = \\frac{\\partial f}{\\partial y}s_j + \\frac{\\partial f}{\\partial w_j}.\n",
    "$$\n",
    "\n",
    "This equation is a differential equation for the sensitivities. Since $f$ depends on the system states, the differential equations for the sensitivities need to be integrated simultaneously with the ODE system of the mechanistic part."
   ]
  },
  {
   "cell_type": "markdown",
   "metadata": {
    "id": "pz6WCB3hYxmr"
   },
   "source": [
    "### Loss function and sensitivity equations for hybrid CSTR model\n",
    "\n",
    "For the reactor example above, the loss function is defined as\n",
    "\n",
    "$$\n",
    "J = 0.5\\left[ \\sum_{i=1}^N\\left(C_{A,i} - C_{A,i,\\text{exp}}\\right)^2 + \\sum_{i=1}^N\\left(C_{B,i} - C_{B,i,\\text{exp}}\\right)^2 + \\sum_{i=1}^N\\left(C_{X,i} - C_{X,i,\\text{exp}}\\right)^2\\right],\n",
    "$$\n",
    "\n",
    "if we assume that we have measurements for all components at each point $i$. Then, the gradient of the loss function with respect to the parameters $w$ is given as \n",
    "\n",
    "$$\n",
    "\\frac{\\partial J}{\\partial w_j} = \\sum_{i=1}^N\\left(C_{A,i} - C_{A,i,\\text{exp}}\\right)\\frac{\\partial C_{A,i}}{\\partial w_j} + \\sum_{i=1}^N\\left(C_{B,i} - C_{B,i,\\text{exp}}\\right)\\frac{\\partial C_{B,i}}{\\partial w_j} + \\sum_{i=1}^N\\left(C_{X,i} - C_{X,i,\\text{exp}}\\right)\\frac{\\partial C_{X,i}}{\\partial w_j},\n",
    "$$\n",
    "\n",
    "since the concentrations $C_A$, $C_B$ and $C_X$ are all functions of the parameters of the neural network (weights and biases). The sensitivities are calculated by combining the sensitivity equations with the model definition, according to the following ODE system for each parameter $w_j$, :\n",
    "\n",
    "$$\n",
    "\\frac{\\mathrm{d}}{\\mathrm{d}t}\\begin{bmatrix}\n",
    "  \\frac{\\partial C_{A}}{\\partial w_j}\\\\\n",
    "  \\frac{\\partial C_{B}}{\\partial w_j}\\\\\n",
    "  \\frac{\\partial C_{X}}{\\partial w_j}\\\\\n",
    "\\end{bmatrix}\n",
    "=\n",
    "\\begin{bmatrix}\n",
    "  -\\frac{1}{\\tau}-\\frac{\\partial r}{\\partial c_A} & -\\frac{\\partial r}{\\partial c_B} & -\\frac{\\partial r}{\\partial c_X}\\\\\n",
    "  -\\frac{\\partial r}{\\partial c_A} & -\\frac{1}{\\tau}-\\frac{\\partial r}{\\partial c_B} & -\\frac{\\partial r}{\\partial c_X} \\\\\n",
    "  +\\frac{\\partial r}{\\partial c_A} & +\\frac{\\partial r}{\\partial c_B} & -\\frac{1}{\\tau}+\\frac{\\partial r}{\\partial c_X} \\\\\n",
    "\\end{bmatrix}\n",
    "\\begin{bmatrix}\n",
    "  \\frac{\\partial c_{A}}{\\partial w_j}\\\\\n",
    "  \\frac{\\partial c_{B}}{\\partial w_j}\\\\\n",
    "  \\frac{\\partial c_{X}}{\\partial w_j}\\\\\n",
    "\\end{bmatrix}\n",
    "+\n",
    "\\begin{bmatrix}\n",
    "  -\\frac{\\partial r}{\\partial w_j}\\\\\n",
    "  -\\frac{\\partial r}{\\partial w_j}\\\\\n",
    "  +\\frac{\\partial r}{\\partial w_j}\\\\\n",
    "\\end{bmatrix}\n",
    "$$\n",
    "\n",
    "Hence, for $p$ parameters and $l$ system states, there are $p*l$ sensitivity equations to be integrated additionally to the $l$ system equations. If a neural network with 3 input nodes, 10 hidden nodes and 1 output node is used, the total number of parameters is $3*10+10+10*1+1=51$ parameters for three states ($C_A$, $C_B$ and $C_X$). Thus, there would be $3*51=153$ sensitivity equations to be integrated, which quickly becomes computationally intensive."
   ]
  },
  {
   "cell_type": "markdown",
   "metadata": {},
   "source": [
    "## Differentiation & autograd\n",
    "In order to train and run the model, we will need to compute derivates. Automatic differentiation (autodiff) is an algorithm for the fast calculation of accurate derivatives. We will use autograd, the implementation of autodiff in the pytorch package.\n",
    "\n",
    "Let's see how it works:"
   ]
  },
  {
   "cell_type": "code",
   "execution_count": 1,
   "metadata": {},
   "outputs": [],
   "source": [
    "if 'google.colab' in str(get_ipython()):\n",
    "    !pip install autograd"
   ]
  },
  {
   "cell_type": "code",
   "execution_count": 2,
   "metadata": {},
   "outputs": [],
   "source": [
    "import autograd\n",
    "import autograd.numpy as np\n",
    "import matplotlib.pyplot as plt"
   ]
  },
  {
   "cell_type": "markdown",
   "metadata": {},
   "source": [
    "Let's define a function and differentiate it with autograd:"
   ]
  },
  {
   "cell_type": "code",
   "execution_count": 3,
   "metadata": {},
   "outputs": [
    {
     "name": "stdout",
     "output_type": "stream",
     "text": [
      "value of the function: -26.0\n",
      "value of the derivative: -19.0\n"
     ]
    }
   ],
   "source": [
    "def ex_function(x):\n",
    "    y = -1.*x*x*x + 3.*x*x - 10.*x + 4.\n",
    "    #y = np.tanh(x)\n",
    "    return y\n",
    "\n",
    "ex_deriv = autograd.grad(ex_function)\n",
    "\n",
    "input = 3.\n",
    "print(\"value of the function: \" + str(ex_function(input)))\n",
    "print(\"value of the derivative: \" + str(ex_deriv(input)))"
   ]
  },
  {
   "cell_type": "markdown",
   "metadata": {},
   "source": [
    "Note: Autograd required inputs to be `float` (`int` will not work!). "
   ]
  },
  {
   "cell_type": "markdown",
   "metadata": {},
   "source": [
    "We can show this for ranges:"
   ]
  },
  {
   "cell_type": "code",
   "execution_count": 4,
   "metadata": {},
   "outputs": [
    {
     "data": {
      "text/plain": [
       "Text(0, 0.5, 'f(x)')"
      ]
     },
     "execution_count": 4,
     "metadata": {},
     "output_type": "execute_result"
    },
    {
     "data": {
      "image/png": "[encoded data removed]",
      "text/plain": [
       "<Figure size 640x480 with 1 Axes>"
      ]
     },
     "metadata": {},
     "output_type": "display_data"
    }
   ],
   "source": [
    "deriv1 = autograd.grad(ex_function)\n",
    "deriv2 = autograd.grad(deriv1)\n",
    "deriv3 = autograd.grad(deriv2)\n",
    "\n",
    "x = np.linspace(-3,3,100, dtype=float)\n",
    "y = list()\n",
    "y1 = list()\n",
    "y2 = list()\n",
    "y3 = list()\n",
    "\n",
    "for i in range(len(x)):\n",
    "    y.append(ex_function(x[i]))\n",
    "    y1.append(deriv1(x[i]))\n",
    "    y2.append(deriv2(x[i]))\n",
    "    y3.append(deriv3(x[i]))\n",
    "\n",
    "f, ax = plt.subplots(1)\n",
    "ax.plot(x,y, label = \"f(x)\", color=plt.get_cmap(\"Blues\")(0.9))\n",
    "ax.plot(x, y1, label = \"f'(x)\", color=plt.get_cmap(\"Blues\")(0.7))\n",
    "ax.plot(x, y2, label = \"f''(x)\", color=plt.get_cmap(\"Blues\")(0.5))\n",
    "ax.plot(x, y3, label = \"f'''(x)\", color=plt.get_cmap(\"Blues\")(0.3))\n",
    "ax.axhline(0, color=\"black\", linewidth=0.5)\n",
    "ax.axvline(0, color=\"black\", linewidth=0.5)\n",
    "#f.legend(loc=(0.75,0.2))\n",
    "f.legend(loc=\"center right\", bbox_to_anchor=(0.9,0.25), edgecolor=\"black\")\n",
    "ax.set_xlabel(\"x\")\n",
    "ax.set_ylabel(\"f(x)\")"
   ]
  },
  {
   "cell_type": "markdown",
   "metadata": {},
   "source": [
    "### Exercise - autograd ❗❗\n",
    "\n",
    "Just to practice: implement another function and calculate its derivatives using autograd. Plot them similarly to the above example."
   ]
  },
  {
   "cell_type": "code",
   "execution_count": 5,
   "metadata": {},
   "outputs": [],
   "source": [
    "# Your code here"
   ]
  },
  {
   "cell_type": "markdown",
   "metadata": {
    "id": "CKeD4awHYxms"
   },
   "source": [
    "## Implementation\n",
    "\n",
    "Let's first import the relevant packages:"
   ]
  },
  {
   "cell_type": "code",
   "execution_count": 6,
   "metadata": {},
   "outputs": [],
   "source": [
    "from autograd import jacobian\n",
    "from autograd.misc.optimizers import adam\n",
    "from autograd.scipy.integrate import odeint\n",
    "import matplotlib.pyplot as plt\n",
    "import pandas as pd\n",
    "import autograd.numpy as np"
   ]
  },
  {
   "cell_type": "markdown",
   "metadata": {},
   "source": [
    "Now we build the neural network. The first function generates random numbers in the shape needed to initialize the neural network. The second function is handed the parameters describing the network as well as an input, and returns the prediction of the network."
   ]
  },
  {
   "cell_type": "code",
   "execution_count": 7,
   "metadata": {
    "id": "SuiF9j8bgH8j"
   },
   "outputs": [],
   "source": [
    "# initialize random number generator for repeatable results\n",
    "np.random.seed(0)\n",
    "\n",
    "def init_random_params(layer_sizes, scale):\n",
    "    \"\"\"Build a list of weights and biases, one for each layer in the net.\n",
    "    layers is a list with the number of nodes in each layer. Minimum number of layers is three (input, hidden \n",
    "    and output) scale is a constant factor to scale the random values (down or up) if necessary\"\"\"\n",
    "    params = []\n",
    "    for idx in range(len(layer_sizes)-1):\n",
    "        weight_mat_elem = layer_sizes[idx]*layer_sizes[idx+1]\n",
    "        bias_vec_elem = layer_sizes[idx+1]\n",
    "        params = np.append(params, np.random.rand(weight_mat_elem+bias_vec_elem))\n",
    "    return params*scale\n",
    "\n",
    "def neural_net_predict(params, inputs):\n",
    "    \"\"\"Implements a (deep) neural network for regression.\n",
    "       params is a list of weights and biases.\n",
    "       inputs is a matrix of input values.\n",
    "       returns network prediction.\"\"\"\n",
    "    # Make sure that params is a vector\n",
    "    params = params.flatten()\n",
    "    # set separator value for easier indexing of the parameters and assigning them to weights and biases \n",
    "    # for each layer\n",
    "    sep = 0\n",
    "    # loop over all layers\n",
    "    for idx in range(len(layer_sizes)-1):\n",
    "        # calculate weight matrix\n",
    "        W = params[sep:sep+layer_sizes[idx]*layer_sizes[idx+1]].reshape(layer_sizes[idx],layer_sizes[idx+1])\n",
    "        # calculate bias vector\n",
    "        b = params[sep+layer_sizes[idx]*layer_sizes[idx+1]:sep+layer_sizes[idx]*layer_sizes[idx+1]\n",
    "                   +layer_sizes[idx+1]]\n",
    "        # set new separator value\n",
    "        sep = layer_sizes[idx]*layer_sizes[idx+1]+layer_sizes[idx+1]\n",
    "        # calculate output as weighted sum of inputs plus bias\n",
    "        outputs = np.dot(inputs, W) + b\n",
    "        # apply activation function and assign the result as the input to the next layer \n",
    "        # (note that this has no effect on the output layer)\n",
    "        inputs = 1/(1 + np.exp(-outputs))\n",
    "    return outputs"
   ]
  },
  {
   "cell_type": "markdown",
   "metadata": {},
   "source": [
    "Let's now initialized the model parameters:"
   ]
  },
  {
   "cell_type": "code",
   "execution_count": 8,
   "metadata": {
    "id": "fymDeYGEgQx_"
   },
   "outputs": [],
   "source": [
    "# system parameters\n",
    "tau = 100\n",
    "\n",
    "# inlet concentrations\n",
    "c_Ain = 0.7\n",
    "c_Bin = 0.3\n",
    "c_Xin = 0\n",
    "\n",
    "# initial conditions for the concentrations in the reactor\n",
    "c_A0 = 0.5\n",
    "c_B0 = 0.5\n",
    "c_X0 = 0\n",
    "\n",
    "# end time for integration\n",
    "t_end = 100\n",
    "n_samples = 30\n",
    "t_span = np.linspace(0, t_end, n_samples)"
   ]
  },
  {
   "cell_type": "markdown",
   "metadata": {},
   "source": [
    "Now we implement the mechanistic part of the model:"
   ]
  },
  {
   "cell_type": "code",
   "execution_count": 9,
   "metadata": {
    "id": "RSws_AhogTns"
   },
   "outputs": [],
   "source": [
    "# define system equations\n",
    "def dcdt(c, t, params):\n",
    "    \"\"\"Mechanistic part of the hybrid model (ODE system describing the time-dependent \n",
    "    concentrations in the reactor)\"\"\"\n",
    "    # disassemble input vector\n",
    "    c_A, c_B, c_X = c\n",
    "    # calculate reaction rates by neural network prediction\n",
    "    r = neural_net_predict(params, c)\n",
    "    #r = 0.08*c_A**0.7*c_B**1.3 # true underlying reaction rate\n",
    "    # system equations\n",
    "    dcdt = [(c_Ain-c_A)/tau - r,\n",
    "            (c_Bin-c_B)/tau - r,\n",
    "            (c_Xin-c_X)/tau + r]\n",
    "    return np.array(dcdt)"
   ]
  },
  {
   "cell_type": "markdown",
   "metadata": {},
   "source": [
    "Now we use the autograd package to calculate the jacobian with respect to the system states and the parameters, which we'll need for the sensitivity equations:"
   ]
  },
  {
   "cell_type": "code",
   "execution_count": 10,
   "metadata": {
    "id": "uMenTWFCgXEd"
   },
   "outputs": [],
   "source": [
    "# calculate system jacobian and parameter derivatives by automatic differentiation with autograd\n",
    "dfdc = autograd.jacobian(dcdt, 0)    # system jacobian\n",
    "dfdp = autograd.jacobian(dcdt, 2)    # parameter derivatives"
   ]
  },
  {
   "cell_type": "markdown",
   "metadata": {},
   "source": [
    "We write a function that takes in the system variables $y$ at time $t$ and calculates the sensitivities:"
   ]
  },
  {
   "cell_type": "code",
   "execution_count": 11,
   "metadata": {
    "id": "36nAnk9CgdkE"
   },
   "outputs": [],
   "source": [
    "# differential equation system\n",
    "def DiffEqs(y, t, params):\n",
    "    \"\"\"Hybrid model including the ODE system for the concentrations as well as the sensitivities \n",
    "    that are used for training the neural network part of the model\"\"\"\n",
    "    # disassemble input vector\n",
    "    c = y[:3]\n",
    "    s = y[3:]\n",
    "    # evaluate system jacobian at current point\n",
    "    dfdc_eval = dfdc(c, t, params)\n",
    "    # evaluate parameter derivatives at current point\n",
    "    dfdp_eval = dfdp(c, t, params) # Shape: (3, 1, 16)\n",
    "    \n",
    "    # define sensitivities for all parameters\n",
    "    dcdp = np.zeros(len(s)) # preallocate memory for sensitivities\n",
    "    for i in range(len_p):  # loop over all parameters to construct the corresponding sensitivity equations\n",
    "        dcdp[i*len_c:(i+1)*len_c] = (dfdc_eval @ s[i*len_c:(i+1)*len_c]).flatten() + dfdp_eval[:,0,i] \n",
    "        # construct sensitivities (see https://docs.sciml.ai/v4.0/analysis/sensitivity.html#Example-solving-an-\n",
    "        # ODELocalSensitivityProblem-1)\n",
    "        # [c1/w1, c2/w1, c3/w1, c1/w2, ...]\n",
    "    return np.concatenate((dcdt(c, t, params).flatten(), dcdp))"
   ]
  },
  {
   "cell_type": "markdown",
   "metadata": {},
   "source": [
    "For training the network, the following parameters need to be specified:"
   ]
  },
  {
   "cell_type": "code",
   "execution_count": 12,
   "metadata": {
    "id": "CfOxtugKglVm"
   },
   "outputs": [],
   "source": [
    "# Training parameters\n",
    "scale = 0.0005\n",
    "num_epochs = 1000\n",
    "step_size = 0.001\n",
    "\n",
    "# set neural network size\n",
    "layer_sizes = [3, 3, 1] # no. of nodes in input layer, hidden layer(s) and output layer\n",
    "\n",
    "# initialize parameter vector for neural network or load saved parameters\n",
    "init_params = init_random_params(layer_sizes, scale)"
   ]
  },
  {
   "cell_type": "markdown",
   "metadata": {},
   "source": [
    "Now we specify the initial value of the variables:"
   ]
  },
  {
   "cell_type": "code",
   "execution_count": 13,
   "metadata": {
    "id": "7qpT8g6Tg-iV"
   },
   "outputs": [],
   "source": [
    "# assemble initial value vector\n",
    "c0 = [c_A0, c_B0, c_X0]\n",
    "len_c = len(c0)\n",
    "len_p = len(init_params)\n",
    "s0 = np.zeros((len_p*len_c))\n",
    "y0 = np.concatenate((c0,s0))"
   ]
  },
  {
   "cell_type": "markdown",
   "metadata": {},
   "source": [
    "Let's import the training data"
   ]
  },
  {
   "cell_type": "code",
   "execution_count": 14,
   "metadata": {},
   "outputs": [],
   "source": [
    "if 'google.colab' in str(get_ipython()):\n",
    "  df = pd.read_csv(\"https://raw.githubusercontent.com/edgarsmdn/MLCE_book/main/references/CSTR_ODE_data.txt\")\n",
    "else:\n",
    "  df = pd.read_csv(\"references/CSTR_ODE_data.txt\", sep=';')\n",
    "c_exp = np.array(df)"
   ]
  },
  {
   "cell_type": "markdown",
   "metadata": {},
   "source": [
    "The following defines the objective function, also known as loss/risk/error function. First, the model is run, then the difference between experimental data and model prediction is calculated as objective value:"
   ]
  },
  {
   "cell_type": "code",
   "execution_count": 15,
   "metadata": {
    "id": "-CBjYSzWhFPr"
   },
   "outputs": [],
   "source": [
    "def objective(params, iter):\n",
    "    \"\"\"Objective function (sum of squared errors between measurements and model predictions)\"\"\"\n",
    "    # calculate hybrid model in forward direction with odeint\n",
    "    sol = odeint(DiffEqs, y0, t_span, args=(params,))\n",
    "    # disassemble results\n",
    "    c_pred = sol[:,:3] # predicted concentrations\n",
    "    return np.trace((c_pred - c_exp).T @ (c_pred - c_exp))"
   ]
  },
  {
   "cell_type": "markdown",
   "metadata": {},
   "source": [
    "In order to train the model, we require the gradient of the objective with respect to the parameters:"
   ]
  },
  {
   "cell_type": "code",
   "execution_count": 16,
   "metadata": {
    "id": "3H6KjJfsiuMO"
   },
   "outputs": [],
   "source": [
    "def objective_grad(params, iter):\n",
    "    \"\"\"Function calculates the gradient of the objective function with respect to the network parameters\"\"\"\n",
    "    sol = odeint(DiffEqs, y0, t_span, args=(params,))\n",
    "    # disassemble results\n",
    "    c_pred = sol[:,:3] # predicted concentrations\n",
    "    sens = sol[:,3:]   # sensititvities 16*3=48 -> c1/w1, c2/w1, c3/w1, c1/w2.....\n",
    "    # calculate gradients of the loss function\n",
    "    loss_grad = np.zeros(len_p) # set vector size\n",
    "    for comp_idx in range(len_c):\n",
    "        # For loop is running for each concentration and all parameters\n",
    "        loss_grad += sens[:,comp_idx::3].T @ (c_pred[:,comp_idx] - c_exp[:,comp_idx])\n",
    "    return loss_grad"
   ]
  },
  {
   "cell_type": "markdown",
   "metadata": {},
   "source": [
    "Finally, the following function allows us to print the status of the model during training:"
   ]
  },
  {
   "cell_type": "code",
   "execution_count": 17,
   "metadata": {
    "id": "9MvPw2uiYxmt"
   },
   "outputs": [],
   "source": [
    "def summary(params, iter, gradient):\n",
    "    \"\"\"Callback function gives informative output during optimization\"\"\"\n",
    "    if iter % 10 == 0:\n",
    "        print('step {0:5d}: {1:1.3e}'.format(iter, objective(params, iter)))\n",
    "        np.save('Params', params)"
   ]
  },
  {
   "cell_type": "markdown",
   "metadata": {},
   "source": [
    "Now let's train the model with adam! Remember, adam is a gradient descent method with an adaptive learning rate. It uses  both the previous gradients (momentum) and their squares (RMSProp) to calculate the next iteration. \n",
    "\n",
    "Note: the code will take a few minutes to run."
   ]
  },
  {
   "cell_type": "code",
   "execution_count": 18,
   "metadata": {
    "colab": {
     "base_uri": "https://localhost:8080/"
    },
    "id": "-w7FV2Ahko7G",
    "outputId": "6188f026-d1c3-4385-a3df-84cb9209340a"
   },
   "outputs": [
    {
     "name": "stdout",
     "output_type": "stream",
     "text": [
      "step     0: 4.279e+00\n",
      "step    10: 4.804e-01\n",
      "step    20: 5.815e-01\n",
      "step    30: 4.494e-01\n",
      "step    40: 3.714e-01\n",
      "step    50: 3.808e-01\n",
      "step    60: 3.715e-01\n",
      "step    70: 3.713e-01\n",
      "step    80: 3.696e-01\n",
      "step    90: 3.695e-01\n",
      "step   100: 3.689e-01\n",
      "step   110: 3.685e-01\n",
      "step   120: 3.681e-01\n",
      "step   130: 3.676e-01\n",
      "step   140: 3.672e-01\n",
      "step   150: 3.667e-01\n",
      "step   160: 3.662e-01\n",
      "step   170: 3.656e-01\n",
      "step   180: 3.650e-01\n",
      "step   190: 3.644e-01\n",
      "step   200: 3.637e-01\n",
      "step   210: 3.630e-01\n",
      "step   220: 3.622e-01\n",
      "step   230: 3.614e-01\n",
      "step   240: 3.605e-01\n",
      "step   250: 3.596e-01\n",
      "step   260: 3.586e-01\n",
      "step   270: 3.575e-01\n",
      "step   280: 3.563e-01\n",
      "step   290: 3.550e-01\n",
      "step   300: 3.536e-01\n",
      "step   310: 3.521e-01\n",
      "step   320: 3.505e-01\n",
      "step   330: 3.487e-01\n",
      "step   340: 3.468e-01\n",
      "step   350: 3.447e-01\n",
      "step   360: 3.425e-01\n",
      "step   370: 3.401e-01\n",
      "step   380: 3.375e-01\n",
      "step   390: 3.347e-01\n",
      "step   400: 3.317e-01\n",
      "step   410: 3.284e-01\n",
      "step   420: 3.250e-01\n",
      "step   430: 3.212e-01\n",
      "step   440: 3.173e-01\n",
      "step   450: 3.130e-01\n",
      "step   460: 3.085e-01\n",
      "step   470: 3.037e-01\n",
      "step   480: 2.986e-01\n",
      "step   490: 2.932e-01\n",
      "step   500: 2.876e-01\n",
      "step   510: 2.816e-01\n",
      "step   520: 2.754e-01\n",
      "step   530: 2.689e-01\n",
      "step   540: 2.622e-01\n",
      "step   550: 2.552e-01\n",
      "step   560: 2.480e-01\n",
      "step   570: 2.407e-01\n",
      "step   580: 2.331e-01\n",
      "step   590: 2.254e-01\n",
      "step   600: 2.176e-01\n",
      "step   610: 2.097e-01\n",
      "step   620: 2.017e-01\n",
      "step   630: 1.937e-01\n",
      "step   640: 1.857e-01\n",
      "step   650: 1.778e-01\n",
      "step   660: 1.699e-01\n",
      "step   670: 1.622e-01\n",
      "step   680: 1.545e-01\n",
      "step   690: 1.470e-01\n",
      "step   700: 1.397e-01\n",
      "step   710: 1.325e-01\n",
      "step   720: 1.256e-01\n",
      "step   730: 1.189e-01\n",
      "step   740: 1.125e-01\n",
      "step   750: 1.062e-01\n",
      "step   760: 1.003e-01\n",
      "step   770: 9.456e-02\n",
      "step   780: 8.910e-02\n",
      "step   790: 8.389e-02\n",
      "step   800: 7.895e-02\n",
      "step   810: 7.425e-02\n",
      "step   820: 6.979e-02\n",
      "step   830: 6.557e-02\n",
      "step   840: 6.159e-02\n",
      "step   850: 5.782e-02\n",
      "step   860: 5.427e-02\n",
      "step   870: 5.093e-02\n",
      "step   880: 4.778e-02\n",
      "step   890: 4.483e-02\n",
      "step   900: 4.205e-02\n",
      "step   910: 3.943e-02\n",
      "step   920: 3.698e-02\n",
      "step   930: 3.469e-02\n",
      "step   940: 3.253e-02\n",
      "step   950: 3.051e-02\n",
      "step   960: 2.862e-02\n",
      "step   970: 2.685e-02\n",
      "step   980: 2.519e-02\n",
      "step   990: 2.364e-02\n"
     ]
    }
   ],
   "source": [
    "# Optimize the network parameters\n",
    "optimized_params = adam(objective_grad, init_params, step_size=step_size, num_iters=num_epochs, callback=summary)"
   ]
  },
  {
   "cell_type": "markdown",
   "metadata": {},
   "source": [
    "Let's compare model solutions with the initial parameters vs. the optimized parameters. We need to run the model forward in time, first with the initial parameters, then with the parameters optimized in training:"
   ]
  },
  {
   "cell_type": "code",
   "execution_count": 19,
   "metadata": {
    "id": "-pCQcF2ektY9"
   },
   "outputs": [],
   "source": [
    "sol_init = odeint(DiffEqs, y0, t_span, args=(init_params,))\n",
    "sol_opt = odeint(DiffEqs, y0, t_span, args=(optimized_params,))"
   ]
  },
  {
   "cell_type": "markdown",
   "metadata": {},
   "source": [
    "Then we plot the trajectories for the three components, for the untrained model vs. the trained model:"
   ]
  },
  {
   "cell_type": "code",
   "execution_count": 20,
   "metadata": {
    "colab": {
     "base_uri": "https://localhost:8080/",
     "height": 279
    },
    "id": "kU_ngpOHYxmw",
    "outputId": "afbff4d2-f156-4287-d45d-870f2d2e2470"
   },
   "outputs": [
    {
     "data": {
      "image/png": "[encoded data removed]",
      "text/plain": [
       "<Figure size 640x480 with 1 Axes>"
      ]
     },
     "metadata": {},
     "output_type": "display_data"
    }
   ],
   "source": [
    "# plot system trajectories\n",
    "plt.figure(1)\n",
    "plt.plot(t_span, sol_init[:,:len_c],'--')\n",
    "plt.gca().set_prop_cycle(None)\n",
    "plt.plot(t_span, sol_opt[:,:len_c])\n",
    "plt.gca().set_prop_cycle(None)\n",
    "plt.plot(t_span, c_exp, 'x')\n",
    "plt.xlabel('t')\n",
    "plt.ylabel('c')\n",
    "plt.legend(('initial c_A', 'initial c_B', 'initial c_X', \n",
    "            'final c_A', 'final c_B', 'final c_X'), loc='upper right',ncol=2) # make a legend\n",
    "plt.grid()\n",
    "plt.show()"
   ]
  },
  {
   "cell_type": "markdown",
   "metadata": {},
   "source": [
    "## References\n",
    "\n",
    "```{bibliography}\n",
    ":filter: docname in docnames\n",
    "```"
   ]
  }
 ],
 "metadata": {
  "colab": {
   "name": "Hybrid model for CSTR.ipynb",
   "provenance": []
  },
  "kernelspec": {
   "display_name": "Python 3 (ipykernel)",
   "language": "python",
   "name": "python3"
  },
  "language_info": {
   "codemirror_mode": {
    "name": "ipython",
    "version": 3
   },
   "file_extension": ".py",
   "mimetype": "text/x-python",
   "name": "python",
   "nbconvert_exporter": "python",
   "pygments_lexer": "ipython3",
   "version": "3.7.15"
  },
  "latex_envs": {
   "LaTeX_envs_menu_present": true,
   "autoclose": false,
   "autocomplete": true,
   "bibliofile": "biblio.bib",
   "cite_by": "apalike",
   "current_citInitial": 1,
   "eqLabelWithNumbers": true,
   "eqNumInitial": 1,
   "hotkeys": {
    "equation": "Ctrl-E",
    "itemize": "Ctrl-I"
   },
   "labels_anchors": false,
   "latex_user_defs": false,
   "report_style_numbering": false,
   "user_envs_cfg": false
  },
  "toc": {
   "base_numbering": 1,
   "nav_menu": {},
   "number_sections": true,
   "sideBar": true,
   "skip_h1_title": false,
   "title_cell": "Table of Contents",
   "title_sidebar": "Contents",
   "toc_cell": false,
   "toc_position": {},
   "toc_section_display": true,
   "toc_window_display": false
  },
  "varInspector": {
   "cols": {
    "lenName": 16,
    "lenType": 16,
    "lenVar": 40
   },
   "kernels_config": {
    "python": {
     "delete_cmd_postfix": "",
     "delete_cmd_prefix": "del ",
     "library": "var_list.py",
     "varRefreshCmd": "print(var_dic_list())"
    },
    "r": {
     "delete_cmd_postfix": ") ",
     "delete_cmd_prefix": "rm(",
     "library": "var_list.r",
     "varRefreshCmd": "cat(var_dic_list()) "
    }
   },
   "oldHeight": 409.25,
   "position": {
    "height": "40px",
    "left": "1266px",
    "right": "20px",
    "top": "120px",
    "width": "250px"
   },
   "types_to_exclude": [
    "module",
    "function",
    "builtin_function_or_method",
    "instance",
    "_Feature"
   ],
   "varInspector_section_display": "none",
   "window_display": true
  }
 },
 "nbformat": 4,
 "nbformat_minor": 1
}
