{
 "cells": [
  {
   "cell_type": "markdown",
   "metadata": {
    "id": "YMiI5CDX5JZ0"
   },
   "source": [
    "# 2. kNN for (Q)SPR modeling ⚛️\n",
    "\n",
    "<a href=\"https://githubtocolab.com/edgarsmdn/MLCE_book/blob/main/02_kNN_QSPR.ipynb\" target=\"_parent\"><img src=\"https://colab.research.google.com/assets/colab-badge.svg\" alt=\"Open in Colab\"/></a>"
   ]
  },
  {
   "cell_type": "markdown",
   "metadata": {
    "id": "dlaMhdbLXofj"
   },
   "source": [
    "## Goals of this exercise 🌟"
   ]
  },
  {
   "cell_type": "markdown",
   "metadata": {
    "id": "YCWB0IvbXp4O"
   },
   "source": [
    "*   We will learn how to construct a simple SPR model using kNN\n",
    "*   We will learn the importance of data normalization (scaling)\n",
    "*   We will review the concepts of training and test split and cross-validation\n",
    "*   We will review some of the performance metrics for assesing classification models"
   ]
  },
  {
   "cell_type": "markdown",
   "metadata": {
    "id": "XI_fHNSEYck6"
   },
   "source": [
    "## A quick reminder ✅"
   ]
  },
  {
   "cell_type": "markdown",
   "metadata": {
    "id": "8wst0cbF39zU"
   },
   "source": [
    "Probably the simplest data-driven model that you can think of is k-nearest neighbours (kNN). It simply predicts future data as the average (or mode) of the \"k\" nearest neighbours of the queried point.\n",
    "\n",
    "As simple as this idea might be, it works relatively good in various applications. One of them is the generation of (quantitative) structure-property relationships ((Q)SPR) models {cite}`yuan2019developing, shen2003development`. Whether the word \"Quantitative\" is sometimes included or not depends on whether the model in question is a regression model or a classification model. Do you remember the difference?\n",
    "\n",
    "The key question in kNN is what do we consider a neighbour and what not? This indicates us that we need to define a sort of similarity or distance metric that allows us to distinguish neighbouring points from points that are far away. \n",
    "\n",
    "Common distance metrics use the different [mathematical norms](https://en.wikipedia.org/wiki/Norm_(mathematics)). For example, the Euclidean distance:\n",
    "\n",
    "$$\n",
    " d(\\textbf{x}, \\textbf{x'}) = \\sqrt{\\sum_i^D (x_i - x'_i)^2}\n",
    "$$\n",
    "\n",
    "```{figure} media/02_kNN/kNN.png\n",
    ":alt: kNN\n",
    ":width: 75%\n",
    ":align: center\n",
    "\n",
    "Among the k-nearest neighbours (k=5), the majority of points are red 1s. Therefore, the queried point (green x) will be labeled as \"red 1\". Image taken from {cite}`murphy2022probabilistic`. \n",
    "```\n",
    "\n",
    "\n"
   ]
  },
  {
   "cell_type": "markdown",
   "metadata": {
    "id": "1sWnwvt_FjQa"
   },
   "source": [
    "Let's exemplify the use of kNN by constructing a SPR model that predicts the whether a molecule is mutagenic or not. \n",
    "\n",
    "Mutagenicity is the property of substances to induce genetic mutation. It is one of the most important environmental, health and safety (EHS) properties to check when dealing with novel chemicals (e.g., drugs or solvents). In this case, we are going to use the data of mutagenicity on Salmonella typhimurium (Ames test). This dataset was collected by the [Istituto di Ricerche Farmacologiche Mario Negri](https://www.marionegri.it/), merging experimental data from a benchmark dataset\n",
    "compiled by {cite}`hansen2009benchmark` from a collection of data made available\n",
    "by the [Japan Health Ministry](https://www.nihs.go.jp/dgm/amesqsar.html) within their Ames (Q)SAR project."
   ]
  },
  {
   "cell_type": "markdown",
   "metadata": {
    "id": "R9-iQHe-XZm6"
   },
   "source": [
    "Let's fist import some libraries"
   ]
  },
  {
   "cell_type": "code",
   "execution_count": 1,
   "metadata": {
    "id": "V3C3ZNc8XjsA"
   },
   "outputs": [],
   "source": [
    "import pandas as pd\n",
    "import matplotlib.pyplot as plt\n",
    "import seaborn as sn\n",
    "import numpy as np\n",
    "%matplotlib inline"
   ]
  },
  {
   "cell_type": "markdown",
   "metadata": {
    "id": "oWmicwjH5Ksm"
   },
   "source": [
    "## Get data 📚\n",
    "\n",
    "We have previously computed some molecular descriptors that will serve as input to our model. However, this is also an important step to consider when facing a problem like this: what are the important inputs to model mutagenicity? how do we know if these pre-computed features are enough for modeling mutagenicity? can we generate relevant molecular features automatically? 🤔\n",
    "\n",
    "Ok, let's use [pandas](https://pandas.pydata.org/) to import the data as a DataFrame..."
   ]
  },
  {
   "cell_type": "code",
   "execution_count": 2,
   "metadata": {
    "colab": {
     "base_uri": "https://localhost:8080/",
     "height": 679
    },
    "id": "vn-yAIhU5ILt",
    "outputId": "a468e405-9061-4763-8ece-0b8223d03486"
   },
   "outputs": [
    {
     "data": {
      "text/html": [
       "<div>\n",
       "<style scoped>\n",
       "    .dataframe tbody tr th:only-of-type {\n",
       "        vertical-align: middle;\n",
       "    }\n",
       "\n",
       "    .dataframe tbody tr th {\n",
       "        vertical-align: top;\n",
       "    }\n",
       "\n",
       "    .dataframe thead th {\n",
       "        text-align: right;\n",
       "    }\n",
       "</style>\n",
       "<table border=\"1\" class=\"dataframe\">\n",
       "  <thead>\n",
       "    <tr style=\"text-align: right;\">\n",
       "      <th></th>\n",
       "      <th>Unnamed: 0</th>\n",
       "      <th>Id</th>\n",
       "      <th>CAS</th>\n",
       "      <th>SMILES</th>\n",
       "      <th>Status</th>\n",
       "      <th>Experimental value</th>\n",
       "      <th>Predicted value</th>\n",
       "      <th>NumValenceElectrons</th>\n",
       "      <th>qed</th>\n",
       "      <th>TPSA</th>\n",
       "      <th>MolMR</th>\n",
       "      <th>BalabanJ</th>\n",
       "      <th>BertzCT</th>\n",
       "      <th>MolWt</th>\n",
       "      <th>MolLogP</th>\n",
       "    </tr>\n",
       "  </thead>\n",
       "  <tbody>\n",
       "    <tr>\n",
       "      <th>0</th>\n",
       "      <td>0</td>\n",
       "      <td>1</td>\n",
       "      <td>100-00-5</td>\n",
       "      <td>O=[N+]([O-])c1ccc(cc1)Cl</td>\n",
       "      <td>Training</td>\n",
       "      <td>1</td>\n",
       "      <td>1</td>\n",
       "      <td>52</td>\n",
       "      <td>0.463602</td>\n",
       "      <td>43.14</td>\n",
       "      <td>38.1064</td>\n",
       "      <td>3.003401</td>\n",
       "      <td>244.429658</td>\n",
       "      <td>157.556</td>\n",
       "      <td>2.24820</td>\n",
       "    </tr>\n",
       "    <tr>\n",
       "      <th>1</th>\n",
       "      <td>1</td>\n",
       "      <td>2</td>\n",
       "      <td>100-01-6</td>\n",
       "      <td>O=[N+]([O-])c1ccc(N)cc1</td>\n",
       "      <td>Training</td>\n",
       "      <td>1</td>\n",
       "      <td>1</td>\n",
       "      <td>52</td>\n",
       "      <td>0.359544</td>\n",
       "      <td>69.16</td>\n",
       "      <td>37.5088</td>\n",
       "      <td>3.003401</td>\n",
       "      <td>242.429658</td>\n",
       "      <td>138.126</td>\n",
       "      <td>1.17700</td>\n",
       "    </tr>\n",
       "    <tr>\n",
       "      <th>2</th>\n",
       "      <td>2</td>\n",
       "      <td>3</td>\n",
       "      <td>100-02-7</td>\n",
       "      <td>O=[N+]([O-])c1ccc(O)cc1</td>\n",
       "      <td>Training</td>\n",
       "      <td>0</td>\n",
       "      <td>1</td>\n",
       "      <td>52</td>\n",
       "      <td>0.470728</td>\n",
       "      <td>63.37</td>\n",
       "      <td>34.7612</td>\n",
       "      <td>3.003401</td>\n",
       "      <td>241.674771</td>\n",
       "      <td>139.110</td>\n",
       "      <td>1.30040</td>\n",
       "    </tr>\n",
       "    <tr>\n",
       "      <th>3</th>\n",
       "      <td>3</td>\n",
       "      <td>4</td>\n",
       "      <td>100-11-8</td>\n",
       "      <td>O=[N+]([O-])c1ccc(cc1)CBr</td>\n",
       "      <td>Training</td>\n",
       "      <td>1</td>\n",
       "      <td>0</td>\n",
       "      <td>58</td>\n",
       "      <td>0.432586</td>\n",
       "      <td>43.14</td>\n",
       "      <td>45.7274</td>\n",
       "      <td>2.913802</td>\n",
       "      <td>257.648013</td>\n",
       "      <td>216.034</td>\n",
       "      <td>2.48970</td>\n",
       "    </tr>\n",
       "    <tr>\n",
       "      <th>4</th>\n",
       "      <td>4</td>\n",
       "      <td>5</td>\n",
       "      <td>100-12-9</td>\n",
       "      <td>O=[N+]([O-])c1ccc(cc1)CC</td>\n",
       "      <td>Training</td>\n",
       "      <td>0</td>\n",
       "      <td>0</td>\n",
       "      <td>58</td>\n",
       "      <td>0.479785</td>\n",
       "      <td>43.14</td>\n",
       "      <td>42.4744</td>\n",
       "      <td>2.913802</td>\n",
       "      <td>253.299498</td>\n",
       "      <td>151.165</td>\n",
       "      <td>2.15720</td>\n",
       "    </tr>\n",
       "    <tr>\n",
       "      <th>...</th>\n",
       "      <td>...</td>\n",
       "      <td>...</td>\n",
       "      <td>...</td>\n",
       "      <td>...</td>\n",
       "      <td>...</td>\n",
       "      <td>...</td>\n",
       "      <td>...</td>\n",
       "      <td>...</td>\n",
       "      <td>...</td>\n",
       "      <td>...</td>\n",
       "      <td>...</td>\n",
       "      <td>...</td>\n",
       "      <td>...</td>\n",
       "      <td>...</td>\n",
       "      <td>...</td>\n",
       "    </tr>\n",
       "    <tr>\n",
       "      <th>5759</th>\n",
       "      <td>5759</td>\n",
       "      <td>5767</td>\n",
       "      <td>20395-16-8</td>\n",
       "      <td>O=C1N(C(=O)N(C(=O)N1CC=C)CC2OC2)CC=C</td>\n",
       "      <td>Training</td>\n",
       "      <td>1</td>\n",
       "      <td>0</td>\n",
       "      <td>102</td>\n",
       "      <td>0.485090</td>\n",
       "      <td>78.53</td>\n",
       "      <td>69.3560</td>\n",
       "      <td>2.668492</td>\n",
       "      <td>627.435628</td>\n",
       "      <td>265.269</td>\n",
       "      <td>-1.05750</td>\n",
       "    </tr>\n",
       "    <tr>\n",
       "      <th>5760</th>\n",
       "      <td>5760</td>\n",
       "      <td>5768</td>\n",
       "      <td>34718-47-3</td>\n",
       "      <td>O=C(C(Br)(Br)Br)Cl</td>\n",
       "      <td>Training</td>\n",
       "      <td>1</td>\n",
       "      <td>1</td>\n",
       "      <td>42</td>\n",
       "      <td>0.495987</td>\n",
       "      <td>17.07</td>\n",
       "      <td>40.3720</td>\n",
       "      <td>3.791118</td>\n",
       "      <td>85.425922</td>\n",
       "      <td>315.186</td>\n",
       "      <td>2.59030</td>\n",
       "    </tr>\n",
       "    <tr>\n",
       "      <th>5761</th>\n",
       "      <td>5761</td>\n",
       "      <td>5769</td>\n",
       "      <td>43204-63-3</td>\n",
       "      <td>N(CCBr)CCBr</td>\n",
       "      <td>Training</td>\n",
       "      <td>1</td>\n",
       "      <td>1</td>\n",
       "      <td>44</td>\n",
       "      <td>0.568556</td>\n",
       "      <td>12.03</td>\n",
       "      <td>40.4577</td>\n",
       "      <td>2.447473</td>\n",
       "      <td>28.870765</td>\n",
       "      <td>230.931</td>\n",
       "      <td>1.36580</td>\n",
       "    </tr>\n",
       "    <tr>\n",
       "      <th>5762</th>\n",
       "      <td>5762</td>\n",
       "      <td>5770</td>\n",
       "      <td>52583-35-4</td>\n",
       "      <td>N#Cc2cc(cc(c2(N=Nc1ccc(cc1(NC(=O)C))N(CCOC)CCO...</td>\n",
       "      <td>Training</td>\n",
       "      <td>1</td>\n",
       "      <td>1</td>\n",
       "      <td>184</td>\n",
       "      <td>0.264581</td>\n",
       "      <td>185.59</td>\n",
       "      <td>125.3525</td>\n",
       "      <td>2.552977</td>\n",
       "      <td>1169.342047</td>\n",
       "      <td>485.457</td>\n",
       "      <td>3.84768</td>\n",
       "    </tr>\n",
       "    <tr>\n",
       "      <th>5763</th>\n",
       "      <td>5763</td>\n",
       "      <td>5771</td>\n",
       "      <td>188021-38-7</td>\n",
       "      <td>O(c1c(cc(cc1Br)C)C(C)(C)C)CC=C</td>\n",
       "      <td>Training</td>\n",
       "      <td>1</td>\n",
       "      <td>0</td>\n",
       "      <td>88</td>\n",
       "      <td>0.735392</td>\n",
       "      <td>9.23</td>\n",
       "      <td>73.2710</td>\n",
       "      <td>3.263016</td>\n",
       "      <td>388.457194</td>\n",
       "      <td>283.209</td>\n",
       "      <td>4.61982</td>\n",
       "    </tr>\n",
       "  </tbody>\n",
       "</table>\n",
       "<p>5764 rows × 15 columns</p>\n",
       "</div>"
      ],
      "text/plain": [
       "      Unnamed: 0    Id          CAS  \\\n",
       "0              0     1     100-00-5   \n",
       "1              1     2     100-01-6   \n",
       "2              2     3     100-02-7   \n",
       "3              3     4     100-11-8   \n",
       "4              4     5     100-12-9   \n",
       "...          ...   ...          ...   \n",
       "5759        5759  5767   20395-16-8   \n",
       "5760        5760  5768   34718-47-3   \n",
       "5761        5761  5769   43204-63-3   \n",
       "5762        5762  5770   52583-35-4   \n",
       "5763        5763  5771  188021-38-7   \n",
       "\n",
       "                                                 SMILES    Status  \\\n",
       "0                              O=[N+]([O-])c1ccc(cc1)Cl  Training   \n",
       "1                               O=[N+]([O-])c1ccc(N)cc1  Training   \n",
       "2                               O=[N+]([O-])c1ccc(O)cc1  Training   \n",
       "3                             O=[N+]([O-])c1ccc(cc1)CBr  Training   \n",
       "4                              O=[N+]([O-])c1ccc(cc1)CC  Training   \n",
       "...                                                 ...       ...   \n",
       "5759               O=C1N(C(=O)N(C(=O)N1CC=C)CC2OC2)CC=C  Training   \n",
       "5760                                 O=C(C(Br)(Br)Br)Cl  Training   \n",
       "5761                                        N(CCBr)CCBr  Training   \n",
       "5762  N#Cc2cc(cc(c2(N=Nc1ccc(cc1(NC(=O)C))N(CCOC)CCO...  Training   \n",
       "5763                     O(c1c(cc(cc1Br)C)C(C)(C)C)CC=C  Training   \n",
       "\n",
       "      Experimental value Predicted value  NumValenceElectrons       qed  \\\n",
       "0                      1               1                   52  0.463602   \n",
       "1                      1               1                   52  0.359544   \n",
       "2                      0               1                   52  0.470728   \n",
       "3                      1               0                   58  0.432586   \n",
       "4                      0               0                   58  0.479785   \n",
       "...                  ...             ...                  ...       ...   \n",
       "5759                   1               0                  102  0.485090   \n",
       "5760                   1               1                   42  0.495987   \n",
       "5761                   1               1                   44  0.568556   \n",
       "5762                   1               1                  184  0.264581   \n",
       "5763                   1               0                   88  0.735392   \n",
       "\n",
       "        TPSA     MolMR  BalabanJ      BertzCT    MolWt  MolLogP  \n",
       "0      43.14   38.1064  3.003401   244.429658  157.556  2.24820  \n",
       "1      69.16   37.5088  3.003401   242.429658  138.126  1.17700  \n",
       "2      63.37   34.7612  3.003401   241.674771  139.110  1.30040  \n",
       "3      43.14   45.7274  2.913802   257.648013  216.034  2.48970  \n",
       "4      43.14   42.4744  2.913802   253.299498  151.165  2.15720  \n",
       "...      ...       ...       ...          ...      ...      ...  \n",
       "5759   78.53   69.3560  2.668492   627.435628  265.269 -1.05750  \n",
       "5760   17.07   40.3720  3.791118    85.425922  315.186  2.59030  \n",
       "5761   12.03   40.4577  2.447473    28.870765  230.931  1.36580  \n",
       "5762  185.59  125.3525  2.552977  1169.342047  485.457  3.84768  \n",
       "5763    9.23   73.2710  3.263016   388.457194  283.209  4.61982  \n",
       "\n",
       "[5764 rows x 15 columns]"
      ]
     },
     "execution_count": 2,
     "metadata": {},
     "output_type": "execute_result"
    }
   ],
   "source": [
    "if 'google.colab' in str(get_ipython()):\n",
    "  df = pd.read_csv(\"https://raw.githubusercontent.com/edgarsmdn/MLCE_book/main/references/mutagenicity_kNN.csv\")\n",
    "else:\n",
    "  df = pd.read_csv(\"references/mutagenicity_kNN.csv\")\n",
    "\n",
    "df"
   ]
  },
  {
   "cell_type": "markdown",
   "metadata": {
    "id": "ttVnS2-dbxcy"
   },
   "source": [
    "The library pandas has many useful functions for data analytics. For example, we can print the type of the data we have..."
   ]
  },
  {
   "cell_type": "code",
   "execution_count": 3,
   "metadata": {
    "colab": {
     "base_uri": "https://localhost:8080/"
    },
    "id": "IyH-W0ty8-Oi",
    "outputId": "7706cfa4-ad96-4a52-e546-7cc83c005161"
   },
   "outputs": [
    {
     "data": {
      "text/plain": [
       "Unnamed: 0               int64\n",
       "Id                       int64\n",
       "CAS                     object\n",
       "SMILES                  object\n",
       "Status                  object\n",
       "Experimental value       int64\n",
       "Predicted value         object\n",
       "NumValenceElectrons      int64\n",
       "qed                    float64\n",
       "TPSA                   float64\n",
       "MolMR                  float64\n",
       "BalabanJ               float64\n",
       "BertzCT                float64\n",
       "MolWt                  float64\n",
       "MolLogP                float64\n",
       "dtype: object"
      ]
     },
     "execution_count": 3,
     "metadata": {},
     "output_type": "execute_result"
    }
   ],
   "source": [
    "df.dtypes    "
   ]
  },
  {
   "cell_type": "markdown",
   "metadata": {
    "id": "v7PaIMXTcKxk"
   },
   "source": [
    "And have a look at the first rows of our data to see how it looks like"
   ]
  },
  {
   "cell_type": "code",
   "execution_count": 4,
   "metadata": {
    "colab": {
     "base_uri": "https://localhost:8080/",
     "height": 206
    },
    "id": "GBvQkpwi6vCV",
    "outputId": "bd1aca5e-5c9d-45fc-a399-bc7c54f482d9"
   },
   "outputs": [
    {
     "data": {
      "text/html": [
       "<div>\n",
       "<style scoped>\n",
       "    .dataframe tbody tr th:only-of-type {\n",
       "        vertical-align: middle;\n",
       "    }\n",
       "\n",
       "    .dataframe tbody tr th {\n",
       "        vertical-align: top;\n",
       "    }\n",
       "\n",
       "    .dataframe thead th {\n",
       "        text-align: right;\n",
       "    }\n",
       "</style>\n",
       "<table border=\"1\" class=\"dataframe\">\n",
       "  <thead>\n",
       "    <tr style=\"text-align: right;\">\n",
       "      <th></th>\n",
       "      <th>Unnamed: 0</th>\n",
       "      <th>Id</th>\n",
       "      <th>CAS</th>\n",
       "      <th>SMILES</th>\n",
       "      <th>Status</th>\n",
       "      <th>Experimental value</th>\n",
       "      <th>Predicted value</th>\n",
       "      <th>NumValenceElectrons</th>\n",
       "      <th>qed</th>\n",
       "      <th>TPSA</th>\n",
       "      <th>MolMR</th>\n",
       "      <th>BalabanJ</th>\n",
       "      <th>BertzCT</th>\n",
       "      <th>MolWt</th>\n",
       "      <th>MolLogP</th>\n",
       "    </tr>\n",
       "  </thead>\n",
       "  <tbody>\n",
       "    <tr>\n",
       "      <th>0</th>\n",
       "      <td>0</td>\n",
       "      <td>1</td>\n",
       "      <td>100-00-5</td>\n",
       "      <td>O=[N+]([O-])c1ccc(cc1)Cl</td>\n",
       "      <td>Training</td>\n",
       "      <td>1</td>\n",
       "      <td>1</td>\n",
       "      <td>52</td>\n",
       "      <td>0.463602</td>\n",
       "      <td>43.14</td>\n",
       "      <td>38.1064</td>\n",
       "      <td>3.003401</td>\n",
       "      <td>244.429658</td>\n",
       "      <td>157.556</td>\n",
       "      <td>2.2482</td>\n",
       "    </tr>\n",
       "    <tr>\n",
       "      <th>1</th>\n",
       "      <td>1</td>\n",
       "      <td>2</td>\n",
       "      <td>100-01-6</td>\n",
       "      <td>O=[N+]([O-])c1ccc(N)cc1</td>\n",
       "      <td>Training</td>\n",
       "      <td>1</td>\n",
       "      <td>1</td>\n",
       "      <td>52</td>\n",
       "      <td>0.359544</td>\n",
       "      <td>69.16</td>\n",
       "      <td>37.5088</td>\n",
       "      <td>3.003401</td>\n",
       "      <td>242.429658</td>\n",
       "      <td>138.126</td>\n",
       "      <td>1.1770</td>\n",
       "    </tr>\n",
       "    <tr>\n",
       "      <th>2</th>\n",
       "      <td>2</td>\n",
       "      <td>3</td>\n",
       "      <td>100-02-7</td>\n",
       "      <td>O=[N+]([O-])c1ccc(O)cc1</td>\n",
       "      <td>Training</td>\n",
       "      <td>0</td>\n",
       "      <td>1</td>\n",
       "      <td>52</td>\n",
       "      <td>0.470728</td>\n",
       "      <td>63.37</td>\n",
       "      <td>34.7612</td>\n",
       "      <td>3.003401</td>\n",
       "      <td>241.674771</td>\n",
       "      <td>139.110</td>\n",
       "      <td>1.3004</td>\n",
       "    </tr>\n",
       "    <tr>\n",
       "      <th>3</th>\n",
       "      <td>3</td>\n",
       "      <td>4</td>\n",
       "      <td>100-11-8</td>\n",
       "      <td>O=[N+]([O-])c1ccc(cc1)CBr</td>\n",
       "      <td>Training</td>\n",
       "      <td>1</td>\n",
       "      <td>0</td>\n",
       "      <td>58</td>\n",
       "      <td>0.432586</td>\n",
       "      <td>43.14</td>\n",
       "      <td>45.7274</td>\n",
       "      <td>2.913802</td>\n",
       "      <td>257.648013</td>\n",
       "      <td>216.034</td>\n",
       "      <td>2.4897</td>\n",
       "    </tr>\n",
       "    <tr>\n",
       "      <th>4</th>\n",
       "      <td>4</td>\n",
       "      <td>5</td>\n",
       "      <td>100-12-9</td>\n",
       "      <td>O=[N+]([O-])c1ccc(cc1)CC</td>\n",
       "      <td>Training</td>\n",
       "      <td>0</td>\n",
       "      <td>0</td>\n",
       "      <td>58</td>\n",
       "      <td>0.479785</td>\n",
       "      <td>43.14</td>\n",
       "      <td>42.4744</td>\n",
       "      <td>2.913802</td>\n",
       "      <td>253.299498</td>\n",
       "      <td>151.165</td>\n",
       "      <td>2.1572</td>\n",
       "    </tr>\n",
       "  </tbody>\n",
       "</table>\n",
       "</div>"
      ],
      "text/plain": [
       "   Unnamed: 0  Id       CAS                     SMILES    Status  \\\n",
       "0           0   1  100-00-5   O=[N+]([O-])c1ccc(cc1)Cl  Training   \n",
       "1           1   2  100-01-6    O=[N+]([O-])c1ccc(N)cc1  Training   \n",
       "2           2   3  100-02-7    O=[N+]([O-])c1ccc(O)cc1  Training   \n",
       "3           3   4  100-11-8  O=[N+]([O-])c1ccc(cc1)CBr  Training   \n",
       "4           4   5  100-12-9   O=[N+]([O-])c1ccc(cc1)CC  Training   \n",
       "\n",
       "   Experimental value Predicted value  NumValenceElectrons       qed   TPSA  \\\n",
       "0                   1               1                   52  0.463602  43.14   \n",
       "1                   1               1                   52  0.359544  69.16   \n",
       "2                   0               1                   52  0.470728  63.37   \n",
       "3                   1               0                   58  0.432586  43.14   \n",
       "4                   0               0                   58  0.479785  43.14   \n",
       "\n",
       "     MolMR  BalabanJ     BertzCT    MolWt  MolLogP  \n",
       "0  38.1064  3.003401  244.429658  157.556   2.2482  \n",
       "1  37.5088  3.003401  242.429658  138.126   1.1770  \n",
       "2  34.7612  3.003401  241.674771  139.110   1.3004  \n",
       "3  45.7274  2.913802  257.648013  216.034   2.4897  \n",
       "4  42.4744  2.913802  253.299498  151.165   2.1572  "
      ]
     },
     "execution_count": 4,
     "metadata": {},
     "output_type": "execute_result"
    }
   ],
   "source": [
    "df.head()"
   ]
  },
  {
   "cell_type": "markdown",
   "metadata": {
    "id": "Eb8STE1Gc1qN"
   },
   "source": [
    "and access rows by index"
   ]
  },
  {
   "cell_type": "code",
   "execution_count": 5,
   "metadata": {
    "colab": {
     "base_uri": "https://localhost:8080/",
     "height": 175
    },
    "id": "F-vLO_KHeUEy",
    "outputId": "8d1c9199-93b7-4f76-a0e0-fb035b7f9c56",
    "scrolled": true
   },
   "outputs": [
    {
     "data": {
      "text/html": [
       "<div>\n",
       "<style scoped>\n",
       "    .dataframe tbody tr th:only-of-type {\n",
       "        vertical-align: middle;\n",
       "    }\n",
       "\n",
       "    .dataframe tbody tr th {\n",
       "        vertical-align: top;\n",
       "    }\n",
       "\n",
       "    .dataframe thead th {\n",
       "        text-align: right;\n",
       "    }\n",
       "</style>\n",
       "<table border=\"1\" class=\"dataframe\">\n",
       "  <thead>\n",
       "    <tr style=\"text-align: right;\">\n",
       "      <th></th>\n",
       "      <th>Unnamed: 0</th>\n",
       "      <th>Id</th>\n",
       "      <th>CAS</th>\n",
       "      <th>SMILES</th>\n",
       "      <th>Status</th>\n",
       "      <th>Experimental value</th>\n",
       "      <th>Predicted value</th>\n",
       "      <th>NumValenceElectrons</th>\n",
       "      <th>qed</th>\n",
       "      <th>TPSA</th>\n",
       "      <th>MolMR</th>\n",
       "      <th>BalabanJ</th>\n",
       "      <th>BertzCT</th>\n",
       "      <th>MolWt</th>\n",
       "      <th>MolLogP</th>\n",
       "    </tr>\n",
       "  </thead>\n",
       "  <tbody>\n",
       "    <tr>\n",
       "      <th>0</th>\n",
       "      <td>0</td>\n",
       "      <td>1</td>\n",
       "      <td>100-00-5</td>\n",
       "      <td>O=[N+]([O-])c1ccc(cc1)Cl</td>\n",
       "      <td>Training</td>\n",
       "      <td>1</td>\n",
       "      <td>1</td>\n",
       "      <td>52</td>\n",
       "      <td>0.463602</td>\n",
       "      <td>43.14</td>\n",
       "      <td>38.1064</td>\n",
       "      <td>3.003401</td>\n",
       "      <td>244.429658</td>\n",
       "      <td>157.556</td>\n",
       "      <td>2.2482</td>\n",
       "    </tr>\n",
       "    <tr>\n",
       "      <th>1</th>\n",
       "      <td>1</td>\n",
       "      <td>2</td>\n",
       "      <td>100-01-6</td>\n",
       "      <td>O=[N+]([O-])c1ccc(N)cc1</td>\n",
       "      <td>Training</td>\n",
       "      <td>1</td>\n",
       "      <td>1</td>\n",
       "      <td>52</td>\n",
       "      <td>0.359544</td>\n",
       "      <td>69.16</td>\n",
       "      <td>37.5088</td>\n",
       "      <td>3.003401</td>\n",
       "      <td>242.429658</td>\n",
       "      <td>138.126</td>\n",
       "      <td>1.1770</td>\n",
       "    </tr>\n",
       "    <tr>\n",
       "      <th>2</th>\n",
       "      <td>2</td>\n",
       "      <td>3</td>\n",
       "      <td>100-02-7</td>\n",
       "      <td>O=[N+]([O-])c1ccc(O)cc1</td>\n",
       "      <td>Training</td>\n",
       "      <td>0</td>\n",
       "      <td>1</td>\n",
       "      <td>52</td>\n",
       "      <td>0.470728</td>\n",
       "      <td>63.37</td>\n",
       "      <td>34.7612</td>\n",
       "      <td>3.003401</td>\n",
       "      <td>241.674771</td>\n",
       "      <td>139.110</td>\n",
       "      <td>1.3004</td>\n",
       "    </tr>\n",
       "    <tr>\n",
       "      <th>3</th>\n",
       "      <td>3</td>\n",
       "      <td>4</td>\n",
       "      <td>100-11-8</td>\n",
       "      <td>O=[N+]([O-])c1ccc(cc1)CBr</td>\n",
       "      <td>Training</td>\n",
       "      <td>1</td>\n",
       "      <td>0</td>\n",
       "      <td>58</td>\n",
       "      <td>0.432586</td>\n",
       "      <td>43.14</td>\n",
       "      <td>45.7274</td>\n",
       "      <td>2.913802</td>\n",
       "      <td>257.648013</td>\n",
       "      <td>216.034</td>\n",
       "      <td>2.4897</td>\n",
       "    </tr>\n",
       "  </tbody>\n",
       "</table>\n",
       "</div>"
      ],
      "text/plain": [
       "   Unnamed: 0  Id       CAS                     SMILES    Status  \\\n",
       "0           0   1  100-00-5   O=[N+]([O-])c1ccc(cc1)Cl  Training   \n",
       "1           1   2  100-01-6    O=[N+]([O-])c1ccc(N)cc1  Training   \n",
       "2           2   3  100-02-7    O=[N+]([O-])c1ccc(O)cc1  Training   \n",
       "3           3   4  100-11-8  O=[N+]([O-])c1ccc(cc1)CBr  Training   \n",
       "\n",
       "   Experimental value Predicted value  NumValenceElectrons       qed   TPSA  \\\n",
       "0                   1               1                   52  0.463602  43.14   \n",
       "1                   1               1                   52  0.359544  69.16   \n",
       "2                   0               1                   52  0.470728  63.37   \n",
       "3                   1               0                   58  0.432586  43.14   \n",
       "\n",
       "     MolMR  BalabanJ     BertzCT    MolWt  MolLogP  \n",
       "0  38.1064  3.003401  244.429658  157.556   2.2482  \n",
       "1  37.5088  3.003401  242.429658  138.126   1.1770  \n",
       "2  34.7612  3.003401  241.674771  139.110   1.3004  \n",
       "3  45.7274  2.913802  257.648013  216.034   2.4897  "
      ]
     },
     "execution_count": 5,
     "metadata": {},
     "output_type": "execute_result"
    }
   ],
   "source": [
    "first_rows = df.iloc[:4]\n",
    "first_rows"
   ]
  },
  {
   "cell_type": "markdown",
   "metadata": {
    "id": "ejwwO7ETcTPw"
   },
   "source": [
    "We can access columns in the DataFrame by the column's name"
   ]
  },
  {
   "cell_type": "code",
   "execution_count": 6,
   "metadata": {
    "colab": {
     "base_uri": "https://localhost:8080/"
    },
    "id": "4domchYBdi-f",
    "outputId": "967c3ff1-4905-442a-be5e-2a84bb89c037"
   },
   "outputs": [
    {
     "data": {
      "text/plain": [
       "0       1\n",
       "1       1\n",
       "2       0\n",
       "3       1\n",
       "4       0\n",
       "       ..\n",
       "5759    1\n",
       "5760    1\n",
       "5761    1\n",
       "5762    1\n",
       "5763    1\n",
       "Name: Experimental value, Length: 5764, dtype: int64"
      ]
     },
     "execution_count": 6,
     "metadata": {},
     "output_type": "execute_result"
    }
   ],
   "source": [
    "y_experimental = df['Experimental value']\n",
    "y_experimental"
   ]
  },
  {
   "cell_type": "markdown",
   "metadata": {
    "id": "Ro4VEmtzei8w"
   },
   "source": [
    "If we would like to get the subset of data that is labeled as mutagenic (i.e., 'Experimental value' equal to 1), we could do it like this"
   ]
  },
  {
   "cell_type": "code",
   "execution_count": 7,
   "metadata": {
    "colab": {
     "base_uri": "https://localhost:8080/",
     "height": 679
    },
    "id": "p_1NdUU2gVhn",
    "outputId": "10082daf-42b4-4fa9-b260-3e2292777f0f"
   },
   "outputs": [
    {
     "data": {
      "text/html": [
       "<div>\n",
       "<style scoped>\n",
       "    .dataframe tbody tr th:only-of-type {\n",
       "        vertical-align: middle;\n",
       "    }\n",
       "\n",
       "    .dataframe tbody tr th {\n",
       "        vertical-align: top;\n",
       "    }\n",
       "\n",
       "    .dataframe thead th {\n",
       "        text-align: right;\n",
       "    }\n",
       "</style>\n",
       "<table border=\"1\" class=\"dataframe\">\n",
       "  <thead>\n",
       "    <tr style=\"text-align: right;\">\n",
       "      <th></th>\n",
       "      <th>Unnamed: 0</th>\n",
       "      <th>Id</th>\n",
       "      <th>CAS</th>\n",
       "      <th>SMILES</th>\n",
       "      <th>Status</th>\n",
       "      <th>Experimental value</th>\n",
       "      <th>Predicted value</th>\n",
       "      <th>NumValenceElectrons</th>\n",
       "      <th>qed</th>\n",
       "      <th>TPSA</th>\n",
       "      <th>MolMR</th>\n",
       "      <th>BalabanJ</th>\n",
       "      <th>BertzCT</th>\n",
       "      <th>MolWt</th>\n",
       "      <th>MolLogP</th>\n",
       "    </tr>\n",
       "  </thead>\n",
       "  <tbody>\n",
       "    <tr>\n",
       "      <th>0</th>\n",
       "      <td>0</td>\n",
       "      <td>1</td>\n",
       "      <td>100-00-5</td>\n",
       "      <td>O=[N+]([O-])c1ccc(cc1)Cl</td>\n",
       "      <td>Training</td>\n",
       "      <td>1</td>\n",
       "      <td>1</td>\n",
       "      <td>52</td>\n",
       "      <td>0.463602</td>\n",
       "      <td>43.14</td>\n",
       "      <td>38.1064</td>\n",
       "      <td>3.003401</td>\n",
       "      <td>244.429658</td>\n",
       "      <td>157.556</td>\n",
       "      <td>2.24820</td>\n",
       "    </tr>\n",
       "    <tr>\n",
       "      <th>1</th>\n",
       "      <td>1</td>\n",
       "      <td>2</td>\n",
       "      <td>100-01-6</td>\n",
       "      <td>O=[N+]([O-])c1ccc(N)cc1</td>\n",
       "      <td>Training</td>\n",
       "      <td>1</td>\n",
       "      <td>1</td>\n",
       "      <td>52</td>\n",
       "      <td>0.359544</td>\n",
       "      <td>69.16</td>\n",
       "      <td>37.5088</td>\n",
       "      <td>3.003401</td>\n",
       "      <td>242.429658</td>\n",
       "      <td>138.126</td>\n",
       "      <td>1.17700</td>\n",
       "    </tr>\n",
       "    <tr>\n",
       "      <th>3</th>\n",
       "      <td>3</td>\n",
       "      <td>4</td>\n",
       "      <td>100-11-8</td>\n",
       "      <td>O=[N+]([O-])c1ccc(cc1)CBr</td>\n",
       "      <td>Training</td>\n",
       "      <td>1</td>\n",
       "      <td>0</td>\n",
       "      <td>58</td>\n",
       "      <td>0.432586</td>\n",
       "      <td>43.14</td>\n",
       "      <td>45.7274</td>\n",
       "      <td>2.913802</td>\n",
       "      <td>257.648013</td>\n",
       "      <td>216.034</td>\n",
       "      <td>2.48970</td>\n",
       "    </tr>\n",
       "    <tr>\n",
       "      <th>6</th>\n",
       "      <td>6</td>\n",
       "      <td>7</td>\n",
       "      <td>100-13-0</td>\n",
       "      <td>O=[N+]([O-])c1ccc(C=C)cc1</td>\n",
       "      <td>Training</td>\n",
       "      <td>1</td>\n",
       "      <td>0</td>\n",
       "      <td>56</td>\n",
       "      <td>0.477660</td>\n",
       "      <td>43.14</td>\n",
       "      <td>43.1874</td>\n",
       "      <td>3.000887</td>\n",
       "      <td>276.648462</td>\n",
       "      <td>149.149</td>\n",
       "      <td>2.23780</td>\n",
       "    </tr>\n",
       "    <tr>\n",
       "      <th>7</th>\n",
       "      <td>7</td>\n",
       "      <td>8</td>\n",
       "      <td>100-14-1</td>\n",
       "      <td>O=[N+]([O-])c1ccc(cc1)CCl</td>\n",
       "      <td>Training</td>\n",
       "      <td>1</td>\n",
       "      <td>1</td>\n",
       "      <td>58</td>\n",
       "      <td>0.389482</td>\n",
       "      <td>43.14</td>\n",
       "      <td>42.6534</td>\n",
       "      <td>2.913802</td>\n",
       "      <td>257.648013</td>\n",
       "      <td>171.583</td>\n",
       "      <td>2.33360</td>\n",
       "    </tr>\n",
       "    <tr>\n",
       "      <th>...</th>\n",
       "      <td>...</td>\n",
       "      <td>...</td>\n",
       "      <td>...</td>\n",
       "      <td>...</td>\n",
       "      <td>...</td>\n",
       "      <td>...</td>\n",
       "      <td>...</td>\n",
       "      <td>...</td>\n",
       "      <td>...</td>\n",
       "      <td>...</td>\n",
       "      <td>...</td>\n",
       "      <td>...</td>\n",
       "      <td>...</td>\n",
       "      <td>...</td>\n",
       "      <td>...</td>\n",
       "    </tr>\n",
       "    <tr>\n",
       "      <th>5759</th>\n",
       "      <td>5759</td>\n",
       "      <td>5767</td>\n",
       "      <td>20395-16-8</td>\n",
       "      <td>O=C1N(C(=O)N(C(=O)N1CC=C)CC2OC2)CC=C</td>\n",
       "      <td>Training</td>\n",
       "      <td>1</td>\n",
       "      <td>0</td>\n",
       "      <td>102</td>\n",
       "      <td>0.485090</td>\n",
       "      <td>78.53</td>\n",
       "      <td>69.3560</td>\n",
       "      <td>2.668492</td>\n",
       "      <td>627.435628</td>\n",
       "      <td>265.269</td>\n",
       "      <td>-1.05750</td>\n",
       "    </tr>\n",
       "    <tr>\n",
       "      <th>5760</th>\n",
       "      <td>5760</td>\n",
       "      <td>5768</td>\n",
       "      <td>34718-47-3</td>\n",
       "      <td>O=C(C(Br)(Br)Br)Cl</td>\n",
       "      <td>Training</td>\n",
       "      <td>1</td>\n",
       "      <td>1</td>\n",
       "      <td>42</td>\n",
       "      <td>0.495987</td>\n",
       "      <td>17.07</td>\n",
       "      <td>40.3720</td>\n",
       "      <td>3.791118</td>\n",
       "      <td>85.425922</td>\n",
       "      <td>315.186</td>\n",
       "      <td>2.59030</td>\n",
       "    </tr>\n",
       "    <tr>\n",
       "      <th>5761</th>\n",
       "      <td>5761</td>\n",
       "      <td>5769</td>\n",
       "      <td>43204-63-3</td>\n",
       "      <td>N(CCBr)CCBr</td>\n",
       "      <td>Training</td>\n",
       "      <td>1</td>\n",
       "      <td>1</td>\n",
       "      <td>44</td>\n",
       "      <td>0.568556</td>\n",
       "      <td>12.03</td>\n",
       "      <td>40.4577</td>\n",
       "      <td>2.447473</td>\n",
       "      <td>28.870765</td>\n",
       "      <td>230.931</td>\n",
       "      <td>1.36580</td>\n",
       "    </tr>\n",
       "    <tr>\n",
       "      <th>5762</th>\n",
       "      <td>5762</td>\n",
       "      <td>5770</td>\n",
       "      <td>52583-35-4</td>\n",
       "      <td>N#Cc2cc(cc(c2(N=Nc1ccc(cc1(NC(=O)C))N(CCOC)CCO...</td>\n",
       "      <td>Training</td>\n",
       "      <td>1</td>\n",
       "      <td>1</td>\n",
       "      <td>184</td>\n",
       "      <td>0.264581</td>\n",
       "      <td>185.59</td>\n",
       "      <td>125.3525</td>\n",
       "      <td>2.552977</td>\n",
       "      <td>1169.342047</td>\n",
       "      <td>485.457</td>\n",
       "      <td>3.84768</td>\n",
       "    </tr>\n",
       "    <tr>\n",
       "      <th>5763</th>\n",
       "      <td>5763</td>\n",
       "      <td>5771</td>\n",
       "      <td>188021-38-7</td>\n",
       "      <td>O(c1c(cc(cc1Br)C)C(C)(C)C)CC=C</td>\n",
       "      <td>Training</td>\n",
       "      <td>1</td>\n",
       "      <td>0</td>\n",
       "      <td>88</td>\n",
       "      <td>0.735392</td>\n",
       "      <td>9.23</td>\n",
       "      <td>73.2710</td>\n",
       "      <td>3.263016</td>\n",
       "      <td>388.457194</td>\n",
       "      <td>283.209</td>\n",
       "      <td>4.61982</td>\n",
       "    </tr>\n",
       "  </tbody>\n",
       "</table>\n",
       "<p>3251 rows × 15 columns</p>\n",
       "</div>"
      ],
      "text/plain": [
       "      Unnamed: 0    Id          CAS  \\\n",
       "0              0     1     100-00-5   \n",
       "1              1     2     100-01-6   \n",
       "3              3     4     100-11-8   \n",
       "6              6     7     100-13-0   \n",
       "7              7     8     100-14-1   \n",
       "...          ...   ...          ...   \n",
       "5759        5759  5767   20395-16-8   \n",
       "5760        5760  5768   34718-47-3   \n",
       "5761        5761  5769   43204-63-3   \n",
       "5762        5762  5770   52583-35-4   \n",
       "5763        5763  5771  188021-38-7   \n",
       "\n",
       "                                                 SMILES    Status  \\\n",
       "0                              O=[N+]([O-])c1ccc(cc1)Cl  Training   \n",
       "1                               O=[N+]([O-])c1ccc(N)cc1  Training   \n",
       "3                             O=[N+]([O-])c1ccc(cc1)CBr  Training   \n",
       "6                             O=[N+]([O-])c1ccc(C=C)cc1  Training   \n",
       "7                             O=[N+]([O-])c1ccc(cc1)CCl  Training   \n",
       "...                                                 ...       ...   \n",
       "5759               O=C1N(C(=O)N(C(=O)N1CC=C)CC2OC2)CC=C  Training   \n",
       "5760                                 O=C(C(Br)(Br)Br)Cl  Training   \n",
       "5761                                        N(CCBr)CCBr  Training   \n",
       "5762  N#Cc2cc(cc(c2(N=Nc1ccc(cc1(NC(=O)C))N(CCOC)CCO...  Training   \n",
       "5763                     O(c1c(cc(cc1Br)C)C(C)(C)C)CC=C  Training   \n",
       "\n",
       "      Experimental value Predicted value  NumValenceElectrons       qed  \\\n",
       "0                      1               1                   52  0.463602   \n",
       "1                      1               1                   52  0.359544   \n",
       "3                      1               0                   58  0.432586   \n",
       "6                      1               0                   56  0.477660   \n",
       "7                      1               1                   58  0.389482   \n",
       "...                  ...             ...                  ...       ...   \n",
       "5759                   1               0                  102  0.485090   \n",
       "5760                   1               1                   42  0.495987   \n",
       "5761                   1               1                   44  0.568556   \n",
       "5762                   1               1                  184  0.264581   \n",
       "5763                   1               0                   88  0.735392   \n",
       "\n",
       "        TPSA     MolMR  BalabanJ      BertzCT    MolWt  MolLogP  \n",
       "0      43.14   38.1064  3.003401   244.429658  157.556  2.24820  \n",
       "1      69.16   37.5088  3.003401   242.429658  138.126  1.17700  \n",
       "3      43.14   45.7274  2.913802   257.648013  216.034  2.48970  \n",
       "6      43.14   43.1874  3.000887   276.648462  149.149  2.23780  \n",
       "7      43.14   42.6534  2.913802   257.648013  171.583  2.33360  \n",
       "...      ...       ...       ...          ...      ...      ...  \n",
       "5759   78.53   69.3560  2.668492   627.435628  265.269 -1.05750  \n",
       "5760   17.07   40.3720  3.791118    85.425922  315.186  2.59030  \n",
       "5761   12.03   40.4577  2.447473    28.870765  230.931  1.36580  \n",
       "5762  185.59  125.3525  2.552977  1169.342047  485.457  3.84768  \n",
       "5763    9.23   73.2710  3.263016   388.457194  283.209  4.61982  \n",
       "\n",
       "[3251 rows x 15 columns]"
      ]
     },
     "execution_count": 7,
     "metadata": {},
     "output_type": "execute_result"
    }
   ],
   "source": [
    "mutagenic_data = df[df['Experimental value']==1]\n",
    "mutagenic_data"
   ]
  },
  {
   "cell_type": "markdown",
   "metadata": {},
   "source": [
    "Let's have a look at the predictions by VEGA which we'll use to compare our results with:"
   ]
  },
  {
   "cell_type": "code",
   "execution_count": 8,
   "metadata": {},
   "outputs": [
    {
     "data": {
      "text/plain": [
       "0       1\n",
       "1       1\n",
       "2       1\n",
       "3       0\n",
       "4       0\n",
       "       ..\n",
       "5759    0\n",
       "5760    1\n",
       "5761    1\n",
       "5762    1\n",
       "5763    0\n",
       "Name: Predicted value, Length: 5764, dtype: object"
      ]
     },
     "execution_count": 8,
     "metadata": {},
     "output_type": "execute_result"
    }
   ],
   "source": [
    "df['Predicted value']"
   ]
  },
  {
   "cell_type": "markdown",
   "metadata": {},
   "source": [
    "We notice the data type says `object` even though it should be all `0` and `1`. Let's try to find out why:"
   ]
  },
  {
   "cell_type": "code",
   "execution_count": 9,
   "metadata": {},
   "outputs": [
    {
     "data": {
      "text/plain": [
       "0                   1\n",
       "3                   0\n",
       "1844    Non Predicted\n",
       "Name: Predicted value, dtype: object"
      ]
     },
     "execution_count": 9,
     "metadata": {},
     "output_type": "execute_result"
    }
   ],
   "source": [
    "df['Predicted value'].drop_duplicates()"
   ]
  },
  {
   "cell_type": "code",
   "execution_count": 10,
   "metadata": {},
   "outputs": [
    {
     "data": {
      "text/html": [
       "<div>\n",
       "<style scoped>\n",
       "    .dataframe tbody tr th:only-of-type {\n",
       "        vertical-align: middle;\n",
       "    }\n",
       "\n",
       "    .dataframe tbody tr th {\n",
       "        vertical-align: top;\n",
       "    }\n",
       "\n",
       "    .dataframe thead th {\n",
       "        text-align: right;\n",
       "    }\n",
       "</style>\n",
       "<table border=\"1\" class=\"dataframe\">\n",
       "  <thead>\n",
       "    <tr style=\"text-align: right;\">\n",
       "      <th></th>\n",
       "      <th>Unnamed: 0</th>\n",
       "      <th>Id</th>\n",
       "      <th>CAS</th>\n",
       "      <th>SMILES</th>\n",
       "      <th>Status</th>\n",
       "      <th>Experimental value</th>\n",
       "      <th>Predicted value</th>\n",
       "      <th>NumValenceElectrons</th>\n",
       "      <th>qed</th>\n",
       "      <th>TPSA</th>\n",
       "      <th>MolMR</th>\n",
       "      <th>BalabanJ</th>\n",
       "      <th>BertzCT</th>\n",
       "      <th>MolWt</th>\n",
       "      <th>MolLogP</th>\n",
       "    </tr>\n",
       "  </thead>\n",
       "  <tbody>\n",
       "    <tr>\n",
       "      <th>1844</th>\n",
       "      <td>1844</td>\n",
       "      <td>1846</td>\n",
       "      <td>16709-86-7</td>\n",
       "      <td>C=C[Si](C)(C)CCl</td>\n",
       "      <td>Training</td>\n",
       "      <td>0</td>\n",
       "      <td>Non Predicted</td>\n",
       "      <td>42</td>\n",
       "      <td>0.401439</td>\n",
       "      <td>0.00</td>\n",
       "      <td>38.399</td>\n",
       "      <td>3.575471</td>\n",
       "      <td>68.480406</td>\n",
       "      <td>134.682</td>\n",
       "      <td>2.19800</td>\n",
       "    </tr>\n",
       "    <tr>\n",
       "      <th>2194</th>\n",
       "      <td>2194</td>\n",
       "      <td>2197</td>\n",
       "      <td>2179-59-1</td>\n",
       "      <td>C=CCSSCCC</td>\n",
       "      <td>Training</td>\n",
       "      <td>0</td>\n",
       "      <td>Non Predicted</td>\n",
       "      <td>48</td>\n",
       "      <td>0.333839</td>\n",
       "      <td>0.00</td>\n",
       "      <td>45.404</td>\n",
       "      <td>2.616293</td>\n",
       "      <td>52.490225</td>\n",
       "      <td>148.296</td>\n",
       "      <td>2.96380</td>\n",
       "    </tr>\n",
       "    <tr>\n",
       "      <th>4118</th>\n",
       "      <td>4118</td>\n",
       "      <td>4125</td>\n",
       "      <td>624-92-0</td>\n",
       "      <td>CSSC</td>\n",
       "      <td>Training</td>\n",
       "      <td>0</td>\n",
       "      <td>Non Predicted</td>\n",
       "      <td>26</td>\n",
       "      <td>0.452840</td>\n",
       "      <td>0.00</td>\n",
       "      <td>27.030</td>\n",
       "      <td>1.974745</td>\n",
       "      <td>6.000000</td>\n",
       "      <td>94.204</td>\n",
       "      <td>1.62740</td>\n",
       "    </tr>\n",
       "    <tr>\n",
       "      <th>4180</th>\n",
       "      <td>4180</td>\n",
       "      <td>4187</td>\n",
       "      <td>6317-18-6</td>\n",
       "      <td>N#CSCSC#N</td>\n",
       "      <td>Training</td>\n",
       "      <td>0</td>\n",
       "      <td>Non Predicted</td>\n",
       "      <td>36</td>\n",
       "      <td>0.321595</td>\n",
       "      <td>47.58</td>\n",
       "      <td>31.275</td>\n",
       "      <td>2.768386</td>\n",
       "      <td>95.083765</td>\n",
       "      <td>130.197</td>\n",
       "      <td>1.37246</td>\n",
       "    </tr>\n",
       "    <tr>\n",
       "      <th>5633</th>\n",
       "      <td>5633</td>\n",
       "      <td>5641</td>\n",
       "      <td>7783-54-2</td>\n",
       "      <td>FN(F)F</td>\n",
       "      <td>Training</td>\n",
       "      <td>1</td>\n",
       "      <td>Non Predicted</td>\n",
       "      <td>26</td>\n",
       "      <td>0.383980</td>\n",
       "      <td>3.24</td>\n",
       "      <td>5.163</td>\n",
       "      <td>2.323790</td>\n",
       "      <td>8.000000</td>\n",
       "      <td>71.001</td>\n",
       "      <td>0.94190</td>\n",
       "    </tr>\n",
       "    <tr>\n",
       "      <th>5655</th>\n",
       "      <td>5655</td>\n",
       "      <td>5663</td>\n",
       "      <td>676-83-5</td>\n",
       "      <td>CP(Cl)Cl</td>\n",
       "      <td>Training</td>\n",
       "      <td>1</td>\n",
       "      <td>Non Predicted</td>\n",
       "      <td>26</td>\n",
       "      <td>0.426990</td>\n",
       "      <td>0.00</td>\n",
       "      <td>24.550</td>\n",
       "      <td>2.323790</td>\n",
       "      <td>10.754888</td>\n",
       "      <td>116.915</td>\n",
       "      <td>2.40570</td>\n",
       "    </tr>\n",
       "  </tbody>\n",
       "</table>\n",
       "</div>"
      ],
      "text/plain": [
       "      Unnamed: 0    Id         CAS            SMILES    Status  \\\n",
       "1844        1844  1846  16709-86-7  C=C[Si](C)(C)CCl  Training   \n",
       "2194        2194  2197   2179-59-1         C=CCSSCCC  Training   \n",
       "4118        4118  4125    624-92-0              CSSC  Training   \n",
       "4180        4180  4187   6317-18-6         N#CSCSC#N  Training   \n",
       "5633        5633  5641   7783-54-2            FN(F)F  Training   \n",
       "5655        5655  5663    676-83-5          CP(Cl)Cl  Training   \n",
       "\n",
       "      Experimental value Predicted value  NumValenceElectrons       qed  \\\n",
       "1844                   0   Non Predicted                   42  0.401439   \n",
       "2194                   0   Non Predicted                   48  0.333839   \n",
       "4118                   0   Non Predicted                   26  0.452840   \n",
       "4180                   0   Non Predicted                   36  0.321595   \n",
       "5633                   1   Non Predicted                   26  0.383980   \n",
       "5655                   1   Non Predicted                   26  0.426990   \n",
       "\n",
       "       TPSA   MolMR  BalabanJ    BertzCT    MolWt  MolLogP  \n",
       "1844   0.00  38.399  3.575471  68.480406  134.682  2.19800  \n",
       "2194   0.00  45.404  2.616293  52.490225  148.296  2.96380  \n",
       "4118   0.00  27.030  1.974745   6.000000   94.204  1.62740  \n",
       "4180  47.58  31.275  2.768386  95.083765  130.197  1.37246  \n",
       "5633   3.24   5.163  2.323790   8.000000   71.001  0.94190  \n",
       "5655   0.00  24.550  2.323790  10.754888  116.915  2.40570  "
      ]
     },
     "execution_count": 10,
     "metadata": {},
     "output_type": "execute_result"
    }
   ],
   "source": [
    "df[ (df['Predicted value'] != \"0\") & (df['Predicted value'] != \"1\") ]"
   ]
  },
  {
   "cell_type": "markdown",
   "metadata": {},
   "source": [
    "For some inputs the VEGA model decides to output `non predicted`. As detailed in the documentation, it does this for particularly uncertain predictions. Let's remove these from the data set:"
   ]
  },
  {
   "cell_type": "code",
   "execution_count": 11,
   "metadata": {},
   "outputs": [],
   "source": [
    "non_predicted = df[ (df['Predicted value'] != \"0\") & (df['Predicted value'] != \"1\") ].index\n",
    "df_clean = df.drop(non_predicted)"
   ]
  },
  {
   "cell_type": "markdown",
   "metadata": {
    "id": "Si1CwO1Ol9-r"
   },
   "source": [
    "Let's now collect all the input features of our dataset and remove the unnecessary ones:"
   ]
  },
  {
   "cell_type": "code",
   "execution_count": 12,
   "metadata": {
    "colab": {
     "base_uri": "https://localhost:8080/",
     "height": 424
    },
    "id": "IahR4BJimCJ2",
    "outputId": "d2e62d3c-e82e-4944-c496-8370a07c5a76"
   },
   "outputs": [
    {
     "data": {
      "text/html": [
       "<div>\n",
       "<style scoped>\n",
       "    .dataframe tbody tr th:only-of-type {\n",
       "        vertical-align: middle;\n",
       "    }\n",
       "\n",
       "    .dataframe tbody tr th {\n",
       "        vertical-align: top;\n",
       "    }\n",
       "\n",
       "    .dataframe thead th {\n",
       "        text-align: right;\n",
       "    }\n",
       "</style>\n",
       "<table border=\"1\" class=\"dataframe\">\n",
       "  <thead>\n",
       "    <tr style=\"text-align: right;\">\n",
       "      <th></th>\n",
       "      <th>NumValenceElectrons</th>\n",
       "      <th>qed</th>\n",
       "      <th>TPSA</th>\n",
       "      <th>MolMR</th>\n",
       "      <th>BalabanJ</th>\n",
       "      <th>BertzCT</th>\n",
       "      <th>MolWt</th>\n",
       "      <th>MolLogP</th>\n",
       "    </tr>\n",
       "  </thead>\n",
       "  <tbody>\n",
       "    <tr>\n",
       "      <th>0</th>\n",
       "      <td>52</td>\n",
       "      <td>0.463602</td>\n",
       "      <td>43.14</td>\n",
       "      <td>38.1064</td>\n",
       "      <td>3.003401</td>\n",
       "      <td>244.429658</td>\n",
       "      <td>157.556</td>\n",
       "      <td>2.24820</td>\n",
       "    </tr>\n",
       "    <tr>\n",
       "      <th>1</th>\n",
       "      <td>52</td>\n",
       "      <td>0.359544</td>\n",
       "      <td>69.16</td>\n",
       "      <td>37.5088</td>\n",
       "      <td>3.003401</td>\n",
       "      <td>242.429658</td>\n",
       "      <td>138.126</td>\n",
       "      <td>1.17700</td>\n",
       "    </tr>\n",
       "    <tr>\n",
       "      <th>2</th>\n",
       "      <td>52</td>\n",
       "      <td>0.470728</td>\n",
       "      <td>63.37</td>\n",
       "      <td>34.7612</td>\n",
       "      <td>3.003401</td>\n",
       "      <td>241.674771</td>\n",
       "      <td>139.110</td>\n",
       "      <td>1.30040</td>\n",
       "    </tr>\n",
       "    <tr>\n",
       "      <th>3</th>\n",
       "      <td>58</td>\n",
       "      <td>0.432586</td>\n",
       "      <td>43.14</td>\n",
       "      <td>45.7274</td>\n",
       "      <td>2.913802</td>\n",
       "      <td>257.648013</td>\n",
       "      <td>216.034</td>\n",
       "      <td>2.48970</td>\n",
       "    </tr>\n",
       "    <tr>\n",
       "      <th>4</th>\n",
       "      <td>58</td>\n",
       "      <td>0.479785</td>\n",
       "      <td>43.14</td>\n",
       "      <td>42.4744</td>\n",
       "      <td>2.913802</td>\n",
       "      <td>253.299498</td>\n",
       "      <td>151.165</td>\n",
       "      <td>2.15720</td>\n",
       "    </tr>\n",
       "    <tr>\n",
       "      <th>...</th>\n",
       "      <td>...</td>\n",
       "      <td>...</td>\n",
       "      <td>...</td>\n",
       "      <td>...</td>\n",
       "      <td>...</td>\n",
       "      <td>...</td>\n",
       "      <td>...</td>\n",
       "      <td>...</td>\n",
       "    </tr>\n",
       "    <tr>\n",
       "      <th>5759</th>\n",
       "      <td>102</td>\n",
       "      <td>0.485090</td>\n",
       "      <td>78.53</td>\n",
       "      <td>69.3560</td>\n",
       "      <td>2.668492</td>\n",
       "      <td>627.435628</td>\n",
       "      <td>265.269</td>\n",
       "      <td>-1.05750</td>\n",
       "    </tr>\n",
       "    <tr>\n",
       "      <th>5760</th>\n",
       "      <td>42</td>\n",
       "      <td>0.495987</td>\n",
       "      <td>17.07</td>\n",
       "      <td>40.3720</td>\n",
       "      <td>3.791118</td>\n",
       "      <td>85.425922</td>\n",
       "      <td>315.186</td>\n",
       "      <td>2.59030</td>\n",
       "    </tr>\n",
       "    <tr>\n",
       "      <th>5761</th>\n",
       "      <td>44</td>\n",
       "      <td>0.568556</td>\n",
       "      <td>12.03</td>\n",
       "      <td>40.4577</td>\n",
       "      <td>2.447473</td>\n",
       "      <td>28.870765</td>\n",
       "      <td>230.931</td>\n",
       "      <td>1.36580</td>\n",
       "    </tr>\n",
       "    <tr>\n",
       "      <th>5762</th>\n",
       "      <td>184</td>\n",
       "      <td>0.264581</td>\n",
       "      <td>185.59</td>\n",
       "      <td>125.3525</td>\n",
       "      <td>2.552977</td>\n",
       "      <td>1169.342047</td>\n",
       "      <td>485.457</td>\n",
       "      <td>3.84768</td>\n",
       "    </tr>\n",
       "    <tr>\n",
       "      <th>5763</th>\n",
       "      <td>88</td>\n",
       "      <td>0.735392</td>\n",
       "      <td>9.23</td>\n",
       "      <td>73.2710</td>\n",
       "      <td>3.263016</td>\n",
       "      <td>388.457194</td>\n",
       "      <td>283.209</td>\n",
       "      <td>4.61982</td>\n",
       "    </tr>\n",
       "  </tbody>\n",
       "</table>\n",
       "<p>5758 rows × 8 columns</p>\n",
       "</div>"
      ],
      "text/plain": [
       "      NumValenceElectrons       qed    TPSA     MolMR  BalabanJ      BertzCT  \\\n",
       "0                      52  0.463602   43.14   38.1064  3.003401   244.429658   \n",
       "1                      52  0.359544   69.16   37.5088  3.003401   242.429658   \n",
       "2                      52  0.470728   63.37   34.7612  3.003401   241.674771   \n",
       "3                      58  0.432586   43.14   45.7274  2.913802   257.648013   \n",
       "4                      58  0.479785   43.14   42.4744  2.913802   253.299498   \n",
       "...                   ...       ...     ...       ...       ...          ...   \n",
       "5759                  102  0.485090   78.53   69.3560  2.668492   627.435628   \n",
       "5760                   42  0.495987   17.07   40.3720  3.791118    85.425922   \n",
       "5761                   44  0.568556   12.03   40.4577  2.447473    28.870765   \n",
       "5762                  184  0.264581  185.59  125.3525  2.552977  1169.342047   \n",
       "5763                   88  0.735392    9.23   73.2710  3.263016   388.457194   \n",
       "\n",
       "        MolWt  MolLogP  \n",
       "0     157.556  2.24820  \n",
       "1     138.126  1.17700  \n",
       "2     139.110  1.30040  \n",
       "3     216.034  2.48970  \n",
       "4     151.165  2.15720  \n",
       "...       ...      ...  \n",
       "5759  265.269 -1.05750  \n",
       "5760  315.186  2.59030  \n",
       "5761  230.931  1.36580  \n",
       "5762  485.457  3.84768  \n",
       "5763  283.209  4.61982  \n",
       "\n",
       "[5758 rows x 8 columns]"
      ]
     },
     "execution_count": 12,
     "metadata": {},
     "output_type": "execute_result"
    }
   ],
   "source": [
    "X = df_clean.drop(['Unnamed: 0', 'Id','CAS','SMILES','Status','Experimental value','Predicted value'],axis=1)\n",
    "X"
   ]
  },
  {
   "cell_type": "markdown",
   "metadata": {
    "id": "ei-EOGnle97C"
   },
   "source": [
    "### Exercise - manipulate a DataFrame ❗❗\n",
    "\n",
    "* How many molecules in our dataset have a `qed` less than 0.5?\n",
    "* What is the molecule with the largest molecular weight `MolWt`?\n",
    "* What is the average number of valance electrons `NumValenceElectrons` of the molecules in our dataset? "
   ]
  },
  {
   "cell_type": "code",
   "execution_count": 13,
   "metadata": {
    "id": "DwAoulsggXUJ"
   },
   "outputs": [],
   "source": [
    "# Your code here"
   ]
  },
  {
   "cell_type": "markdown",
   "metadata": {
    "id": "KGvYC2i5hW_A"
   },
   "source": [
    "## Feature scaling 📏"
   ]
  },
  {
   "cell_type": "markdown",
   "metadata": {
    "id": "iTfo1fwH7qMv"
   },
   "source": [
    "It is always a good practice to scale your data before starting modeling. This helps the training process of many machine learning models. This is specially true for kNN which works on distances! The distance between two points is naturally afected by the dimensions of the input space. Look for example at the Euclidean distance, if one dimension ranges from 0 to 10,000 and another ranges from 0 to 1, the former one will potentially impact the distance value much more!\n",
    "\n",
    "We do not want this to happen. Therefore, we need to scale all input features in order to give the same importance to all dimensions regardless of their original scale.\n",
    "\n",
    "Here, we will use the method known as [standardization](https://scikit-learn.org/stable/modules/generated/sklearn.preprocessing.StandardScaler.html#sklearn.preprocessing.StandardScaler). Here, we move the distribution of the data to have unit variance and a mean equal to zero.\n",
    "\n",
    "$$\n",
    "\\hat{\\textbf{x}} = \\frac{\\textbf{x}-\\mu_x}{\\sigma_x}\n",
    "$$\n",
    "\n",
    "Of course there are other [scaling methods](https://medium.com/greyatom/why-how-and-when-to-scale-your-features-4b30ab09db5e) are available and you might want to review them and check which one is better than the other in which conditions."
   ]
  },
  {
   "cell_type": "code",
   "execution_count": 14,
   "metadata": {
    "id": "KlCTYKzV7Lja"
   },
   "outputs": [],
   "source": [
    "from sklearn.preprocessing import StandardScaler"
   ]
  },
  {
   "cell_type": "markdown",
   "metadata": {
    "id": "3nd3K52ulXb1"
   },
   "source": [
    "We initialize our scaler function"
   ]
  },
  {
   "cell_type": "code",
   "execution_count": 15,
   "metadata": {
    "id": "JDrRFz3o7ORI"
   },
   "outputs": [],
   "source": [
    "scaler = StandardScaler()"
   ]
  },
  {
   "cell_type": "markdown",
   "metadata": {
    "id": "sPkVGBadlbgO"
   },
   "source": [
    "and fit it to our data (i.e., get the mean vector $\\mu_x$ and the standard deviation vector $\\sigma_x$."
   ]
  },
  {
   "cell_type": "code",
   "execution_count": 16,
   "metadata": {
    "colab": {
     "base_uri": "https://localhost:8080/"
    },
    "id": "j6tTHY4Al5U-",
    "outputId": "8e2cff7e-8754-4ecd-c82f-0b3a55e99138"
   },
   "outputs": [
    {
     "data": {
      "text/plain": [
       "StandardScaler()"
      ]
     },
     "execution_count": 16,
     "metadata": {},
     "output_type": "execute_result"
    }
   ],
   "source": [
    "scaler.fit(X)"
   ]
  },
  {
   "cell_type": "markdown",
   "metadata": {
    "id": "hAMOgj-JprOW"
   },
   "source": [
    "Now, let's scale our data"
   ]
  },
  {
   "cell_type": "code",
   "execution_count": 17,
   "metadata": {
    "colab": {
     "base_uri": "https://localhost:8080/"
    },
    "id": "m4TAblST7lIL",
    "outputId": "ca653b6e-0605-47f1-ec43-d752cf4ebe13"
   },
   "outputs": [
    {
     "data": {
      "text/plain": [
       "array([[-0.82233916, -0.30469594, -0.24799507, ..., -0.73084025,\n",
       "        -0.72114687, -0.17433149],\n",
       "       [-0.82233916, -0.93207944,  0.35640473, ..., -0.73613157,\n",
       "        -0.88855579, -0.72662586],\n",
       "       [-0.82233916, -0.26173162,  0.221913  , ..., -0.73812874,\n",
       "        -0.88007765, -0.6630027 ],\n",
       "       ...,\n",
       "       [-1.01013559,  0.32808674, -0.97062682, ..., -1.30113579,\n",
       "        -0.08894773, -0.62928346],\n",
       "       [ 2.27630201, -1.50462555,  3.06087321, ...,  1.71616346,\n",
       "         2.10404877,  0.65033598],\n",
       "       [ 0.0227448 ,  1.33396517, -1.035666  , ..., -0.34979236,\n",
       "         0.36147962,  1.04843958]])"
      ]
     },
     "execution_count": 17,
     "metadata": {},
     "output_type": "execute_result"
    }
   ],
   "source": [
    "X_hat = scaler.transform(X)\n",
    "X_hat"
   ]
  },
  {
   "cell_type": "markdown",
   "metadata": {
    "id": "g0zIoG5op95Z"
   },
   "source": [
    "### Exercise - read documentation ❗❗\n",
    "\n",
    "* What are exactly the mean an standard deviation vectors that we used to scaled the data? Go to the [sklearn documentation](https://scikit-learn.org/stable/modules/generated/sklearn.preprocessing.StandardScaler.html) and learn how you can access these. Reading the documentation of a library is a super important skill to learn! "
   ]
  },
  {
   "cell_type": "code",
   "execution_count": 18,
   "metadata": {
    "id": "8WDOvs_WqVFj"
   },
   "outputs": [],
   "source": [
    "# Your code here"
   ]
  },
  {
   "cell_type": "markdown",
   "metadata": {
    "id": "h2uOyvKYB_QE"
   },
   "source": [
    "## Training and test split ✂️\n",
    "\n",
    "Now that we have scaled the data, we have to make sure we split it. Remember, our goal is to create a model that **generalize well** to unseen data and not simply fit some seen data perfectly. To achieve this, our goal while splitting the data should be to ensure that the distribution of the test set is as close as possible to the expected distribution of the future data. Hence, often what we want is to make the training and test datasets to have a similar distribution.\n",
    "\n",
    "For example, let's see if how many molecules in our dataset are mutagenic vs. non-mutagenic."
   ]
  },
  {
   "cell_type": "code",
   "execution_count": 19,
   "metadata": {
    "colab": {
     "base_uri": "https://localhost:8080/"
    },
    "id": "QUCpGIgcB0y6",
    "outputId": "82ed55b9-820f-4539-9cb4-8a827906003e"
   },
   "outputs": [
    {
     "name": "stdout",
     "output_type": "stream",
     "text": [
      "Percentage of mutagenic molecules    : 56.42584230635638\n",
      "Percentage of non-mutagenic molecules: 43.57415769364362\n"
     ]
    }
   ],
   "source": [
    "y = df_clean['Experimental value'].to_numpy()\n",
    "perc_mutagenic = y.sum()/len(y)*100\n",
    "print('Percentage of mutagenic molecules    :', perc_mutagenic)\n",
    "print('Percentage of non-mutagenic molecules:', 100-perc_mutagenic)"
   ]
  },
  {
   "cell_type": "markdown",
   "metadata": {
    "id": "YFlMSb6TCZ7S"
   },
   "source": [
    "In this case, the proportion of mutagenic and non-mutagenic data is very similar. Then, we will go ahead and split the data randomly. However, when you have a much more imbalanced dataset, how would you split the data better? You can look for instance at what [stratified splitting](https://scikit-learn.org/stable/modules/cross_validation.html#stratification) is and why is it important.\n",
    "\n",
    "In summary, when splitting your data, always think about the distribution of your splits!"
   ]
  },
  {
   "cell_type": "code",
   "execution_count": 20,
   "metadata": {
    "id": "DQR8ATRjCPCq"
   },
   "outputs": [],
   "source": [
    "from sklearn.model_selection import train_test_split"
   ]
  },
  {
   "cell_type": "code",
   "execution_count": 21,
   "metadata": {
    "id": "I09X-mSqCRtN"
   },
   "outputs": [],
   "source": [
    "X_train, X_test, y_train, y_test = train_test_split(X_hat, y, test_size=0.2, random_state=0)"
   ]
  },
  {
   "cell_type": "code",
   "execution_count": 22,
   "metadata": {
    "colab": {
     "base_uri": "https://localhost:8080/"
    },
    "id": "yeIZ2XI5jwoD",
    "outputId": "32dc2318-453f-4baa-9b3b-285cac037c8b"
   },
   "outputs": [
    {
     "name": "stdout",
     "output_type": "stream",
     "text": [
      "Training points:  4606\n",
      "Training points:  1152\n"
     ]
    }
   ],
   "source": [
    "print('Training points: ', len(y_train))\n",
    "print('Training points: ', len(y_test))"
   ]
  },
  {
   "cell_type": "markdown",
   "metadata": {
    "id": "fnRg4cMqDZia"
   },
   "source": [
    "### Exercise - splits distribution ❗❗\n",
    "\n",
    "* Check what is the proportion of mutagenic molecules in your train and test set? Was the random splitting good?"
   ]
  },
  {
   "cell_type": "code",
   "execution_count": 23,
   "metadata": {
    "id": "outc17O_DVKZ"
   },
   "outputs": [],
   "source": [
    "# Your code here"
   ]
  },
  {
   "cell_type": "markdown",
   "metadata": {
    "id": "Ti0h11a7CjPs"
   },
   "source": [
    "## kNN model 🏘️"
   ]
  },
  {
   "cell_type": "code",
   "execution_count": 24,
   "metadata": {
    "id": "fXHhnxgICgJD"
   },
   "outputs": [],
   "source": [
    "from sklearn.neighbors import KNeighborsClassifier"
   ]
  },
  {
   "cell_type": "markdown",
   "metadata": {
    "id": "axfX0cUMEWJN"
   },
   "source": [
    "We initialize the kNN model by specifying the parameter \"k\". Later, we will review some ways that help us in determining this parameter better. For now, let's set it to 3."
   ]
  },
  {
   "cell_type": "code",
   "execution_count": 25,
   "metadata": {
    "id": "0C18Ne_tCxdn"
   },
   "outputs": [],
   "source": [
    "knn = KNeighborsClassifier(n_neighbors=3)"
   ]
  },
  {
   "cell_type": "markdown",
   "metadata": {
    "id": "Ny_zGEKvEwf5"
   },
   "source": [
    "we train it"
   ]
  },
  {
   "cell_type": "code",
   "execution_count": 26,
   "metadata": {
    "colab": {
     "base_uri": "https://localhost:8080/"
    },
    "id": "WYtljFtOCzB7",
    "outputId": "6d8e7c6c-4233-4f71-8752-1e7c4f0372f7"
   },
   "outputs": [
    {
     "data": {
      "text/plain": [
       "KNeighborsClassifier(n_neighbors=3)"
      ]
     },
     "execution_count": 26,
     "metadata": {},
     "output_type": "execute_result"
    }
   ],
   "source": [
    "knn.fit(X_train, y_train)"
   ]
  },
  {
   "cell_type": "markdown",
   "metadata": {
    "id": "J1UYc51DEz3w"
   },
   "source": [
    "we predict the test set"
   ]
  },
  {
   "cell_type": "code",
   "execution_count": 27,
   "metadata": {
    "id": "8op0R9jbC4R0"
   },
   "outputs": [],
   "source": [
    "y_pred = knn.predict(X_test)"
   ]
  },
  {
   "cell_type": "markdown",
   "metadata": {
    "id": "M2EDTPLAHWit"
   },
   "source": [
    "Let's now evaluate our kNN model!\n",
    "\n",
    "We will use several metrics for classification, for a quick reminder on them check the [documentation](https://scikit-learn.org/stable/modules/classes.html#classification-metrics)."
   ]
  },
  {
   "cell_type": "code",
   "execution_count": 28,
   "metadata": {
    "id": "1iStpf04HV_1"
   },
   "outputs": [],
   "source": [
    "from sklearn.metrics import (confusion_matrix, accuracy_score, precision_score, \n",
    "                             recall_score, f1_score, roc_auc_score, ConfusionMatrixDisplay) "
   ]
  },
  {
   "cell_type": "markdown",
   "metadata": {
    "id": "T6ppJg7yGM2R"
   },
   "source": [
    "Let first look at the confusion matrix"
   ]
  },
  {
   "cell_type": "code",
   "execution_count": 29,
   "metadata": {
    "colab": {
     "base_uri": "https://localhost:8080/"
    },
    "id": "47uV_7PAg808",
    "outputId": "2b304c3a-788c-4d04-8e05-87a58e77337d"
   },
   "outputs": [
    {
     "data": {
      "text/plain": [
       "array([[328, 175],\n",
       "       [140, 509]], dtype=int64)"
      ]
     },
     "execution_count": 29,
     "metadata": {},
     "output_type": "execute_result"
    }
   ],
   "source": [
    "cm = confusion_matrix(y_test, y_pred)\n",
    "cm"
   ]
  },
  {
   "cell_type": "markdown",
   "metadata": {
    "id": "CD9QYwXEGQAl"
   },
   "source": [
    "to see a prettier confusion matrix"
   ]
  },
  {
   "cell_type": "code",
   "execution_count": 30,
   "metadata": {
    "colab": {
     "base_uri": "https://localhost:8080/",
     "height": 296
    },
    "id": "zxE7tmAQGaxn",
    "outputId": "d77df237-8655-48d4-9c0d-d4906b1cf61c"
   },
   "outputs": [
    {
     "data": {
      "text/plain": [
       "<sklearn.metrics._plot.confusion_matrix.ConfusionMatrixDisplay at 0x135c942cd48>"
      ]
     },
     "execution_count": 30,
     "metadata": {},
     "output_type": "execute_result"
    },
    {
     "data": {
      "image/png": "[encoded data removed]",
      "text/plain": [
       "<Figure size 640x480 with 2 Axes>"
      ]
     },
     "metadata": {},
     "output_type": "display_data"
    }
   ],
   "source": [
    "disp = ConfusionMatrixDisplay(confusion_matrix=cm)\n",
    "disp.plot()"
   ]
  },
  {
   "cell_type": "markdown",
   "metadata": {
    "id": "xWWS51LpGv75"
   },
   "source": [
    "Now, let's look at the other metrics"
   ]
  },
  {
   "cell_type": "code",
   "execution_count": 31,
   "metadata": {
    "colab": {
     "base_uri": "https://localhost:8080/"
    },
    "id": "JDQ4clUhG0E2",
    "outputId": "d4ecf921-195b-4110-c224-98df5b600840"
   },
   "outputs": [
    {
     "name": "stdout",
     "output_type": "stream",
     "text": [
      "Accuracy:   0.7265625      \n",
      "Precision:  0.7441520467836257\n",
      "Recall:     0.7842835130970724\n",
      "F1:         0.7636909227306825\n"
     ]
    }
   ],
   "source": [
    "print('{:<10}  {:<15}'.format('Accuracy:', accuracy_score(y_test, y_pred)))\n",
    "print('{:<10}  {:<15}'.format('Precision:', precision_score(y_test, y_pred)))\n",
    "print('{:<10}  {:<15}'.format('Recall:', recall_score(y_test, y_pred)))\n",
    "print('{:<10}  {:<15}'.format('F1:', f1_score(y_test, y_pred)))"
   ]
  },
  {
   "cell_type": "markdown",
   "metadata": {
    "id": "M3WtaK81L8iT"
   },
   "source": [
    "### Comparison to VEGA model"
   ]
  },
  {
   "cell_type": "markdown",
   "metadata": {
    "id": "Tec9purNJ-OK"
   },
   "source": [
    "What do you think about the metrics? Is the kNN model performing good or bad?\n",
    "Let's compare it to the predictions of a kNN model trained on this same dataset and published as part of the [VEGA platform](https://www.vegahub.eu/portfolio-item/vega-qsar/). In the VEGA model, they have choosen k=4 with a similarity threshold of 0.7 (according to an internal similarity metric) Why is such threshold important?\n",
    "\n",
    "Also, the developers of the VEGA kNN model used the [leave-one-out](https://en.wikipedia.org/wiki/Cross-validation_(statistics)#Leave-one-out_cross-validation) approach to assess the performace of their model. Why is this approach specially suitable when using the kNN algorithm? "
   ]
  },
  {
   "cell_type": "markdown",
   "metadata": {
    "id": "nyfyVxebUAAX"
   },
   "source": [
    "#### VEGA model"
   ]
  },
  {
   "cell_type": "code",
   "execution_count": 33,
   "metadata": {
    "colab": {
     "base_uri": "https://localhost:8080/",
     "height": 348
    },
    "id": "cD_XnbgGJ9PD",
    "outputId": "2b79c535-7ef7-4ae3-f575-75e48cbdb534"
   },
   "outputs": [
    {
     "name": "stdout",
     "output_type": "stream",
     "text": [
      "Accuracy:   0.7999305314345259\n",
      "Precision:  0.8168631006346329\n",
      "Recall:     0.8319482917820868\n",
      "F1:         0.8243366880146386\n"
     ]
    },
    {
     "data": {
      "image/png": "[encoded data removed]",
      "text/plain": [
       "<Figure size 640x480 with 2 Axes>"
      ]
     },
     "metadata": {},
     "output_type": "display_data"
    }
   ],
   "source": [
    "y_clean = df_clean['Experimental value'].astype(int)\n",
    "y_vega_clean = df_clean['Predicted value'].astype(int)\n",
    "\n",
    "cm = confusion_matrix(y_clean, y_vega_clean)\n",
    "disp = ConfusionMatrixDisplay(confusion_matrix=cm)\n",
    "disp.plot()\n",
    "print('{:<10}  {:<15}'.format('Accuracy:', accuracy_score(y_clean, y_vega_clean)))\n",
    "print('{:<10}  {:<15}'.format('Precision:', precision_score(y_clean, y_vega_clean)))\n",
    "print('{:<10}  {:<15}'.format('Recall:', recall_score(y_clean, y_vega_clean)))\n",
    "print('{:<10}  {:<15}'.format('F1:', f1_score(y_clean, y_vega_clean)))"
   ]
  },
  {
   "cell_type": "markdown",
   "metadata": {
    "id": "x-imyMSBUGaE"
   },
   "source": [
    "#### Exercise - leave-one-out cross-validation ❗❗\n",
    "\n",
    "* Can you now assess our previous kNN model configuration using the leave-one-out approach on the cleaned dataset?"
   ]
  },
  {
   "cell_type": "code",
   "execution_count": 34,
   "metadata": {
    "colab": {
     "base_uri": "https://localhost:8080/"
    },
    "id": "uc3jhsfoUZOD",
    "outputId": "e2208f4e-2555-420e-f533-944d6f46e230"
   },
   "outputs": [
    {
     "name": "stdout",
     "output_type": "stream",
     "text": [
      "Number of folds:  5758\n"
     ]
    }
   ],
   "source": [
    "from sklearn.model_selection import LeaveOneOut\n",
    "\n",
    "X_clean = df_clean.drop(['Unnamed: 0', 'Id','CAS','SMILES','Status','Experimental value','Predicted value'],axis=1)\n",
    "\n",
    "loo = LeaveOneOut()\n",
    "print('Number of folds: ', loo.get_n_splits(X_clean))"
   ]
  },
  {
   "cell_type": "code",
   "execution_count": 35,
   "metadata": {
    "id": "irPFyGSuW5H-"
   },
   "outputs": [],
   "source": [
    "y_pred_loo_our_model = np.zeros(y_clean.shape[0])\n",
    "for i, (train_index, test_index) in enumerate(loo.split(X_clean)):\n",
    "  # Get training data for the current fold\n",
    "  X_train_loo = X_clean.iloc[train_index]\n",
    "  y_train_loo = y_clean.iloc[train_index]\n",
    "\n",
    "  # Get test data for the current fold\n",
    "  X_test_loo = X_clean.iloc[test_index]\n",
    "\n",
    "  # Train kNN\n",
    "  # Your code here\n",
    "\n",
    "  # Get prediction on the test molecule\n",
    "  # Your code here\n",
    "\n",
    "  # Store the prediction in `y_pred_loo_our_model`\n",
    "  # Your code here\n"
   ]
  },
  {
   "cell_type": "code",
   "execution_count": 36,
   "metadata": {
    "colab": {
     "base_uri": "https://localhost:8080/",
     "height": 403
    },
    "id": "6FW3Wk0KYWnC",
    "outputId": "ee03b470-b467-4240-a3b9-040330470fcb"
   },
   "outputs": [
    {
     "name": "stdout",
     "output_type": "stream",
     "text": [
      "Accuracy:   0.4357415769364363\n",
      "Precision:  0.0            \n",
      "Recall:     0.0            \n",
      "F1:         0.0            \n"
     ]
    },
    {
     "name": "stderr",
     "output_type": "stream",
     "text": [
      "C:\\Users\\DELL\\Anaconda3\\envs\\ML4ChemEng\\lib\\site-packages\\sklearn\\metrics\\_classification.py:1318: UndefinedMetricWarning: Precision is ill-defined and being set to 0.0 due to no predicted samples. Use `zero_division` parameter to control this behavior.\n",
      "  _warn_prf(average, modifier, msg_start, len(result))\n"
     ]
    },
    {
     "data": {
      "image/png": "[encoded data removed]",
      "text/plain": [
       "<Figure size 640x480 with 2 Axes>"
      ]
     },
     "metadata": {},
     "output_type": "display_data"
    }
   ],
   "source": [
    "cm = confusion_matrix(y_clean, y_pred_loo_our_model)\n",
    "disp = ConfusionMatrixDisplay(confusion_matrix=cm)\n",
    "disp.plot()\n",
    "print('{:<10}  {:<15}'.format('Accuracy:', accuracy_score(y_clean, y_pred_loo_our_model)))\n",
    "print('{:<10}  {:<15}'.format('Precision:', precision_score(y_clean, y_pred_loo_our_model)))\n",
    "print('{:<10}  {:<15}'.format('Recall:', recall_score(y_clean, y_pred_loo_our_model)))\n",
    "print('{:<10}  {:<15}'.format('F1:', f1_score(y_clean, y_pred_loo_our_model)))"
   ]
  },
  {
   "cell_type": "markdown",
   "metadata": {
    "id": "uOnXu2eHHgUR"
   },
   "source": [
    "\n",
    "## Finding the best k in kNN 🔎\n",
    "\n",
    "What about the parameter k? How do we find the best k for our model? Why the VEGA model developers used k=4? Let's try to answer this...\n",
    "\n",
    "k is a hyperparameter of the model and should be chosen using a validation set.\n",
    "\n",
    "```{important}\n",
    "Remember to reserve your test set exclusively for assesing your model! Never use it for training or hyperparameter tuning!  \n",
    "```"
   ]
  },
  {
   "cell_type": "code",
   "execution_count": 37,
   "metadata": {
    "colab": {
     "base_uri": "https://localhost:8080/",
     "height": 49,
     "referenced_widgets": [
      "131bcbae8f1a4166b7c187e27752a4a1",
      "0d5dd3b8b7914bafb3c57066f2117f4b",
      "da3943a1533d48339cc99add56f296ec",
      "8ab9c22f3c6b407aab7c2b20542caddf",
      "62cc78dd0f354e4bab79b1adcbbb8d51",
      "bbb549238aca44c0bcc7b41a4e0516d4",
      "34b5cde70d7a41ae82eec617f48a33ff",
      "b01c55a604c741d3838d98d412f6098e",
      "99446b25af0a41efb78e8347a0468bc5",
      "536147b20e874c8a820f2ffbfd010b5a",
      "cbeab16ad6e344eea77e78270864e9bc"
     ]
    },
    "id": "GLeXAFEJnQj8",
    "outputId": "59e721c0-50af-4ea9-a904-f99b613cb10e"
   },
   "outputs": [
    {
     "data": {
      "application/vnd.jupyter.widget-view+json": {
       "model_id": "7c2393312c7641ecbc7dac156862911c",
       "version_major": 2,
       "version_minor": 0
      },
      "text/plain": [
       "  0%|          | 0/50 [00:00<?, ?it/s]"
      ]
     },
     "metadata": {},
     "output_type": "display_data"
    }
   ],
   "source": [
    "import numpy as np\n",
    "from tqdm.notebook import tqdm\n",
    "\n",
    "num_ks = np.arange(1, 100, 2).astype(int)\n",
    "\n",
    "X_train_hyp, X_valid, y_train_hyp, y_valid = train_test_split(X_train, y_train, test_size=0.1, random_state=0)\n",
    "\n",
    "train_accuracy = []\n",
    "valid_accuracy = []\n",
    "\n",
    "for i in tqdm(range(len(num_ks))):\n",
    "  knn = KNeighborsClassifier(n_neighbors=num_ks[i])\n",
    "  knn.fit(X_train_hyp, y_train_hyp)\n",
    "\n",
    "  pred_train = knn.predict(X_train_hyp)\n",
    "  pred_valid  = knn.predict(X_valid)\n",
    "\n",
    "  train_accuracy.append(1-accuracy_score(y_train_hyp, pred_train))\n",
    "  valid_accuracy.append(1-accuracy_score(y_valid, pred_valid))"
   ]
  },
  {
   "cell_type": "code",
   "execution_count": 38,
   "metadata": {
    "colab": {
     "base_uri": "https://localhost:8080/",
     "height": 388
    },
    "id": "S4CftpmcHmKM",
    "outputId": "c57e9c1d-6335-4ff0-e7d6-9142bdb64a65"
   },
   "outputs": [
    {
     "data": {
      "image/png": "[encoded data removed]",
      "text/plain": [
       "<Figure size 1000x600 with 1 Axes>"
      ]
     },
     "metadata": {},
     "output_type": "display_data"
    }
   ],
   "source": [
    "plt.figure(figsize=(10,6))\n",
    "plt.plot(num_ks, train_accuracy, 'bs--', label='Train')\n",
    "plt.plot(num_ks, valid_accuracy, 'rx--', label='Validation')\n",
    "plt.xlabel('k')\n",
    "plt.ylabel('Misclasification rate')\n",
    "plt.legend()\n",
    "plt.show()"
   ]
  },
  {
   "cell_type": "markdown",
   "metadata": {
    "id": "kGhwzvOOHtd5"
   },
   "source": [
    "This graph is pretty similar to the one that we saw on slide 9 of Lecture 2. Here, we can see the expected general trend of the performance curves. \n",
    "\n",
    "Which k do you think is the best?"
   ]
  },
  {
   "cell_type": "markdown",
   "metadata": {
    "id": "7VJZyifr-4nR"
   },
   "source": [
    "### Cross-validation\n",
    "\n",
    "Problem: if validation set is small and noisy, it might be misleading\n",
    "Idea: Increase the size of the validation set\n",
    "Problem: This would reduce the size of the training set\n",
    "\n",
    "Then, let's use all data for training and validation using k-fold cross-validation!"
   ]
  },
  {
   "cell_type": "code",
   "execution_count": 39,
   "metadata": {
    "id": "t_6J0cmd_558"
   },
   "outputs": [],
   "source": [
    "from sklearn.model_selection import cross_validate"
   ]
  },
  {
   "cell_type": "code",
   "execution_count": 40,
   "metadata": {
    "colab": {
     "base_uri": "https://localhost:8080/",
     "height": 49,
     "referenced_widgets": [
      "914eff8c2fae4f248af2dd1c0ab2adec",
      "c90eb39b1d6e4b5ba8136df7e5480a61",
      "b5249ba10245474e8ea18b502bebffb2",
      "3f07d346263c40ae80952f23251b4b74",
      "7976f19eb8f1414e8de608ed280755a7",
      "d23639c2608d4c4bbbb58fbeeff6c934",
      "164fc49ebc3b466f9b4c25260637210a",
      "4bfe0903581b4ca999017a19607380d5",
      "ef2b2ce93832431aac24fdb8dcbaf7f2",
      "d19e4dface4c4701a08ac745a31b8225",
      "24b693f1c368469faf63263a9c520158"
     ]
    },
    "id": "jXOO3iN3-3n2",
    "outputId": "21856a82-4d55-49d0-eb6f-58e9a1645d5c"
   },
   "outputs": [
    {
     "data": {
      "application/vnd.jupyter.widget-view+json": {
       "model_id": "77278a5275a64da79c9902886869a2a7",
       "version_major": 2,
       "version_minor": 0
      },
      "text/plain": [
       "  0%|          | 0/49 [00:00<?, ?it/s]"
      ]
     },
     "metadata": {},
     "output_type": "display_data"
    }
   ],
   "source": [
    "num_ks = np.arange(1, 50, 1).astype(int)\n",
    "\n",
    "train_misclassification = []\n",
    "valid_misclassification = []\n",
    "for i in tqdm(range(len(num_ks))):\n",
    "  knn = KNeighborsClassifier(n_neighbors=num_ks[i])\n",
    "  cv_dict = cross_validate(knn, X_train, y_train, cv=10, \n",
    "                                 scoring='accuracy', return_train_score=True)\n",
    "  \n",
    "  k_fold_train_scored = cv_dict['train_score']\n",
    "  k_fold_valid_scored = cv_dict['test_score']\n",
    "  \n",
    "  train_misclassification.append(1-k_fold_train_scored.mean())\n",
    "  valid_misclassification.append(1-k_fold_valid_scored.mean())\n",
    "  "
   ]
  },
  {
   "cell_type": "code",
   "execution_count": 41,
   "metadata": {
    "colab": {
     "base_uri": "https://localhost:8080/",
     "height": 388
    },
    "id": "fhwmbs0dzoyu",
    "outputId": "8fe30b73-c5af-41cd-9dea-210c37810d43"
   },
   "outputs": [
    {
     "data": {
      "image/png": "[encoded data removed]",
      "text/plain": [
       "<Figure size 1000x600 with 1 Axes>"
      ]
     },
     "metadata": {},
     "output_type": "display_data"
    }
   ],
   "source": [
    "plt.figure(figsize=(10,6))\n",
    "plt.plot(num_ks, train_misclassification, 'bs--', label='Train')\n",
    "plt.plot(num_ks, valid_misclassification, 'rx--', label='Validation')\n",
    "plt.xlabel('k')\n",
    "plt.ylabel('Misclasification rate')\n",
    "plt.legend()\n",
    "plt.show()"
   ]
  },
  {
   "cell_type": "code",
   "execution_count": 42,
   "metadata": {
    "colab": {
     "base_uri": "https://localhost:8080/"
    },
    "id": "1ruje72l3Gcv",
    "outputId": "f8955444-23e4-4014-83e5-f04032f69eeb"
   },
   "outputs": [
    {
     "name": "stdout",
     "output_type": "stream",
     "text": [
      "k with minimum validation misclassification:  17\n"
     ]
    }
   ],
   "source": [
    "print('k with minimum validation misclassification: ', num_ks[np.argmin(valid_misclassification)])"
   ]
  },
  {
   "cell_type": "code",
   "execution_count": 43,
   "metadata": {
    "colab": {
     "base_uri": "https://localhost:8080/",
     "height": 388
    },
    "id": "LeGHGE0Z4Iw9",
    "outputId": "10e7209a-766e-4c65-ef65-7359fef9c92c"
   },
   "outputs": [
    {
     "data": {
      "image/png": "[encoded data removed]",
      "text/plain": [
       "<Figure size 1000x600 with 1 Axes>"
      ]
     },
     "metadata": {},
     "output_type": "display_data"
    }
   ],
   "source": [
    "plt.figure(figsize=(10,6))\n",
    "plt.plot(num_ks, valid_misclassification, 'rx--', label='Validation')\n",
    "plt.yscale('log')\n",
    "plt.xlabel('k')\n",
    "plt.ylabel('Misclasification rate')\n",
    "plt.legend()\n",
    "plt.show()"
   ]
  },
  {
   "cell_type": "markdown",
   "metadata": {
    "id": "seihHrN44uia"
   },
   "source": [
    "You can now go back to your implementation of leave-one-out and train your kNN model using the best k that you found. How does it perform compared to the VEGA kNN? Do you got a better model? Why?"
   ]
  },
  {
   "cell_type": "markdown",
   "metadata": {
    "id": "IrYX_LjKkjcE"
   },
   "source": [
    "## Challenge - kNN QSPR for predicting BCF 🥇\n",
    "\n",
    "\n",
    "Develop a kNN model for regression to predict the bioconcentration factor (BCF).\n",
    "\n"
   ]
  },
  {
   "cell_type": "code",
   "execution_count": 44,
   "metadata": {
    "id": "rv1bQTxtVvuz"
   },
   "outputs": [],
   "source": [
    "if 'google.colab' in str(get_ipython()):\n",
    "  df_bcf = pd.read_csv(\"https://raw.githubusercontent.com/edgarsmdn/MLCE_book/main/references/BCF_training.csv\")\n",
    "else:\n",
    "  df_bcf = pd.read_csv(\"references/BCF_training.csv\")\n"
   ]
  },
  {
   "cell_type": "code",
   "execution_count": 45,
   "metadata": {
    "id": "X5a-AgMZ55Rj"
   },
   "outputs": [],
   "source": [
    "# Your code here"
   ]
  }
 ],
 "metadata": {
  "colab": {
   "provenance": [],
   "toc_visible": true
  },
  "kernelspec": {
   "display_name": "Python 3 (ipykernel)",
   "language": "python",
   "name": "python3"
  },
  "language_info": {
   "codemirror_mode": {
    "name": "ipython",
    "version": 3
   },
   "file_extension": ".py",
   "mimetype": "text/x-python",
   "name": "python",
   "nbconvert_exporter": "python",
   "pygments_lexer": "ipython3",
   "version": "3.7.15"
  },
  "widgets": {
   "application/vnd.jupyter.widget-state+json": {
    "0d5dd3b8b7914bafb3c57066f2117f4b": {
     "model_module": "@jupyter-widgets/controls",
     "model_module_version": "1.5.0",
     "model_name": "HTMLModel",
     "state": {
      "_dom_classes": [],
      "_model_module": "@jupyter-widgets/controls",
      "_model_module_version": "1.5.0",
      "_model_name": "HTMLModel",
      "_view_count": null,
      "_view_module": "@jupyter-widgets/controls",
      "_view_module_version": "1.5.0",
      "_view_name": "HTMLView",
      "description": "",
      "description_tooltip": null,
      "layout": "IPY_MODEL_bbb549238aca44c0bcc7b41a4e0516d4",
      "placeholder": "​",
      "style": "IPY_MODEL_34b5cde70d7a41ae82eec617f48a33ff",
      "value": "100%"
     }
    },
    "131bcbae8f1a4166b7c187e27752a4a1": {
     "model_module": "@jupyter-widgets/controls",
     "model_module_version": "1.5.0",
     "model_name": "HBoxModel",
     "state": {
      "_dom_classes": [],
      "_model_module": "@jupyter-widgets/controls",
      "_model_module_version": "1.5.0",
      "_model_name": "HBoxModel",
      "_view_count": null,
      "_view_module": "@jupyter-widgets/controls",
      "_view_module_version": "1.5.0",
      "_view_name": "HBoxView",
      "box_style": "",
      "children": [
       "IPY_MODEL_0d5dd3b8b7914bafb3c57066f2117f4b",
       "IPY_MODEL_da3943a1533d48339cc99add56f296ec",
       "IPY_MODEL_8ab9c22f3c6b407aab7c2b20542caddf"
      ],
      "layout": "IPY_MODEL_62cc78dd0f354e4bab79b1adcbbb8d51"
     }
    },
    "164fc49ebc3b466f9b4c25260637210a": {
     "model_module": "@jupyter-widgets/controls",
     "model_module_version": "1.5.0",
     "model_name": "DescriptionStyleModel",
     "state": {
      "_model_module": "@jupyter-widgets/controls",
      "_model_module_version": "1.5.0",
      "_model_name": "DescriptionStyleModel",
      "_view_count": null,
      "_view_module": "@jupyter-widgets/base",
      "_view_module_version": "1.2.0",
      "_view_name": "StyleView",
      "description_width": ""
     }
    },
    "24b693f1c368469faf63263a9c520158": {
     "model_module": "@jupyter-widgets/controls",
     "model_module_version": "1.5.0",
     "model_name": "DescriptionStyleModel",
     "state": {
      "_model_module": "@jupyter-widgets/controls",
      "_model_module_version": "1.5.0",
      "_model_name": "DescriptionStyleModel",
      "_view_count": null,
      "_view_module": "@jupyter-widgets/base",
      "_view_module_version": "1.2.0",
      "_view_name": "StyleView",
      "description_width": ""
     }
    },
    "34b5cde70d7a41ae82eec617f48a33ff": {
     "model_module": "@jupyter-widgets/controls",
     "model_module_version": "1.5.0",
     "model_name": "DescriptionStyleModel",
     "state": {
      "_model_module": "@jupyter-widgets/controls",
      "_model_module_version": "1.5.0",
      "_model_name": "DescriptionStyleModel",
      "_view_count": null,
      "_view_module": "@jupyter-widgets/base",
      "_view_module_version": "1.2.0",
      "_view_name": "StyleView",
      "description_width": ""
     }
    },
    "3f07d346263c40ae80952f23251b4b74": {
     "model_module": "@jupyter-widgets/controls",
     "model_module_version": "1.5.0",
     "model_name": "HTMLModel",
     "state": {
      "_dom_classes": [],
      "_model_module": "@jupyter-widgets/controls",
      "_model_module_version": "1.5.0",
      "_model_name": "HTMLModel",
      "_view_count": null,
      "_view_module": "@jupyter-widgets/controls",
      "_view_module_version": "1.5.0",
      "_view_name": "HTMLView",
      "description": "",
      "description_tooltip": null,
      "layout": "IPY_MODEL_d19e4dface4c4701a08ac745a31b8225",
      "placeholder": "​",
      "style": "IPY_MODEL_24b693f1c368469faf63263a9c520158",
      "value": " 49/49 [01:48&lt;00:00,  2.54s/it]"
     }
    },
    "4bfe0903581b4ca999017a19607380d5": {
     "model_module": "@jupyter-widgets/base",
     "model_module_version": "1.2.0",
     "model_name": "LayoutModel",
     "state": {
      "_model_module": "@jupyter-widgets/base",
      "_model_module_version": "1.2.0",
      "_model_name": "LayoutModel",
      "_view_count": null,
      "_view_module": "@jupyter-widgets/base",
      "_view_module_version": "1.2.0",
      "_view_name": "LayoutView",
      "align_content": null,
      "align_items": null,
      "align_self": null,
      "border": null,
      "bottom": null,
      "display": null,
      "flex": null,
      "flex_flow": null,
      "grid_area": null,
      "grid_auto_columns": null,
      "grid_auto_flow": null,
      "grid_auto_rows": null,
      "grid_column": null,
      "grid_gap": null,
      "grid_row": null,
      "grid_template_areas": null,
      "grid_template_columns": null,
      "grid_template_rows": null,
      "height": null,
      "justify_content": null,
      "justify_items": null,
      "left": null,
      "margin": null,
      "max_height": null,
      "max_width": null,
      "min_height": null,
      "min_width": null,
      "object_fit": null,
      "object_position": null,
      "order": null,
      "overflow": null,
      "overflow_x": null,
      "overflow_y": null,
      "padding": null,
      "right": null,
      "top": null,
      "visibility": null,
      "width": null
     }
    },
    "536147b20e874c8a820f2ffbfd010b5a": {
     "model_module": "@jupyter-widgets/base",
     "model_module_version": "1.2.0",
     "model_name": "LayoutModel",
     "state": {
      "_model_module": "@jupyter-widgets/base",
      "_model_module_version": "1.2.0",
      "_model_name": "LayoutModel",
      "_view_count": null,
      "_view_module": "@jupyter-widgets/base",
      "_view_module_version": "1.2.0",
      "_view_name": "LayoutView",
      "align_content": null,
      "align_items": null,
      "align_self": null,
      "border": null,
      "bottom": null,
      "display": null,
      "flex": null,
      "flex_flow": null,
      "grid_area": null,
      "grid_auto_columns": null,
      "grid_auto_flow": null,
      "grid_auto_rows": null,
      "grid_column": null,
      "grid_gap": null,
      "grid_row": null,
      "grid_template_areas": null,
      "grid_template_columns": null,
      "grid_template_rows": null,
      "height": null,
      "justify_content": null,
      "justify_items": null,
      "left": null,
      "margin": null,
      "max_height": null,
      "max_width": null,
      "min_height": null,
      "min_width": null,
      "object_fit": null,
      "object_position": null,
      "order": null,
      "overflow": null,
      "overflow_x": null,
      "overflow_y": null,
      "padding": null,
      "right": null,
      "top": null,
      "visibility": null,
      "width": null
     }
    },
    "62cc78dd0f354e4bab79b1adcbbb8d51": {
     "model_module": "@jupyter-widgets/base",
     "model_module_version": "1.2.0",
     "model_name": "LayoutModel",
     "state": {
      "_model_module": "@jupyter-widgets/base",
      "_model_module_version": "1.2.0",
      "_model_name": "LayoutModel",
      "_view_count": null,
      "_view_module": "@jupyter-widgets/base",
      "_view_module_version": "1.2.0",
      "_view_name": "LayoutView",
      "align_content": null,
      "align_items": null,
      "align_self": null,
      "border": null,
      "bottom": null,
      "display": null,
      "flex": null,
      "flex_flow": null,
      "grid_area": null,
      "grid_auto_columns": null,
      "grid_auto_flow": null,
      "grid_auto_rows": null,
      "grid_column": null,
      "grid_gap": null,
      "grid_row": null,
      "grid_template_areas": null,
      "grid_template_columns": null,
      "grid_template_rows": null,
      "height": null,
      "justify_content": null,
      "justify_items": null,
      "left": null,
      "margin": null,
      "max_height": null,
      "max_width": null,
      "min_height": null,
      "min_width": null,
      "object_fit": null,
      "object_position": null,
      "order": null,
      "overflow": null,
      "overflow_x": null,
      "overflow_y": null,
      "padding": null,
      "right": null,
      "top": null,
      "visibility": null,
      "width": null
     }
    },
    "7976f19eb8f1414e8de608ed280755a7": {
     "model_module": "@jupyter-widgets/base",
     "model_module_version": "1.2.0",
     "model_name": "LayoutModel",
     "state": {
      "_model_module": "@jupyter-widgets/base",
      "_model_module_version": "1.2.0",
      "_model_name": "LayoutModel",
      "_view_count": null,
      "_view_module": "@jupyter-widgets/base",
      "_view_module_version": "1.2.0",
      "_view_name": "LayoutView",
      "align_content": null,
      "align_items": null,
      "align_self": null,
      "border": null,
      "bottom": null,
      "display": null,
      "flex": null,
      "flex_flow": null,
      "grid_area": null,
      "grid_auto_columns": null,
      "grid_auto_flow": null,
      "grid_auto_rows": null,
      "grid_column": null,
      "grid_gap": null,
      "grid_row": null,
      "grid_template_areas": null,
      "grid_template_columns": null,
      "grid_template_rows": null,
      "height": null,
      "justify_content": null,
      "justify_items": null,
      "left": null,
      "margin": null,
      "max_height": null,
      "max_width": null,
      "min_height": null,
      "min_width": null,
      "object_fit": null,
      "object_position": null,
      "order": null,
      "overflow": null,
      "overflow_x": null,
      "overflow_y": null,
      "padding": null,
      "right": null,
      "top": null,
      "visibility": null,
      "width": null
     }
    },
    "8ab9c22f3c6b407aab7c2b20542caddf": {
     "model_module": "@jupyter-widgets/controls",
     "model_module_version": "1.5.0",
     "model_name": "HTMLModel",
     "state": {
      "_dom_classes": [],
      "_model_module": "@jupyter-widgets/controls",
      "_model_module_version": "1.5.0",
      "_model_name": "HTMLModel",
      "_view_count": null,
      "_view_module": "@jupyter-widgets/controls",
      "_view_module_version": "1.5.0",
      "_view_name": "HTMLView",
      "description": "",
      "description_tooltip": null,
      "layout": "IPY_MODEL_536147b20e874c8a820f2ffbfd010b5a",
      "placeholder": "​",
      "style": "IPY_MODEL_cbeab16ad6e344eea77e78270864e9bc",
      "value": " 50/50 [00:16&lt;00:00,  3.10it/s]"
     }
    },
    "914eff8c2fae4f248af2dd1c0ab2adec": {
     "model_module": "@jupyter-widgets/controls",
     "model_module_version": "1.5.0",
     "model_name": "HBoxModel",
     "state": {
      "_dom_classes": [],
      "_model_module": "@jupyter-widgets/controls",
      "_model_module_version": "1.5.0",
      "_model_name": "HBoxModel",
      "_view_count": null,
      "_view_module": "@jupyter-widgets/controls",
      "_view_module_version": "1.5.0",
      "_view_name": "HBoxView",
      "box_style": "",
      "children": [
       "IPY_MODEL_c90eb39b1d6e4b5ba8136df7e5480a61",
       "IPY_MODEL_b5249ba10245474e8ea18b502bebffb2",
       "IPY_MODEL_3f07d346263c40ae80952f23251b4b74"
      ],
      "layout": "IPY_MODEL_7976f19eb8f1414e8de608ed280755a7"
     }
    },
    "99446b25af0a41efb78e8347a0468bc5": {
     "model_module": "@jupyter-widgets/controls",
     "model_module_version": "1.5.0",
     "model_name": "ProgressStyleModel",
     "state": {
      "_model_module": "@jupyter-widgets/controls",
      "_model_module_version": "1.5.0",
      "_model_name": "ProgressStyleModel",
      "_view_count": null,
      "_view_module": "@jupyter-widgets/base",
      "_view_module_version": "1.2.0",
      "_view_name": "StyleView",
      "bar_color": null,
      "description_width": ""
     }
    },
    "b01c55a604c741d3838d98d412f6098e": {
     "model_module": "@jupyter-widgets/base",
     "model_module_version": "1.2.0",
     "model_name": "LayoutModel",
     "state": {
      "_model_module": "@jupyter-widgets/base",
      "_model_module_version": "1.2.0",
      "_model_name": "LayoutModel",
      "_view_count": null,
      "_view_module": "@jupyter-widgets/base",
      "_view_module_version": "1.2.0",
      "_view_name": "LayoutView",
      "align_content": null,
      "align_items": null,
      "align_self": null,
      "border": null,
      "bottom": null,
      "display": null,
      "flex": null,
      "flex_flow": null,
      "grid_area": null,
      "grid_auto_columns": null,
      "grid_auto_flow": null,
      "grid_auto_rows": null,
      "grid_column": null,
      "grid_gap": null,
      "grid_row": null,
      "grid_template_areas": null,
      "grid_template_columns": null,
      "grid_template_rows": null,
      "height": null,
      "justify_content": null,
      "justify_items": null,
      "left": null,
      "margin": null,
      "max_height": null,
      "max_width": null,
      "min_height": null,
      "min_width": null,
      "object_fit": null,
      "object_position": null,
      "order": null,
      "overflow": null,
      "overflow_x": null,
      "overflow_y": null,
      "padding": null,
      "right": null,
      "top": null,
      "visibility": null,
      "width": null
     }
    },
    "b5249ba10245474e8ea18b502bebffb2": {
     "model_module": "@jupyter-widgets/controls",
     "model_module_version": "1.5.0",
     "model_name": "FloatProgressModel",
     "state": {
      "_dom_classes": [],
      "_model_module": "@jupyter-widgets/controls",
      "_model_module_version": "1.5.0",
      "_model_name": "FloatProgressModel",
      "_view_count": null,
      "_view_module": "@jupyter-widgets/controls",
      "_view_module_version": "1.5.0",
      "_view_name": "ProgressView",
      "bar_style": "success",
      "description": "",
      "description_tooltip": null,
      "layout": "IPY_MODEL_4bfe0903581b4ca999017a19607380d5",
      "max": 49,
      "min": 0,
      "orientation": "horizontal",
      "style": "IPY_MODEL_ef2b2ce93832431aac24fdb8dcbaf7f2",
      "value": 49
     }
    },
    "bbb549238aca44c0bcc7b41a4e0516d4": {
     "model_module": "@jupyter-widgets/base",
     "model_module_version": "1.2.0",
     "model_name": "LayoutModel",
     "state": {
      "_model_module": "@jupyter-widgets/base",
      "_model_module_version": "1.2.0",
      "_model_name": "LayoutModel",
      "_view_count": null,
      "_view_module": "@jupyter-widgets/base",
      "_view_module_version": "1.2.0",
      "_view_name": "LayoutView",
      "align_content": null,
      "align_items": null,
      "align_self": null,
      "border": null,
      "bottom": null,
      "display": null,
      "flex": null,
      "flex_flow": null,
      "grid_area": null,
      "grid_auto_columns": null,
      "grid_auto_flow": null,
      "grid_auto_rows": null,
      "grid_column": null,
      "grid_gap": null,
      "grid_row": null,
      "grid_template_areas": null,
      "grid_template_columns": null,
      "grid_template_rows": null,
      "height": null,
      "justify_content": null,
      "justify_items": null,
      "left": null,
      "margin": null,
      "max_height": null,
      "max_width": null,
      "min_height": null,
      "min_width": null,
      "object_fit": null,
      "object_position": null,
      "order": null,
      "overflow": null,
      "overflow_x": null,
      "overflow_y": null,
      "padding": null,
      "right": null,
      "top": null,
      "visibility": null,
      "width": null
     }
    },
    "c90eb39b1d6e4b5ba8136df7e5480a61": {
     "model_module": "@jupyter-widgets/controls",
     "model_module_version": "1.5.0",
     "model_name": "HTMLModel",
     "state": {
      "_dom_classes": [],
      "_model_module": "@jupyter-widgets/controls",
      "_model_module_version": "1.5.0",
      "_model_name": "HTMLModel",
      "_view_count": null,
      "_view_module": "@jupyter-widgets/controls",
      "_view_module_version": "1.5.0",
      "_view_name": "HTMLView",
      "description": "",
      "description_tooltip": null,
      "layout": "IPY_MODEL_d23639c2608d4c4bbbb58fbeeff6c934",
      "placeholder": "​",
      "style": "IPY_MODEL_164fc49ebc3b466f9b4c25260637210a",
      "value": "100%"
     }
    },
    "cbeab16ad6e344eea77e78270864e9bc": {
     "model_module": "@jupyter-widgets/controls",
     "model_module_version": "1.5.0",
     "model_name": "DescriptionStyleModel",
     "state": {
      "_model_module": "@jupyter-widgets/controls",
      "_model_module_version": "1.5.0",
      "_model_name": "DescriptionStyleModel",
      "_view_count": null,
      "_view_module": "@jupyter-widgets/base",
      "_view_module_version": "1.2.0",
      "_view_name": "StyleView",
      "description_width": ""
     }
    },
    "d19e4dface4c4701a08ac745a31b8225": {
     "model_module": "@jupyter-widgets/base",
     "model_module_version": "1.2.0",
     "model_name": "LayoutModel",
     "state": {
      "_model_module": "@jupyter-widgets/base",
      "_model_module_version": "1.2.0",
      "_model_name": "LayoutModel",
      "_view_count": null,
      "_view_module": "@jupyter-widgets/base",
      "_view_module_version": "1.2.0",
      "_view_name": "LayoutView",
      "align_content": null,
      "align_items": null,
      "align_self": null,
      "border": null,
      "bottom": null,
      "display": null,
      "flex": null,
      "flex_flow": null,
      "grid_area": null,
      "grid_auto_columns": null,
      "grid_auto_flow": null,
      "grid_auto_rows": null,
      "grid_column": null,
      "grid_gap": null,
      "grid_row": null,
      "grid_template_areas": null,
      "grid_template_columns": null,
      "grid_template_rows": null,
      "height": null,
      "justify_content": null,
      "justify_items": null,
      "left": null,
      "margin": null,
      "max_height": null,
      "max_width": null,
      "min_height": null,
      "min_width": null,
      "object_fit": null,
      "object_position": null,
      "order": null,
      "overflow": null,
      "overflow_x": null,
      "overflow_y": null,
      "padding": null,
      "right": null,
      "top": null,
      "visibility": null,
      "width": null
     }
    },
    "d23639c2608d4c4bbbb58fbeeff6c934": {
     "model_module": "@jupyter-widgets/base",
     "model_module_version": "1.2.0",
     "model_name": "LayoutModel",
     "state": {
      "_model_module": "@jupyter-widgets/base",
      "_model_module_version": "1.2.0",
      "_model_name": "LayoutModel",
      "_view_count": null,
      "_view_module": "@jupyter-widgets/base",
      "_view_module_version": "1.2.0",
      "_view_name": "LayoutView",
      "align_content": null,
      "align_items": null,
      "align_self": null,
      "border": null,
      "bottom": null,
      "display": null,
      "flex": null,
      "flex_flow": null,
      "grid_area": null,
      "grid_auto_columns": null,
      "grid_auto_flow": null,
      "grid_auto_rows": null,
      "grid_column": null,
      "grid_gap": null,
      "grid_row": null,
      "grid_template_areas": null,
      "grid_template_columns": null,
      "grid_template_rows": null,
      "height": null,
      "justify_content": null,
      "justify_items": null,
      "left": null,
      "margin": null,
      "max_height": null,
      "max_width": null,
      "min_height": null,
      "min_width": null,
      "object_fit": null,
      "object_position": null,
      "order": null,
      "overflow": null,
      "overflow_x": null,
      "overflow_y": null,
      "padding": null,
      "right": null,
      "top": null,
      "visibility": null,
      "width": null
     }
    },
    "da3943a1533d48339cc99add56f296ec": {
     "model_module": "@jupyter-widgets/controls",
     "model_module_version": "1.5.0",
     "model_name": "FloatProgressModel",
     "state": {
      "_dom_classes": [],
      "_model_module": "@jupyter-widgets/controls",
      "_model_module_version": "1.5.0",
      "_model_name": "FloatProgressModel",
      "_view_count": null,
      "_view_module": "@jupyter-widgets/controls",
      "_view_module_version": "1.5.0",
      "_view_name": "ProgressView",
      "bar_style": "success",
      "description": "",
      "description_tooltip": null,
      "layout": "IPY_MODEL_b01c55a604c741d3838d98d412f6098e",
      "max": 50,
      "min": 0,
      "orientation": "horizontal",
      "style": "IPY_MODEL_99446b25af0a41efb78e8347a0468bc5",
      "value": 50
     }
    },
    "ef2b2ce93832431aac24fdb8dcbaf7f2": {
     "model_module": "@jupyter-widgets/controls",
     "model_module_version": "1.5.0",
     "model_name": "ProgressStyleModel",
     "state": {
      "_model_module": "@jupyter-widgets/controls",
      "_model_module_version": "1.5.0",
      "_model_name": "ProgressStyleModel",
      "_view_count": null,
      "_view_module": "@jupyter-widgets/base",
      "_view_module_version": "1.2.0",
      "_view_name": "StyleView",
      "bar_color": null,
      "description_width": ""
     }
    }
   }
  }
 },
 "nbformat": 4,
 "nbformat_minor": 1
}
