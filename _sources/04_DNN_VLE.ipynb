{
 "cells": [
  {
   "cell_type": "markdown",
   "metadata": {
    "id": "iNKIKhreq7iC"
   },
   "source": [
    "# 4. Deep Neural Networks for VLE prediction 🌐\n",
    "\n",
    "<a href=\"https://githubtocolab.com/edgarsmdn/MLCE_book/blob/main/04_DNN_VLE.ipynb\" target=\"_parent\"><img src=\"https://colab.research.google.com/assets/colab-badge.svg\" alt=\"Open in Colab\"/></a>"
   ]
  },
  {
   "cell_type": "markdown",
   "metadata": {
    "id": "751Vv2OwrdpJ"
   },
   "source": [
    "## Goals of this exercise 🌟"
   ]
  },
  {
   "cell_type": "markdown",
   "metadata": {
    "id": "_uQrFwTQre1M"
   },
   "source": [
    "* We will observe the effect of considering physics when builiding ML models for chemical engineering\n",
    "* We will learn how to train Deep Neural Networks using [PyTorch](https://pytorch.org/)"
   ]
  },
  {
   "cell_type": "markdown",
   "metadata": {
    "id": "cSRpXRPg0VNm"
   },
   "source": [
    "## Modeling the phase envelope of CO$_2$ 🛫\n",
    "\n",
    "The data that we are going to use is taken from {cite}`haynes2016crc` and {cite}`speight2017lange` and corresponds to the vapor-liquid equilibria of CO$_2$. Heat of vaporizaion and vapor and liquid densities are also provided.\n",
    "\n",
    "As usual, let's import some libraries and read the data"
   ]
  },
  {
   "cell_type": "code",
   "execution_count": 1,
   "metadata": {
    "id": "wh5F6M5H3NP_"
   },
   "outputs": [],
   "source": [
    "import numpy as np\n",
    "import pandas as pd\n",
    "import matplotlib.pyplot as plt\n",
    "from tqdm.notebook import tqdm"
   ]
  },
  {
   "cell_type": "code",
   "execution_count": 2,
   "metadata": {
    "id": "KRegj2k63R7U"
   },
   "outputs": [
    {
     "data": {
      "text/html": [
       "<div>\n",
       "<style scoped>\n",
       "    .dataframe tbody tr th:only-of-type {\n",
       "        vertical-align: middle;\n",
       "    }\n",
       "\n",
       "    .dataframe tbody tr th {\n",
       "        vertical-align: top;\n",
       "    }\n",
       "\n",
       "    .dataframe thead th {\n",
       "        text-align: right;\n",
       "    }\n",
       "</style>\n",
       "<table border=\"1\" class=\"dataframe\">\n",
       "  <thead>\n",
       "    <tr style=\"text-align: right;\">\n",
       "      <th></th>\n",
       "      <th>T [C]</th>\n",
       "      <th>P_vap [kPa]</th>\n",
       "      <th>H_vap [J/g]</th>\n",
       "      <th>rho_vap [g/cm3]</th>\n",
       "      <th>rho_liq [g/cm3]</th>\n",
       "    </tr>\n",
       "  </thead>\n",
       "  <tbody>\n",
       "    <tr>\n",
       "      <th>0</th>\n",
       "      <td>-56.6</td>\n",
       "      <td>518.3</td>\n",
       "      <td>NaN</td>\n",
       "      <td>NaN</td>\n",
       "      <td>1.179</td>\n",
       "    </tr>\n",
       "    <tr>\n",
       "      <th>1</th>\n",
       "      <td>-56.0</td>\n",
       "      <td>531.8</td>\n",
       "      <td>NaN</td>\n",
       "      <td>NaN</td>\n",
       "      <td>1.177</td>\n",
       "    </tr>\n",
       "    <tr>\n",
       "      <th>2</th>\n",
       "      <td>-54.0</td>\n",
       "      <td>579.1</td>\n",
       "      <td>NaN</td>\n",
       "      <td>NaN</td>\n",
       "      <td>1.169</td>\n",
       "    </tr>\n",
       "    <tr>\n",
       "      <th>3</th>\n",
       "      <td>-52.0</td>\n",
       "      <td>629.6</td>\n",
       "      <td>NaN</td>\n",
       "      <td>NaN</td>\n",
       "      <td>1.162</td>\n",
       "    </tr>\n",
       "    <tr>\n",
       "      <th>4</th>\n",
       "      <td>-50.0</td>\n",
       "      <td>683.4</td>\n",
       "      <td>NaN</td>\n",
       "      <td>NaN</td>\n",
       "      <td>1.155</td>\n",
       "    </tr>\n",
       "  </tbody>\n",
       "</table>\n",
       "</div>"
      ],
      "text/plain": [
       "   T [C]  P_vap [kPa]  H_vap [J/g]  rho_vap [g/cm3]  rho_liq [g/cm3]\n",
       "0  -56.6        518.3          NaN              NaN            1.179\n",
       "1  -56.0        531.8          NaN              NaN            1.177\n",
       "2  -54.0        579.1          NaN              NaN            1.169\n",
       "3  -52.0        629.6          NaN              NaN            1.162\n",
       "4  -50.0        683.4          NaN              NaN            1.155"
      ]
     },
     "execution_count": 2,
     "metadata": {},
     "output_type": "execute_result"
    }
   ],
   "source": [
    "if 'google.colab' in str(get_ipython()):\n",
    "  df = pd.read_csv(\"https://raw.githubusercontent.com/edgarsmdn/MLCE_book/main/references/CO2_data.csv\")\n",
    "else:\n",
    "  df = pd.read_csv(\"references/CO2_data.csv\")\n",
    "\n",
    "df.head()"
   ]
  },
  {
   "cell_type": "markdown",
   "metadata": {},
   "source": [
    "We get some statistics"
   ]
  },
  {
   "cell_type": "code",
   "execution_count": 3,
   "metadata": {},
   "outputs": [
    {
     "data": {
      "text/html": [
       "<div>\n",
       "<style scoped>\n",
       "    .dataframe tbody tr th:only-of-type {\n",
       "        vertical-align: middle;\n",
       "    }\n",
       "\n",
       "    .dataframe tbody tr th {\n",
       "        vertical-align: top;\n",
       "    }\n",
       "\n",
       "    .dataframe thead th {\n",
       "        text-align: right;\n",
       "    }\n",
       "</style>\n",
       "<table border=\"1\" class=\"dataframe\">\n",
       "  <thead>\n",
       "    <tr style=\"text-align: right;\">\n",
       "      <th></th>\n",
       "      <th>T [C]</th>\n",
       "      <th>P_vap [kPa]</th>\n",
       "      <th>H_vap [J/g]</th>\n",
       "      <th>rho_vap [g/cm3]</th>\n",
       "      <th>rho_liq [g/cm3]</th>\n",
       "    </tr>\n",
       "  </thead>\n",
       "  <tbody>\n",
       "    <tr>\n",
       "      <th>count</th>\n",
       "      <td>72.000000</td>\n",
       "      <td>72.000000</td>\n",
       "      <td>57.000000</td>\n",
       "      <td>57.000000</td>\n",
       "      <td>72.000000</td>\n",
       "    </tr>\n",
       "    <tr>\n",
       "      <th>mean</th>\n",
       "      <td>-7.696944</td>\n",
       "      <td>3318.288889</td>\n",
       "      <td>208.747544</td>\n",
       "      <td>0.132168</td>\n",
       "      <td>0.924410</td>\n",
       "    </tr>\n",
       "    <tr>\n",
       "      <th>std</th>\n",
       "      <td>24.977866</td>\n",
       "      <td>2016.721511</td>\n",
       "      <td>70.314376</td>\n",
       "      <td>0.093078</td>\n",
       "      <td>0.159318</td>\n",
       "    </tr>\n",
       "    <tr>\n",
       "      <th>min</th>\n",
       "      <td>-56.600000</td>\n",
       "      <td>518.300000</td>\n",
       "      <td>0.000000</td>\n",
       "      <td>0.038460</td>\n",
       "      <td>0.464100</td>\n",
       "    </tr>\n",
       "    <tr>\n",
       "      <th>25%</th>\n",
       "      <td>-25.837500</td>\n",
       "      <td>1672.000000</td>\n",
       "      <td>169.100000</td>\n",
       "      <td>0.063140</td>\n",
       "      <td>0.831700</td>\n",
       "    </tr>\n",
       "    <tr>\n",
       "      <th>50%</th>\n",
       "      <td>-6.115000</td>\n",
       "      <td>2954.500000</td>\n",
       "      <td>227.300000</td>\n",
       "      <td>0.101300</td>\n",
       "      <td>0.941800</td>\n",
       "    </tr>\n",
       "    <tr>\n",
       "      <th>75%</th>\n",
       "      <td>13.057500</td>\n",
       "      <td>4830.750000</td>\n",
       "      <td>264.500000</td>\n",
       "      <td>0.171700</td>\n",
       "      <td>1.021725</td>\n",
       "    </tr>\n",
       "    <tr>\n",
       "      <th>max</th>\n",
       "      <td>31.100000</td>\n",
       "      <td>7391.000000</td>\n",
       "      <td>292.900000</td>\n",
       "      <td>0.464100</td>\n",
       "      <td>1.179000</td>\n",
       "    </tr>\n",
       "  </tbody>\n",
       "</table>\n",
       "</div>"
      ],
      "text/plain": [
       "           T [C]  P_vap [kPa]  H_vap [J/g]  rho_vap [g/cm3]  rho_liq [g/cm3]\n",
       "count  72.000000    72.000000    57.000000        57.000000        72.000000\n",
       "mean   -7.696944  3318.288889   208.747544         0.132168         0.924410\n",
       "std    24.977866  2016.721511    70.314376         0.093078         0.159318\n",
       "min   -56.600000   518.300000     0.000000         0.038460         0.464100\n",
       "25%   -25.837500  1672.000000   169.100000         0.063140         0.831700\n",
       "50%    -6.115000  2954.500000   227.300000         0.101300         0.941800\n",
       "75%    13.057500  4830.750000   264.500000         0.171700         1.021725\n",
       "max    31.100000  7391.000000   292.900000         0.464100         1.179000"
      ]
     },
     "execution_count": 3,
     "metadata": {},
     "output_type": "execute_result"
    }
   ],
   "source": [
    "df.describe()"
   ]
  },
  {
   "cell_type": "markdown",
   "metadata": {
    "id": "uISiPw5xxtqx"
   },
   "source": [
    "Look at the counts of each property, it becomes evident that some values are missing. Let's remove those rows. Also, look at the minimum value of the enthalpy of vaporization, it is zero!  This correspond to the [critical point](https://en.wikipedia.org/wiki/Critical_point_(thermodynamics))."
   ]
  },
  {
   "cell_type": "code",
   "execution_count": 4,
   "metadata": {
    "id": "O9pKMyaGYbqA"
   },
   "outputs": [],
   "source": [
    "df = df[(df['H_vap [J/g]'].notna() & df['rho_vap [g/cm3]'].notna())]"
   ]
  },
  {
   "cell_type": "markdown",
   "metadata": {
    "id": "EGjy9MnjknIB"
   },
   "source": [
    "and we plot the data"
   ]
  },
  {
   "cell_type": "code",
   "execution_count": 5,
   "metadata": {
    "colab": {
     "base_uri": "https://localhost:8080/",
     "height": 363
    },
    "id": "ABNMQNzxe-u3",
    "outputId": "a891507f-d053-4b5b-9b52-094ad0b70877"
   },
   "outputs": [
    {
     "data": {
      "text/plain": [
       "<matplotlib.legend.Legend at 0x1d16a8f3108>"
      ]
     },
     "execution_count": 5,
     "metadata": {},
     "output_type": "execute_result"
    },
    {
     "data": {
      "image/png": "[encoded data removed]",
      "text/plain": [
       "<Figure size 640x480 with 1 Axes>"
      ]
     },
     "metadata": {},
     "output_type": "display_data"
    }
   ],
   "source": [
    "df.plot.scatter(x='T [C]', y='P_vap [kPa]')\n",
    "\n",
    "T_critical = df[df['H_vap [J/g]'] == 0]['T [C]'].values\n",
    "P_critical = df[df['H_vap [J/g]'] == 0]['P_vap [kPa]'].values\n",
    "\n",
    "plt.plot(T_critical, P_critical, 'rx', label='Critical point')\n",
    "plt.legend()"
   ]
  },
  {
   "cell_type": "markdown",
   "metadata": {},
   "source": [
    "Let's now plot the [enthalpy of vaporization](https://en.wikipedia.org/wiki/Enthalpy_of_vaporization) which is the amount of energy that certain amount of liquid needs to be transformed into a vapor."
   ]
  },
  {
   "cell_type": "code",
   "execution_count": 6,
   "metadata": {},
   "outputs": [
    {
     "data": {
      "text/plain": [
       "<AxesSubplot:xlabel='T [C]', ylabel='H_vap [J/g]'>"
      ]
     },
     "execution_count": 6,
     "metadata": {},
     "output_type": "execute_result"
    },
    {
     "data": {
      "image/png": "[encoded data removed]",
      "text/plain": [
       "<Figure size 640x480 with 1 Axes>"
      ]
     },
     "metadata": {},
     "output_type": "display_data"
    }
   ],
   "source": [
    "df.plot.scatter(x='T [C]', y='H_vap [J/g]')"
   ]
  },
  {
   "cell_type": "markdown",
   "metadata": {},
   "source": [
    "From this we can clearly see that the maximum temperature in the dataset correspond to the [critical point](https://en.wikipedia.org/wiki/Critical_point_(thermodynamics)) (i.e., when the enthalpy of vaporization is zero)! As we have discovered before.\n",
    "\n",
    "Let's quickly fit a linear model as a baseline..."
   ]
  },
  {
   "cell_type": "code",
   "execution_count": 7,
   "metadata": {},
   "outputs": [
    {
     "data": {
      "text/plain": [
       "<matplotlib.legend.Legend at 0x1d173da4c08>"
      ]
     },
     "execution_count": 7,
     "metadata": {},
     "output_type": "execute_result"
    },
    {
     "data": {
      "image/png": "[encoded data removed]",
      "text/plain": [
       "<Figure size 640x480 with 1 Axes>"
      ]
     },
     "metadata": {},
     "output_type": "display_data"
    }
   ],
   "source": [
    "from sklearn.linear_model import LinearRegression\n",
    "\n",
    "Ts = df['T [C]'].to_numpy().reshape(-1,1)\n",
    "Ps = df['P_vap [kPa]'].to_numpy().reshape(-1,1)\n",
    "\n",
    "linear_regression = LinearRegression().fit(Ts, Ps)\n",
    "\n",
    "x_pred = np.linspace(min(Ts), max(Ts), 100)\n",
    "y_pred = linear_regression.predict(x_pred)\n",
    "R2 = linear_regression.score(Ts, Ps)\n",
    "\n",
    "plt.figure()\n",
    "plt.plot(Ts, Ps, 'co')\n",
    "plt.plot(x_pred, y_pred,'k', linewidth=1, label='Linear model')\n",
    "plt.plot(T_critical, P_critical, 'rx', label='Critical point')\n",
    "plt.text(-25, 5500, 'R$^2 = $' + str(np.round(R2, 3)))\n",
    "plt.legend()"
   ]
  },
  {
   "cell_type": "markdown",
   "metadata": {},
   "source": [
    "Well, the fit is not very good. But, we have knowledge of a useful relationship between vapor pressure and temperature for single components: the [Clausius–Clapeyron equation](https://en.wikipedia.org/wiki/Clausius%E2%80%93Clapeyron_relation)\n",
    "\n",
    "$$\n",
    "\\ln P = - \\frac{\\hat{h}_{vap}}{R_sT} + c \n",
    "$$\n",
    "\n",
    "where $\\hat{h}_{vap}$ is the approximated specific enthalpy of vaporization, $R_s$ is the [specific gas constant](https://en.wikipedia.org/wiki/Gas_constant#Specific_gas_constant) and $c$ is a constant. In this equation $T$ is used in the absolute scale. Notice that this relationship assumes that the enthalpy of vaporization is constant over temperature, which we have observed not to be entirely true. Let's use this relationship and fit a linear model..."
   ]
  },
  {
   "cell_type": "code",
   "execution_count": 8,
   "metadata": {},
   "outputs": [
    {
     "data": {
      "text/plain": [
       "<matplotlib.legend.Legend at 0x1d173fe07c8>"
      ]
     },
     "execution_count": 8,
     "metadata": {},
     "output_type": "execute_result"
    },
    {
     "data": {
      "image/png": "[encoded data removed]",
      "text/plain": [
       "<Figure size 640x480 with 1 Axes>"
      ]
     },
     "metadata": {},
     "output_type": "display_data"
    }
   ],
   "source": [
    "ln_P = np.log(Ps)\n",
    "inv_T = 1/(Ts + 273.15)\n",
    "\n",
    "linear_regression = LinearRegression().fit(inv_T, ln_P)\n",
    "\n",
    "x_pred = np.linspace(min(inv_T), max(inv_T), 100)\n",
    "y_pred = linear_regression.predict(x_pred)\n",
    "R2 = linear_regression.score(inv_T, ln_P)\n",
    "\n",
    "\n",
    "plt.figure()\n",
    "plt.plot(inv_T, ln_P, 'co')\n",
    "plt.plot(x_pred, y_pred,'k', linewidth=1, label='Linear model')\n",
    "plt.text(0.004, 8.7, 'R$^2 = $' + str(np.round(R2, 3)))\n",
    "plt.legend()"
   ]
  },
  {
   "cell_type": "markdown",
   "metadata": {},
   "source": [
    "A valuable lesson to take from this very simple example\n",
    "\n",
    "```{important} \n",
    "Do not by-pass the mechanistic knowledge! \n",
    "```\n",
    "\n",
    "However, even when the Clasius-Clapeyron equation shown above gives us a very useful relationship between vapor pressure and temperature, this relationship can only be used to approximate the enthalpy of vaporization. This is because the enthalpy of vaporization depends on temperature. Let's observe this..."
   ]
  },
  {
   "cell_type": "code",
   "execution_count": 9,
   "metadata": {},
   "outputs": [
    {
     "data": {
      "text/plain": [
       "<matplotlib.legend.Legend at 0x1d16b2def48>"
      ]
     },
     "execution_count": 9,
     "metadata": {},
     "output_type": "execute_result"
    },
    {
     "data": {
      "image/png": "[encoded data removed]",
      "text/plain": [
       "<Figure size 640x480 with 1 Axes>"
      ]
     },
     "metadata": {},
     "output_type": "display_data"
    }
   ],
   "source": [
    "Hvaps = df['H_vap [J/g]'].to_numpy().reshape(-1,1)\n",
    "\n",
    "# Change units of Hvap\n",
    "mw_CO2 = 44.01 # g/mol\n",
    "Hvaps = Hvaps * mw_CO2\n",
    "\n",
    "ln_P = np.log(Ps)\n",
    "neg_hvap_T = - Hvaps/(Ts + 273.15)\n",
    "\n",
    "linear_regression = LinearRegression().fit(neg_hvap_T, ln_P)\n",
    "\n",
    "x_pred = np.linspace(min(neg_hvap_T), max(neg_hvap_T), 100)\n",
    "y_pred = linear_regression.predict(x_pred)\n",
    "R2 = linear_regression.score(neg_hvap_T, ln_P)\n",
    "\n",
    "\n",
    "plt.figure()\n",
    "plt.plot(neg_hvap_T, ln_P, 'co')\n",
    "plt.plot(x_pred, y_pred,'k', linewidth=1, label='Linear model')\n",
    "plt.text(-10, 8, 'R$^2 = $' + str(np.round(R2, 3)))\n",
    "plt.legend()"
   ]
  },
  {
   "cell_type": "markdown",
   "metadata": {},
   "source": [
    "## Modeling the phase envelope of other compounds 🧪\n",
    "\n",
    "As you can see, the relationship between vapor pressure and temperature is somehow easy to tackle. Even a linear model returns a pretty good approximation of it (combined with the knowledge of the Clasius-Clapeyron equation). A non-linear regression would also take care of the dependency of the enthalpy of vaporization with temperature.\n",
    "\n",
    "Now, a more realistic problem would be to approximate the phase envelope of other compounds for which we do not have any experimental data. This can be seen as doing an extrapolation in the chemical space...\n",
    "\n",
    "Can we develope a decent model for this task using deep neural networks?\n",
    "\n",
    "Let's first get the data\n",
    "\n"
   ]
  },
  {
   "cell_type": "code",
   "execution_count": 10,
   "metadata": {},
   "outputs": [
    {
     "data": {
      "text/html": [
       "<div>\n",
       "<style scoped>\n",
       "    .dataframe tbody tr th:only-of-type {\n",
       "        vertical-align: middle;\n",
       "    }\n",
       "\n",
       "    .dataframe tbody tr th {\n",
       "        vertical-align: top;\n",
       "    }\n",
       "\n",
       "    .dataframe thead th {\n",
       "        text-align: right;\n",
       "    }\n",
       "</style>\n",
       "<table border=\"1\" class=\"dataframe\">\n",
       "  <thead>\n",
       "    <tr style=\"text-align: right;\">\n",
       "      <th></th>\n",
       "      <th>Name</th>\n",
       "      <th>CAS-RN</th>\n",
       "      <th>Formula</th>\n",
       "      <th>SMILES</th>\n",
       "      <th>T</th>\n",
       "      <th>Pvap</th>\n",
       "      <th>KDB_ID</th>\n",
       "      <th>Class</th>\n",
       "      <th>Subclass</th>\n",
       "    </tr>\n",
       "  </thead>\n",
       "  <tbody>\n",
       "    <tr>\n",
       "      <th>0</th>\n",
       "      <td>METHANE</td>\n",
       "      <td>74-82-8</td>\n",
       "      <td>CH4</td>\n",
       "      <td>C</td>\n",
       "      <td>90.670000</td>\n",
       "      <td>11.702099</td>\n",
       "      <td>1</td>\n",
       "      <td>Paraffinic Hydrocarbons</td>\n",
       "      <td>n-Alkanes</td>\n",
       "    </tr>\n",
       "    <tr>\n",
       "      <th>1</th>\n",
       "      <td>METHANE</td>\n",
       "      <td>74-82-8</td>\n",
       "      <td>CH4</td>\n",
       "      <td>C</td>\n",
       "      <td>94.115172</td>\n",
       "      <td>17.886999</td>\n",
       "      <td>1</td>\n",
       "      <td>Paraffinic Hydrocarbons</td>\n",
       "      <td>n-Alkanes</td>\n",
       "    </tr>\n",
       "    <tr>\n",
       "      <th>2</th>\n",
       "      <td>METHANE</td>\n",
       "      <td>74-82-8</td>\n",
       "      <td>CH4</td>\n",
       "      <td>C</td>\n",
       "      <td>97.560345</td>\n",
       "      <td>26.489535</td>\n",
       "      <td>1</td>\n",
       "      <td>Paraffinic Hydrocarbons</td>\n",
       "      <td>n-Alkanes</td>\n",
       "    </tr>\n",
       "    <tr>\n",
       "      <th>3</th>\n",
       "      <td>METHANE</td>\n",
       "      <td>74-82-8</td>\n",
       "      <td>CH4</td>\n",
       "      <td>C</td>\n",
       "      <td>101.005517</td>\n",
       "      <td>38.137051</td>\n",
       "      <td>1</td>\n",
       "      <td>Paraffinic Hydrocarbons</td>\n",
       "      <td>n-Alkanes</td>\n",
       "    </tr>\n",
       "    <tr>\n",
       "      <th>4</th>\n",
       "      <td>METHANE</td>\n",
       "      <td>74-82-8</td>\n",
       "      <td>CH4</td>\n",
       "      <td>C</td>\n",
       "      <td>104.450690</td>\n",
       "      <td>53.534190</td>\n",
       "      <td>1</td>\n",
       "      <td>Paraffinic Hydrocarbons</td>\n",
       "      <td>n-Alkanes</td>\n",
       "    </tr>\n",
       "  </tbody>\n",
       "</table>\n",
       "</div>"
      ],
      "text/plain": [
       "      Name   CAS-RN Formula SMILES           T       Pvap  KDB_ID  \\\n",
       "0  METHANE  74-82-8     CH4      C   90.670000  11.702099       1   \n",
       "1  METHANE  74-82-8     CH4      C   94.115172  17.886999       1   \n",
       "2  METHANE  74-82-8     CH4      C   97.560345  26.489535       1   \n",
       "3  METHANE  74-82-8     CH4      C  101.005517  38.137051       1   \n",
       "4  METHANE  74-82-8     CH4      C  104.450690  53.534190       1   \n",
       "\n",
       "                     Class   Subclass  \n",
       "0  Paraffinic Hydrocarbons  n-Alkanes  \n",
       "1  Paraffinic Hydrocarbons  n-Alkanes  \n",
       "2  Paraffinic Hydrocarbons  n-Alkanes  \n",
       "3  Paraffinic Hydrocarbons  n-Alkanes  \n",
       "4  Paraffinic Hydrocarbons  n-Alkanes  "
      ]
     },
     "execution_count": 10,
     "metadata": {},
     "output_type": "execute_result"
    }
   ],
   "source": [
    "if 'google.colab' in str(get_ipython()):\n",
    "  df = pd.read_csv(\"https://raw.githubusercontent.com/edgarsmdn/MLCE_book/main/references/Vapor_pressures.csv\")\n",
    "else:\n",
    "  df = pd.read_csv(\"references/Vapor_pressures.csv\")\n",
    "\n",
    "df.head()"
   ]
  },
  {
   "cell_type": "markdown",
   "metadata": {},
   "source": [
    "This dataset contains the vapor pressures of various compounds. It has been collected from the [Korean Data Bank](https://www.cheric.org/research/kdb/). As you can see above, several identifiers are available for the compounds (e.g., name, formula, SMILES). The temperature in the dataset is given in Kelvin and the vapor presures on kPa.\n",
    "\n",
    "Here, we will use the SMILES representation of molecules to get some input features to train our models. You can read more about SMILES [elsewhere](https://en.wikipedia.org/wiki/Simplified_molecular-input_line-entry_system), what it is important to know for now is that SMILES is a string representation of a molecule! We can use this representation to get some molecular descriptors that will serve as input features to our models.\n",
    "\n",
    "Here, we will use a popular vectorial representation of a molecule in cheminformatics known as molecular fingerprint. Of course, there are many types of molecular fingerprints. But, again, you can learn more about this [elsewhere](https://www.rdkit.org/docs/GettingStartedInPython.html#fingerprinting-and-molecular-similarity).\n",
    "\n",
    "We will use here [datamol](https://datamol.io/) to get some molecular objects and fingerprints. Feel free to learn more about it on your own! This is a library that is not installed by default in Colab. Therefore, if you are using Colab, simply run the cell below, otherwise follow the installation instructions given in their [website](https://datamol.io/)."
   ]
  },
  {
   "cell_type": "code",
   "execution_count": 11,
   "metadata": {},
   "outputs": [],
   "source": [
    "if 'google.colab' in str(get_ipython()):\n",
    "    !pip install rdkit\n",
    "    !pip install datamol"
   ]
  },
  {
   "cell_type": "code",
   "execution_count": 12,
   "metadata": {},
   "outputs": [
    {
     "name": "stderr",
     "output_type": "stream",
     "text": [
      "[13:19:18] WARNING: not removing hydrogen atom without neighbors\n",
      "[13:19:18] WARNING: not removing hydrogen atom without neighbors\n",
      "[13:19:18] WARNING: not removing hydrogen atom without neighbors\n",
      "[13:19:18] WARNING: not removing hydrogen atom without neighbors\n",
      "[13:19:18] WARNING: not removing hydrogen atom without neighbors\n",
      "[13:19:18] WARNING: not removing hydrogen atom without neighbors\n",
      "[13:19:18] WARNING: not removing hydrogen atom without neighbors\n",
      "[13:19:18] WARNING: not removing hydrogen atom without neighbors\n",
      "[13:19:18] WARNING: not removing hydrogen atom without neighbors\n",
      "[13:19:18] WARNING: not removing hydrogen atom without neighbors\n",
      "[13:19:18] WARNING: not removing hydrogen atom without neighbors\n",
      "[13:19:18] WARNING: not removing hydrogen atom without neighbors\n",
      "[13:19:18] WARNING: not removing hydrogen atom without neighbors\n",
      "[13:19:18] WARNING: not removing hydrogen atom without neighbors\n",
      "[13:19:18] WARNING: not removing hydrogen atom without neighbors\n",
      "[13:19:18] WARNING: not removing hydrogen atom without neighbors\n",
      "[13:19:18] WARNING: not removing hydrogen atom without neighbors\n",
      "[13:19:18] WARNING: not removing hydrogen atom without neighbors\n",
      "[13:19:18] WARNING: not removing hydrogen atom without neighbors\n",
      "[13:19:18] WARNING: not removing hydrogen atom without neighbors\n",
      "[13:19:18] WARNING: not removing hydrogen atom without neighbors\n",
      "[13:19:18] WARNING: not removing hydrogen atom without neighbors\n",
      "[13:19:18] WARNING: not removing hydrogen atom without neighbors\n",
      "[13:19:18] WARNING: not removing hydrogen atom without neighbors\n",
      "[13:19:18] WARNING: not removing hydrogen atom without neighbors\n",
      "[13:19:18] WARNING: not removing hydrogen atom without neighbors\n",
      "[13:19:18] WARNING: not removing hydrogen atom without neighbors\n",
      "[13:19:18] WARNING: not removing hydrogen atom without neighbors\n",
      "[13:19:18] WARNING: not removing hydrogen atom without neighbors\n",
      "[13:19:18] WARNING: not removing hydrogen atom without neighbors\n"
     ]
    }
   ],
   "source": [
    "import datamol as dm\n",
    "\n",
    "df['Mol'] = df['SMILES'].apply(dm.to_mol)\n",
    "df['Fingerprint'] = df['Mol'].apply(dm.to_fp)"
   ]
  },
  {
   "cell_type": "markdown",
   "metadata": {},
   "source": [
    "Do not worry about the warning above. I appears for the hydrogen molecule (with SMILES `[HH]`). \n",
    "\n",
    "Now, we have a vectorial representation of each molecule: a fingerprint! Each fingerprint is an array of 2048 bit elements in which 1 denotes the presence of certain molecular substructure and 0 denotes the abscense of it.\n",
    "\n",
    "Okay, now let's go a bit deeper into our [Exploratory Data Analysis](https://en.wikipedia.org/wiki/Exploratory_data_analysis). \n",
    "\n",
    "How many chemical compounds are considered in our dataset?"
   ]
  },
  {
   "cell_type": "code",
   "execution_count": 13,
   "metadata": {},
   "outputs": [
    {
     "data": {
      "text/plain": [
       "1391"
      ]
     },
     "execution_count": 13,
     "metadata": {},
     "output_type": "execute_result"
    }
   ],
   "source": [
    "df['Name'].nunique()"
   ]
  },
  {
   "cell_type": "markdown",
   "metadata": {},
   "source": [
    "How many chemical classes?"
   ]
  },
  {
   "cell_type": "code",
   "execution_count": 14,
   "metadata": {},
   "outputs": [
    {
     "data": {
      "text/plain": [
       "17"
      ]
     },
     "execution_count": 14,
     "metadata": {},
     "output_type": "execute_result"
    }
   ],
   "source": [
    "df['Class'].nunique()"
   ]
  },
  {
   "cell_type": "markdown",
   "metadata": {},
   "source": [
    "What about subclasses?"
   ]
  },
  {
   "cell_type": "code",
   "execution_count": 15,
   "metadata": {},
   "outputs": [
    {
     "data": {
      "text/plain": [
       "53"
      ]
     },
     "execution_count": 15,
     "metadata": {},
     "output_type": "execute_result"
    }
   ],
   "source": [
    "df['Subclass'].nunique()"
   ]
  },
  {
   "cell_type": "markdown",
   "metadata": {},
   "source": [
    " What are distributions of the covered temperatures and vapor pressures?"
   ]
  },
  {
   "cell_type": "code",
   "execution_count": 16,
   "metadata": {},
   "outputs": [
    {
     "data": {
      "text/plain": [
       "Text(0.5, 9.444444444444459, 'Temperature [K]')"
      ]
     },
     "execution_count": 16,
     "metadata": {},
     "output_type": "execute_result"
    },
    {
     "data": {
      "image/png": "[encoded data removed]",
      "text/plain": [
       "<Figure size 1200x400 with 1 Axes>"
      ]
     },
     "metadata": {},
     "output_type": "display_data"
    }
   ],
   "source": [
    "import seaborn as sns\n",
    "\n",
    "sns.displot(df, kde=True, x='T', legend=True, height=4, aspect=3)\n",
    "plt.xlabel('Temperature [K]')"
   ]
  },
  {
   "cell_type": "code",
   "execution_count": 17,
   "metadata": {},
   "outputs": [
    {
     "data": {
      "text/plain": [
       "Text(0.5, 9.444444444444459, 'Vapor Pressure [kPa]')"
      ]
     },
     "execution_count": 17,
     "metadata": {},
     "output_type": "execute_result"
    },
    {
     "data": {
      "image/png": "[encoded data removed]",
      "text/plain": [
       "<Figure size 1200x400 with 1 Axes>"
      ]
     },
     "metadata": {},
     "output_type": "display_data"
    }
   ],
   "source": [
    "sns.displot(df, kde=True, x='Pvap', legend=True, height=4, aspect=3)\n",
    "plt.xlabel('Vapor Pressure [kPa]')"
   ]
  },
  {
   "cell_type": "markdown",
   "metadata": {},
   "source": [
    "Interesting distribution for the vapor pressure, isn't it? We have a huge range of vapor pressures in our dataset. It would make sense to scale the data using a logarithmic function. Also, do you remember the Clasius-Clapeyron equation? The vapor pressure is given in logarithmic units! So, let's go ahead and scale our data according to the Clasius-Clapeyron form."
   ]
  },
  {
   "cell_type": "code",
   "execution_count": 18,
   "metadata": {},
   "outputs": [],
   "source": [
    "df['ln_P'] = np.log(df['Pvap'])"
   ]
  },
  {
   "cell_type": "code",
   "execution_count": 19,
   "metadata": {},
   "outputs": [
    {
     "data": {
      "text/plain": [
       "Text(0.5, 9.444444444444459, 'ln Pvap')"
      ]
     },
     "execution_count": 19,
     "metadata": {},
     "output_type": "execute_result"
    },
    {
     "data": {
      "image/png": "[encoded data removed]",
      "text/plain": [
       "<Figure size 1200x400 with 1 Axes>"
      ]
     },
     "metadata": {},
     "output_type": "display_data"
    }
   ],
   "source": [
    "sns.displot(df, kde=True, x='ln_P', legend=True, height=4, aspect=3)\n",
    "plt.xlabel('ln Pvap')"
   ]
  },
  {
   "cell_type": "markdown",
   "metadata": {},
   "source": [
    "And we will standarize the temperature values"
   ]
  },
  {
   "cell_type": "code",
   "execution_count": 20,
   "metadata": {},
   "outputs": [],
   "source": [
    "from sklearn.preprocessing import StandardScaler\n",
    "scaler = StandardScaler()\n",
    "scaler.fit(df['T'].to_numpy().reshape(-1,1))\n",
    "\n",
    "df['T_scaled'] = scaler.transform(df['T'].to_numpy().reshape(-1,1))"
   ]
  },
  {
   "cell_type": "markdown",
   "metadata": {},
   "source": [
    "Let's now split the data! \n",
    "\n",
    "Instead of doing it blindly using a random split on the whole dataset, let's ensure that we train on certain molecules and test on other molecules. At the end of the day this was our original goal do you remember?\n",
    "\n",
    "We can go one step further and use the information that we have available regarding the chemical classes. We will split the data in such a way that the chemical classes are well-distributed among training, validation and test. This strategy is called as [stratified splitting](https://medium.com/@analyttica/what-is-meant-by-stratified-split-289a8a986a90). Be aware that the way in which you split your data is very linked to the conclusions that you can draw from the model performance!"
   ]
  },
  {
   "cell_type": "code",
   "execution_count": 21,
   "metadata": {},
   "outputs": [],
   "source": [
    "from sklearn.model_selection import train_test_split\n",
    "\n",
    "chemical_classes = df['Class'].unique()\n",
    "\n",
    "train_comps, valid_comps, test_comps = [], [], []\n",
    "for cl in chemical_classes:\n",
    "    # Get the data with this class\n",
    "    df_cl = df[df['Class'] == cl]\n",
    "    \n",
    "    # Get unique compounds for this class\n",
    "    unique_compounds_cl = df_cl['Name'].unique()\n",
    "    \n",
    "    # Randomly split the compounds for train and test\n",
    "    comp_train_all, comp_test = train_test_split(unique_compounds_cl, test_size=0.2, random_state=0)\n",
    "    comp_train, comp_valid = train_test_split(unique_compounds_cl, test_size=0.2, random_state=1)\n",
    "    \n",
    "    train_comps.extend(list(comp_train))\n",
    "    valid_comps.extend(list(comp_valid))\n",
    "    test_comps.extend(list(comp_test))"
   ]
  },
  {
   "cell_type": "code",
   "execution_count": 22,
   "metadata": {},
   "outputs": [],
   "source": [
    "df_train = df[df['Name'].isin(train_comps)]\n",
    "df_valid = df[df['Name'].isin(valid_comps)]\n",
    "df_test = df[df['Name'].isin(test_comps)]"
   ]
  },
  {
   "cell_type": "markdown",
   "metadata": {},
   "source": [
    "Let's now extract the input and output data"
   ]
  },
  {
   "cell_type": "code",
   "execution_count": 23,
   "metadata": {},
   "outputs": [],
   "source": [
    "X_train = np.vstack(df_train['Fingerprint'].tolist()) # Fingerprints to Matrix\n",
    "Ts_train = df_train['T_scaled'].to_numpy().reshape(-1,1)\n",
    "X_train = np.hstack((X_train, Ts_train)) # Concatenate the temperature as part of the input matrix\n",
    "y_train = df_train['ln_P'].to_numpy().reshape(-1,1)\n",
    "\n",
    "X_valid = np.vstack(df_valid['Fingerprint'].tolist()) # Fingerprints to Matrix\n",
    "Ts_valid = df_valid['T_scaled'].to_numpy().reshape(-1,1)\n",
    "X_valid = np.hstack((X_valid, Ts_valid)) # Concatenate the temperature as part of the input matrix\n",
    "y_valid = df_valid['ln_P'].to_numpy().reshape(-1,1)\n",
    "\n",
    "X_test = np.vstack(df_test['Fingerprint'].tolist()) # Fingerprints to Matrix\n",
    "Ts_test = df_test['T_scaled'].to_numpy().reshape(-1,1)\n",
    "X_test = np.hstack((X_test, Ts_test)) # Concatenate the temperature as part of the input matrix\n",
    "y_test = df_test['ln_P'].to_numpy().reshape(-1,1)"
   ]
  },
  {
   "cell_type": "markdown",
   "metadata": {},
   "source": [
    "### Train a Deep Neural Network\n",
    "\n",
    "Let's now build a 2 hidden-layer neural network using PyTorch with the [ReLU](https://en.wikipedia.org/wiki/Rectifier_(neural_networks)) activation function.\n",
    "\n",
    "For doing this, we need to create a class and define the `__init__` and the `forward` functions. In `__init__` we initialize the type of layers that we are going to use and in `forward` we apply the operations."
   ]
  },
  {
   "cell_type": "code",
   "execution_count": 24,
   "metadata": {},
   "outputs": [],
   "source": [
    "import torch\n",
    "import torch.nn as nn\n",
    "import torch.nn.functional as F\n",
    "torch.manual_seed(0)\n",
    "\n",
    "class DNN(nn.Module):\n",
    "    def __init__(self, in_dim, hidden_dim, out_dim):\n",
    "        super(DNN, self).__init__()\n",
    "        self.layer_1 = nn.Linear(in_dim, hidden_dim)\n",
    "        self.layer_2 = nn.Linear(hidden_dim, hidden_dim)\n",
    "        self.layer_3 = nn.Linear(hidden_dim, out_dim)\n",
    "        \n",
    "    def forward(self, x):\n",
    "        x = F.relu(self.layer_1(x))\n",
    "        x = F.relu(self.layer_2(x))\n",
    "        x = self.layer_3(x)\n",
    "        return x"
   ]
  },
  {
   "cell_type": "markdown",
   "metadata": {},
   "source": [
    "Now, we intialize our model"
   ]
  },
  {
   "cell_type": "code",
   "execution_count": 25,
   "metadata": {},
   "outputs": [],
   "source": [
    "model = DNN(X_train.shape[1], 20, 1)"
   ]
  },
  {
   "cell_type": "markdown",
   "metadata": {},
   "source": [
    "We can count the number of trainable model parameters using the following function"
   ]
  },
  {
   "cell_type": "code",
   "execution_count": 26,
   "metadata": {},
   "outputs": [
    {
     "data": {
      "text/plain": [
       "41441"
      ]
     },
     "execution_count": 26,
     "metadata": {},
     "output_type": "execute_result"
    }
   ],
   "source": [
    "def count_parameters(model):\n",
    "    return sum(p.numel() for p in model.parameters() if p.requires_grad)\n",
    "\n",
    "count_parameters(model)"
   ]
  },
  {
   "cell_type": "markdown",
   "metadata": {},
   "source": [
    "We have now initialized our model with some parameters using the default Kaiming uniform initilization procedure. Other intizalization procedures are also [available](https://pytorch.org/docs/master/nn.init.html).\n",
    "\n",
    "Now, for training our model, we need to define the [loss function](https://pytorch.org/docs/stable/nn.html#loss-functions)"
   ]
  },
  {
   "cell_type": "code",
   "execution_count": 27,
   "metadata": {},
   "outputs": [],
   "source": [
    "loss_function = nn.MSELoss()"
   ]
  },
  {
   "cell_type": "markdown",
   "metadata": {},
   "source": [
    "and the [optimization algorithm](https://pytorch.org/docs/stable/optim.html#algorithms) to be used, for which we should pass the model parameters that will be adjusted by it and the optimizer parameters (e.g., learning rate)."
   ]
  },
  {
   "cell_type": "code",
   "execution_count": 28,
   "metadata": {},
   "outputs": [],
   "source": [
    "optimizer = torch.optim.Adam(model.parameters(), lr=0.002)"
   ]
  },
  {
   "cell_type": "markdown",
   "metadata": {},
   "source": [
    "Now, we can construct the training loop that performs the following steps:\n",
    "\n",
    "* Forward propagation\n",
    "* Backward propagation\n",
    "* Update of model parameters\n",
    "\n",
    "Notice that if you are running this from Colab, it is possible to get access to [GPUs](https://en.wikipedia.org/wiki/Graphics_processing_unit) that speed-up the training and evaluation of the model! 😃 This is one of the great advantages of using Colab!\n",
    "\n",
    "To abilitate the GPU in Colab do the following:\n",
    "1. Click on `Runtime` in the upper menu.\n",
    "2. Click on `Change runtime type`.\n",
    "3. On the `Hardware accelerator` select `GPU`.\n",
    "\n",
    "```{important}\n",
    "When using a GPU, you should send the model and the data to the GPU!\n",
    "```"
   ]
  },
  {
   "cell_type": "code",
   "execution_count": 29,
   "metadata": {},
   "outputs": [
    {
     "data": {
      "application/vnd.jupyter.widget-view+json": {
       "model_id": "7f782b59fecb48d29fb4b2c821b07e10",
       "version_major": 2,
       "version_minor": 0
      },
      "text/plain": [
       "  0%|          | 0/200 [00:00<?, ?it/s]"
      ]
     },
     "metadata": {},
     "output_type": "display_data"
    }
   ],
   "source": [
    "n_epochs = 200\n",
    "\n",
    "# Send model and data to device\n",
    "device = torch.device('cuda' if torch.cuda.is_available() else 'cpu')\n",
    "model = model.to(device)\n",
    "X_train_torch = torch.from_numpy(X_train).float().to(device)\n",
    "y_train_torch = torch.from_numpy(y_train).float().to(device)\n",
    "\n",
    "X_valid_torch = torch.from_numpy(X_valid).float().to(device)\n",
    "y_valid_torch = torch.from_numpy(y_valid).float().to(device)\n",
    "\n",
    "losses = np.zeros((n_epochs, 2))\n",
    "for epoch in tqdm(range(n_epochs)):\n",
    "    model.train()\n",
    "    # Forward propagation\n",
    "    y_train_pred = model(X_train_torch)\n",
    "    loss = loss_function(y_train_pred, y_train_torch)\n",
    "    losses[epoch,0] = loss.item()\n",
    "    \n",
    "    # Backward propagation\n",
    "    model.zero_grad()\n",
    "    loss.backward()\n",
    "    \n",
    "    # Update of model parameters\n",
    "    optimizer.step()\n",
    "    \n",
    "    # Evaluate model in validation set\n",
    "    model.eval()\n",
    "    with torch.no_grad():\n",
    "        y_valid_pred = model(X_valid_torch)\n",
    "        loss = loss_function(y_valid_pred, y_valid_torch)\n",
    "        losses[epoch,1] = loss.item()\n",
    "    "
   ]
  },
  {
   "cell_type": "markdown",
   "metadata": {},
   "source": [
    "Let's now plot the loss function across the epochs"
   ]
  },
  {
   "cell_type": "code",
   "execution_count": 30,
   "metadata": {},
   "outputs": [
    {
     "data": {
      "image/png": "[encoded data removed]",
      "text/plain": [
       "<Figure size 640x480 with 1 Axes>"
      ]
     },
     "metadata": {},
     "output_type": "display_data"
    }
   ],
   "source": [
    "plt.plot(losses[:,0], label='Train')\n",
    "plt.plot(losses[:,1], label='Valid')\n",
    "plt.ylabel('Loss')\n",
    "plt.xlabel('Epoch')\n",
    "plt.legend()\n",
    "plt.show()"
   ]
  },
  {
   "cell_type": "markdown",
   "metadata": {},
   "source": [
    "Observe that over the epochs the model parameters are being learned and the training loss decreases. However, notice that the validation loss starts to decrease but at some point it increases again. This is a clear evidence of overfitting!\n",
    "\n",
    "Do you remember some ways to tackle overfitting in neural networks?"
   ]
  },
  {
   "cell_type": "markdown",
   "metadata": {},
   "source": [
    "### Exercise - implement Early stopping ❗❗\n",
    "\n",
    "* Check out how early stopping was implemented [here](https://stackoverflow.com/questions/71998978/early-stopping-in-pytorch). And apply it to the training of our previous network."
   ]
  },
  {
   "cell_type": "code",
   "execution_count": 31,
   "metadata": {},
   "outputs": [],
   "source": [
    "# Your code here"
   ]
  },
  {
   "cell_type": "markdown",
   "metadata": {},
   "source": [
    "Finally, let's see the performance of the model in the test set using the [mean absolute percentage error](https://en.wikipedia.org/wiki/Mean_absolute_percentage_error)"
   ]
  },
  {
   "cell_type": "code",
   "execution_count": 32,
   "metadata": {},
   "outputs": [
    {
     "name": "stdout",
     "output_type": "stream",
     "text": [
      "MAPE:  2.54968246029853\n"
     ]
    }
   ],
   "source": [
    "from sklearn.metrics import mean_absolute_percentage_error as MAPE\n",
    "\n",
    "X_test_torch = torch.from_numpy(X_test).float().to(device)\n",
    "\n",
    "model.eval()\n",
    "with torch.no_grad():\n",
    "    y_test_pred = model(X_test_torch).numpy()\n",
    "\n",
    "print('MAPE: ', MAPE(y_test, y_test_pred))"
   ]
  },
  {
   "cell_type": "markdown",
   "metadata": {},
   "source": [
    "Quite impressive result for a general vapor pressure model of this kind right? Deep learning is indeed a powerful tool 🤓"
   ]
  },
  {
   "cell_type": "markdown",
   "metadata": {},
   "source": [
    "### Hyperparameter optimization\n",
    "\n",
    "There is still one important aspect to learn: hyperparameter optimization. In the previous implementation we used 2 hidden-layers and a constant hidden-size accross the model of 20. Also, we just decided for a learning rate of 0.002.\n",
    "\n",
    "Let's tune one of these hyperparameters, notice that we are not going to use early stopping here, but this could be easily implemented here too! Feel free to try it out yourself"
   ]
  },
  {
   "cell_type": "code",
   "execution_count": 33,
   "metadata": {},
   "outputs": [],
   "source": [
    "hidden_sizes = [5, 10, 30, 40]"
   ]
  },
  {
   "cell_type": "code",
   "execution_count": 35,
   "metadata": {},
   "outputs": [
    {
     "name": "stdout",
     "output_type": "stream",
     "text": [
      "Hidden-size:  5\n",
      "Model parameters:  10286\n"
     ]
    },
    {
     "data": {
      "application/vnd.jupyter.widget-view+json": {
       "model_id": "0c0b28bc44b645448ba6b9171d2f05d5",
       "version_major": 2,
       "version_minor": 0
      },
      "text/plain": [
       "  0%|          | 0/100 [00:00<?, ?it/s]"
      ]
     },
     "metadata": {},
     "output_type": "display_data"
    },
    {
     "name": "stdout",
     "output_type": "stream",
     "text": [
      "Hidden-size:  10\n",
      "Model parameters:  20621\n"
     ]
    },
    {
     "data": {
      "application/vnd.jupyter.widget-view+json": {
       "model_id": "3c5548eee18d42beabb8243289f5d122",
       "version_major": 2,
       "version_minor": 0
      },
      "text/plain": [
       "  0%|          | 0/100 [00:00<?, ?it/s]"
      ]
     },
     "metadata": {},
     "output_type": "display_data"
    },
    {
     "name": "stdout",
     "output_type": "stream",
     "text": [
      "Hidden-size:  30\n",
      "Model parameters:  62461\n"
     ]
    },
    {
     "data": {
      "application/vnd.jupyter.widget-view+json": {
       "model_id": "abe7fd29c24c4877a97ef55f7f870036",
       "version_major": 2,
       "version_minor": 0
      },
      "text/plain": [
       "  0%|          | 0/100 [00:00<?, ?it/s]"
      ]
     },
     "metadata": {},
     "output_type": "display_data"
    },
    {
     "name": "stdout",
     "output_type": "stream",
     "text": [
      "Hidden-size:  40\n",
      "Model parameters:  83681\n"
     ]
    },
    {
     "data": {
      "application/vnd.jupyter.widget-view+json": {
       "model_id": "053e2f275b2c46be86971ffd5a82b8b9",
       "version_major": 2,
       "version_minor": 0
      },
      "text/plain": [
       "  0%|          | 0/100 [00:00<?, ?it/s]"
      ]
     },
     "metadata": {},
     "output_type": "display_data"
    }
   ],
   "source": [
    "n_epochs = 100\n",
    "\n",
    "params_lst = list()\n",
    "valid_mape_lst = list()\n",
    "models = list()\n",
    "for hs in hidden_sizes:\n",
    "    \n",
    "    model = DNN(X_train.shape[1], hs, 1)\n",
    "    model = model.to(device)\n",
    "    \n",
    "    model_params = count_parameters(model)\n",
    "    print('Hidden-size: ', hs)\n",
    "    print('Model parameters: ', model_params)\n",
    "    \n",
    "    losses = np.zeros((n_epochs, 2))\n",
    "    for epoch in tqdm(range(n_epochs)):\n",
    "        model.train()\n",
    "        # Forward propagation\n",
    "        y_train_pred = model(X_train_torch)\n",
    "        loss = loss_function(y_train_pred, y_train_torch)\n",
    "        losses[epoch,0] = loss.item()\n",
    "\n",
    "        # Backward propagation\n",
    "        model.zero_grad()\n",
    "        loss.backward()\n",
    "\n",
    "        # Update of model parameters\n",
    "        optimizer.step()\n",
    "\n",
    "    # Evaluate final model in validation set\n",
    "    models.append(model)\n",
    "    model.eval()\n",
    "    with torch.no_grad():\n",
    "        y_valid_pred = model(X_valid_torch)\n",
    "        mape = MAPE(y_valid_torch, y_valid_pred)\n",
    "    params_lst.append(model_params)\n",
    "    valid_mape_lst.append(mape)       "
   ]
  },
  {
   "cell_type": "code",
   "execution_count": 36,
   "metadata": {},
   "outputs": [
    {
     "name": "stdout",
     "output_type": "stream",
     "text": [
      "Best hidden size:  40\n",
      "Valid MAPE 1.0133109\n"
     ]
    }
   ],
   "source": [
    "best_idx = np.argmin(valid_mape_lst)\n",
    "print('Best hidden size: ', hidden_sizes[best_idx])\n",
    "print('Valid MAPE', valid_mape_lst[best_idx])"
   ]
  },
  {
   "cell_type": "code",
   "execution_count": 37,
   "metadata": {},
   "outputs": [
    {
     "name": "stdout",
     "output_type": "stream",
     "text": [
      "MAPE:  1.0165633850569595\n"
     ]
    }
   ],
   "source": [
    "model.eval()\n",
    "with torch.no_grad():\n",
    "    y_test_pred = model(X_test_torch).numpy()\n",
    "\n",
    "print('MAPE: ', MAPE(y_test, y_test_pred))"
   ]
  },
  {
   "cell_type": "markdown",
   "metadata": {},
   "source": [
    "A somehow significant improvement, right?\n",
    "\n",
    "More efficient tools for hyperparameter optimization are available (e.g., [Ray Tune](https://docs.ray.io/en/latest/tune/index.html), [Optuna](https://optuna.org/), [HyperOpt](https://github.com/hyperopt/hyperopt)) which implement advanced techniques like Bayesian Optimization. Feel free to try them out!"
   ]
  },
  {
   "cell_type": "markdown",
   "metadata": {},
   "source": [
    "## References\n",
    "\n",
    "```{bibliography}\n",
    ":filter: docname in docnames\n",
    "```"
   ]
  }
 ],
 "metadata": {
  "colab": {
   "provenance": []
  },
  "kernelspec": {
   "display_name": "Python 3 (ipykernel)",
   "language": "python",
   "name": "python3"
  },
  "language_info": {
   "codemirror_mode": {
    "name": "ipython",
    "version": 3
   },
   "file_extension": ".py",
   "mimetype": "text/x-python",
   "name": "python",
   "nbconvert_exporter": "python",
   "pygments_lexer": "ipython3",
   "version": "3.7.15"
  }
 },
 "nbformat": 4,
 "nbformat_minor": 1
}
